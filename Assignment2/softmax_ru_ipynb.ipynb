{
 "cells": [
  {
   "cell_type": "markdown",
   "metadata": {
    "id": "vbvtS51lcXuF",
    "tags": [
     "pdf-title"
    ]
   },
   "source": [
    "# Линейный классификатор Softmax \n",
    "\n",
    "Для выполнения этого задания нужно будет дописать код в этом ноутбуке и внешнем файле classifiers/softmax.py \n",
    "\n",
    "Как и в упражнении с классификатором SVM, вам предстоит:\n",
    "\n",
    "- реализовать векторизованную функцию потерь (**loss**) для Softmax классификатора\n",
    "- реализовать векторизованную функцию для вычисления **аналитического градиента**\n",
    "- **проверить свою реализацию** с градиентом, вычисленным методом конечных разностей\n",
    "- **найти лучшие learning rate и regularization** с помощью валидационной выборки\n",
    "- **оптимизировать** функцию потерь с помощью градиентного спуска **SGD**\n",
    "- **визуализировать** матрицу оптимальных весов.\n"
   ]
  },
  {
   "cell_type": "code",
   "execution_count": 1,
   "metadata": {
    "colab": {
     "base_uri": "https://localhost:8080/",
     "height": 496
    },
    "id": "Tsdd-cN0cXuM",
    "outputId": "38d66204-0128-4f77-8f8a-8f9b520e5cc8"
   },
   "outputs": [
    {
     "name": "stdout",
     "output_type": "stream",
     "text": [
      "Cloning into 'tad_ml_dl_2021'...\n",
      "remote: Enumerating objects: 201, done.\u001b[K\n",
      "remote: Counting objects: 100% (201/201), done.\u001b[K\n",
      "remote: Compressing objects: 100% (163/163), done.\u001b[K\n",
      "remote: Total 201 (delta 68), reused 118 (delta 23), pack-reused 0\u001b[K\n",
      "Receiving objects: 100% (201/201), 448.77 KiB | 2.04 MiB/s, done.\n",
      "Resolving deltas: 100% (68/68), done.\n",
      "--2021-02-23 10:46:48--  http://www.cs.toronto.edu/~kriz/cifar-10-python.tar.gz\n",
      "Resolving www.cs.toronto.edu (www.cs.toronto.edu)... 128.100.3.30\n",
      "Connecting to www.cs.toronto.edu (www.cs.toronto.edu)|128.100.3.30|:80... connected.\n",
      "HTTP request sent, awaiting response... 200 OK\n",
      "Length: 170498071 (163M) [application/x-gzip]\n",
      "Saving to: ‘cifar-10-python.tar.gz’\n",
      "\n",
      "cifar-10-python.tar 100%[===================>] 162.60M  44.6MB/s    in 4.1s    \n",
      "\n",
      "2021-02-23 10:46:52 (40.1 MB/s) - ‘cifar-10-python.tar.gz’ saved [170498071/170498071]\n",
      "\n",
      "cifar-10-batches-py/\n",
      "cifar-10-batches-py/data_batch_4\n",
      "cifar-10-batches-py/readme.html\n",
      "cifar-10-batches-py/test_batch\n",
      "cifar-10-batches-py/data_batch_3\n",
      "cifar-10-batches-py/batches.meta\n",
      "cifar-10-batches-py/data_batch_2\n",
      "cifar-10-batches-py/data_batch_5\n",
      "cifar-10-batches-py/data_batch_1\n"
     ]
    },
    {
     "data": {
      "application/vnd.google.colaboratory.intrinsic+json": {
       "type": "string"
      },
      "text/plain": [
       "'/content/tad_ml_dl_2021/Assignment2'"
      ]
     },
     "execution_count": 1,
     "metadata": {
      "tags": []
     },
     "output_type": "execute_result"
    }
   ],
   "source": [
    "# Запустите эту ячейку если вы работаете из Google Colab\n",
    "# На локальной машине запускать не нужно\n",
    "!git clone https://github.com/balezz/tad_ml_dl_2021.git\n",
    "!cd tad_ml_dl_2021/Assignment2\n",
    "import os\n",
    "os.chdir('tad_ml_dl_2021/Assignment2')\n",
    "!wget http://www.cs.toronto.edu/~kriz/cifar-10-python.tar.gz -O cifar-10-python.tar.gz\n",
    "!tar -xzvf cifar-10-python.tar.gz \n",
    "os.getcwd()"
   ]
  },
  {
   "cell_type": "code",
   "execution_count": 2,
   "metadata": {
    "id": "VfCFCiCHcXuN",
    "tags": [
     "pdf-ignore"
    ]
   },
   "outputs": [],
   "source": [
    "import random\n",
    "import numpy as np\n",
    "from lib.data_utils import load_CIFAR10\n",
    "import matplotlib.pyplot as plt\n",
    "\n",
    "%matplotlib inline\n",
    "plt.rcParams['figure.figsize'] = (10.0, 8.0) # set default size of plots\n",
    "plt.rcParams['image.interpolation'] = 'nearest'\n",
    "plt.rcParams['image.cmap'] = 'gray'\n",
    "\n",
    "%load_ext autoreload\n",
    "%autoreload 2"
   ]
  },
  {
   "cell_type": "code",
   "execution_count": 3,
   "metadata": {
    "colab": {
     "base_uri": "https://localhost:8080/"
    },
    "id": "UMT0QZfNcXuN",
    "outputId": "9d5b9dcd-cb9e-4c4c-a7d2-3a3809e14d54",
    "tags": [
     "pdf-ignore"
    ]
   },
   "outputs": [
    {
     "name": "stdout",
     "output_type": "stream",
     "text": [
      "Train data shape:  (49000, 3073)\n",
      "Train labels shape:  (49000,)\n",
      "Validation data shape:  (1000, 3073)\n",
      "Validation labels shape:  (1000,)\n",
      "Test data shape:  (1000, 3073)\n",
      "Test labels shape:  (1000,)\n",
      "dev data shape:  (500, 3073)\n",
      "dev labels shape:  (500,)\n"
     ]
    }
   ],
   "source": [
    "def get_CIFAR10_data(num_training=49000, num_validation=1000, num_test=1000, num_dev=500):\n",
    "    \"\"\"\n",
    "    Загрузка датасета CIFAR-10 и нормализация данных.\n",
    "    Алгоритм такой же как в упражнении с SVM, только обернут в функцию.  \n",
    "    \"\"\"\n",
    "    cifar10_dir = 'cifar-10-batches-py'\n",
    "    \n",
    "    try:\n",
    "       del X_train, y_train\n",
    "       del X_test, y_test\n",
    "       print('Clear previously loaded data.')\n",
    "    except:\n",
    "       pass\n",
    "\n",
    "    X_train, y_train, X_test, y_test = load_CIFAR10(cifar10_dir)\n",
    "    \n",
    "    mask = list(range(num_training, num_training + num_validation))\n",
    "    X_val = X_train[mask]\n",
    "    y_val = y_train[mask]\n",
    "    mask = list(range(num_training))\n",
    "    X_train = X_train[mask]\n",
    "    y_train = y_train[mask]\n",
    "    mask = list(range(num_test))\n",
    "    X_test = X_test[mask]\n",
    "    y_test = y_test[mask]\n",
    "    mask = np.random.choice(num_training, num_dev, replace=False)\n",
    "    X_dev = X_train[mask]\n",
    "    y_dev = y_train[mask]\n",
    "    \n",
    "    X_train = np.reshape(X_train, (X_train.shape[0], -1))\n",
    "    X_val = np.reshape(X_val, (X_val.shape[0], -1))\n",
    "    X_test = np.reshape(X_test, (X_test.shape[0], -1))\n",
    "    X_dev = np.reshape(X_dev, (X_dev.shape[0], -1))\n",
    "    \n",
    "    mean_image = np.mean(X_train, axis = 0)\n",
    "    X_train -= mean_image\n",
    "    X_val -= mean_image\n",
    "    X_test -= mean_image\n",
    "    X_dev -= mean_image\n",
    "    \n",
    "    X_train = np.hstack([X_train, np.ones((X_train.shape[0], 1))])\n",
    "    X_val = np.hstack([X_val, np.ones((X_val.shape[0], 1))])\n",
    "    X_test = np.hstack([X_test, np.ones((X_test.shape[0], 1))])\n",
    "    X_dev = np.hstack([X_dev, np.ones((X_dev.shape[0], 1))])\n",
    "    \n",
    "    return X_train, y_train, X_val, y_val, X_test, y_test, X_dev, y_dev\n",
    "\n",
    "\n",
    "# Вызов функции для получения подвыборок train, val, test, dev.\n",
    "X_train, y_train, X_val, y_val, X_test, y_test, X_dev, y_dev = get_CIFAR10_data()\n",
    "print('Train data shape: ', X_train.shape)\n",
    "print('Train labels shape: ', y_train.shape)\n",
    "print('Validation data shape: ', X_val.shape)\n",
    "print('Validation labels shape: ', y_val.shape)\n",
    "print('Test data shape: ', X_test.shape)\n",
    "print('Test labels shape: ', y_test.shape)\n",
    "print('dev data shape: ', X_dev.shape)\n",
    "print('dev labels shape: ', y_dev.shape)"
   ]
  },
  {
   "cell_type": "markdown",
   "metadata": {
    "id": "JgA0hF9FcXuO"
   },
   "source": [
    "## Softmax Classifier\n",
    "\n",
    "Your code for this section will all be written inside `lib/classifiers/softmax.py`.\n"
   ]
  },
  {
   "cell_type": "code",
   "execution_count": 4,
   "metadata": {
    "colab": {
     "base_uri": "https://localhost:8080/"
    },
    "id": "w1stwmZrcXuO",
    "outputId": "c83f7548-8bb0-4828-9ba9-26f1ab5e85a9"
   },
   "outputs": [
    {
     "name": "stdout",
     "output_type": "stream",
     "text": [
      "loss: 2.304801\n",
      "Начальное значение Loss = 2.302585\n"
     ]
    }
   ],
   "source": [
    "# Реализуйте функцию вычисления softmax loss в файле classifiers/softmax.py\n",
    "# с помощью циклов\n",
    "from lib.classifiers.softmax import softmax_loss_naive\n",
    "import time\n",
    "\n",
    "# Инициализируем веса значениями близкими, но не равными нулю\n",
    "W = np.random.randn(3073, 10) * 0.0001\n",
    "loss, grad = softmax_loss_naive(W, X_dev, y_dev, 0.0)\n",
    "\n",
    "# Проверим правильность реализации\n",
    "# Для 10 классов loss должен быть около -log(0.1).\n",
    "print('loss: %f' % loss)\n",
    "print('Начальное значение Loss = %f' % (-np.log(0.1)))"
   ]
  },
  {
   "cell_type": "markdown",
   "metadata": {
    "id": "rzNC-8iucXuP",
    "tags": [
     "pdf-inline"
    ]
   },
   "source": [
    "**Вопрос 1**\n",
    "\n",
    "Объясните, почему мы предположили, что для 10 классов при весах близких к нулю\n",
    " softmax loss приблизительно равен -log(0.1)?  \n",
    "$\\color{blue}{\\textit Ответ:}$ *заполнить здесь* \n",
    "\n"
   ]
  },
  {
   "cell_type": "code",
   "execution_count": 5,
   "metadata": {
    "colab": {
     "base_uri": "https://localhost:8080/"
    },
    "id": "HfdDxnFqcXuP",
    "outputId": "21940d46-dfaf-4d0e-b076-a81d04a901e7"
   },
   "outputs": [
    {
     "name": "stdout",
     "output_type": "stream",
     "text": [
      "numerical: 1.961348 analytic: 1.961348, relative error: 1.552254e-08\n",
      "numerical: 3.179075 analytic: 3.179075, relative error: 6.084582e-09\n",
      "numerical: -0.813560 analytic: -0.813560, relative error: 1.618782e-08\n",
      "numerical: 2.136326 analytic: 2.136326, relative error: 1.387450e-08\n",
      "numerical: -3.073843 analytic: -3.073843, relative error: 3.359552e-08\n",
      "numerical: 0.022816 analytic: 0.022816, relative error: 9.904514e-07\n",
      "numerical: 1.407395 analytic: 1.407395, relative error: 3.048451e-08\n",
      "numerical: 1.471907 analytic: 1.471907, relative error: 1.042523e-08\n",
      "numerical: -2.253937 analytic: -2.253937, relative error: 2.963557e-09\n",
      "numerical: 2.049059 analytic: 2.049058, relative error: 1.220464e-08\n",
      "numerical: -0.027380 analytic: -0.027380, relative error: 2.500715e-07\n",
      "numerical: 0.005608 analytic: 0.005608, relative error: 2.578730e-07\n",
      "numerical: 0.247284 analytic: 0.247284, relative error: 6.943000e-08\n",
      "numerical: 1.544150 analytic: 1.544150, relative error: 4.133109e-08\n",
      "numerical: 1.200709 analytic: 1.200709, relative error: 1.843691e-09\n",
      "numerical: -1.402333 analytic: -1.402333, relative error: 1.990285e-08\n",
      "numerical: -1.924401 analytic: -1.924401, relative error: 3.462738e-09\n",
      "numerical: -1.116688 analytic: -1.116688, relative error: 4.637115e-09\n",
      "numerical: 1.062932 analytic: 1.062932, relative error: 4.374305e-08\n",
      "numerical: -0.563482 analytic: -0.563482, relative error: 6.697299e-08\n"
     ]
    }
   ],
   "source": [
    "# Дополните функцию softmax_loss_naive вычислением градиента dW\n",
    "# с помощью вложенных циклов.\n",
    "loss, grad = softmax_loss_naive(W, X_dev, y_dev, 0.0)\n",
    "\n",
    "# Как и в упражнении с SVM, используем метод конечных разностей для проверки.\n",
    "from lib.gradient_check import grad_check_sparse\n",
    "f = lambda w: softmax_loss_naive(w, X_dev, y_dev, 0.0)[0]\n",
    "grad_numerical = grad_check_sparse(f, W, grad, 10)\n",
    "\n",
    "# Тест должен быть пройден и при ненулевой регуляризации\n",
    "loss, grad = softmax_loss_naive(W, X_dev, y_dev, 5e1)\n",
    "f = lambda w: softmax_loss_naive(w, X_dev, y_dev, 5e1)[0]\n",
    "grad_numerical = grad_check_sparse(f, W, grad, 10)"
   ]
  },
  {
   "cell_type": "code",
   "execution_count": 7,
   "metadata": {
    "colab": {
     "base_uri": "https://localhost:8080/"
    },
    "id": "uaUf6N8BcXuP",
    "outputId": "fb89b7eb-80d2-44bf-ae1d-14b9207b434c"
   },
   "outputs": [
    {
     "name": "stdout",
     "output_type": "stream",
     "text": [
      "naive loss: 2.304801e+00 computed in 0.127751s\n",
      "vectorized loss: 2.304801e+00 computed in 0.009762s\n",
      "Loss difference: 0.000000\n",
      "Gradient difference: 0.000000\n"
     ]
    }
   ],
   "source": [
    "# Теперь реализуем более эффективную векторизованную версию функции вычисления loss и dW\n",
    "# Оценим, насколько быстрее стали вычисления\n",
    "tic = time.time()\n",
    "loss_naive, grad_naive = softmax_loss_naive(W, X_dev, y_dev, 0.000005)\n",
    "toc = time.time()\n",
    "print('naive loss: %e computed in %fs' % (loss_naive, toc - tic))\n",
    "\n",
    "from lib.classifiers.softmax import softmax_loss_vectorized\n",
    "tic = time.time()\n",
    "loss_vectorized, grad_vectorized = softmax_loss_vectorized(W, X_dev, y_dev, 0.000005)\n",
    "toc = time.time()\n",
    "print('vectorized loss: %e computed in %fs' % (loss_vectorized, toc - tic))\n",
    "\n",
    "# Для оценки близости двух матриц градиентов используем норму Фробениуса\n",
    "grad_difference = np.linalg.norm(grad_naive - grad_vectorized, ord='fro')\n",
    "print('Loss difference: %f' % np.abs(loss_naive - loss_vectorized))\n",
    "print('Gradient difference: %f' % grad_difference)"
   ]
  },
  {
   "cell_type": "code",
   "execution_count": 17,
   "metadata": {
    "colab": {
     "base_uri": "https://localhost:8080/"
    },
    "id": "tuning",
    "outputId": "3f46da83-93a9-49b5-efd8-4da3728d4c58",
    "tags": [
     "code"
    ]
   },
   "outputs": [
    {
     "name": "stdout",
     "output_type": "stream",
     "text": [
      "For iter 0 accuracy: 0.322\n",
      "For iter 1 accuracy: 0.286\n",
      "For iter 2 accuracy: 0.338\n",
      "For iter 3 accuracy: 0.349\n",
      "For iter 4 accuracy: 0.349\n",
      "For iter 5 accuracy: 0.364\n",
      "For iter 6 accuracy: 0.362\n",
      "For iter 7 accuracy: 0.355\n",
      "For iter 8 accuracy: 0.347\n",
      "For iter 9 accuracy: 0.351\n",
      "For iter 10 accuracy: 0.311\n",
      "For iter 11 accuracy: 0.311\n",
      "For iter 12 accuracy: 0.357\n",
      "For iter 13 accuracy: 0.352\n",
      "For iter 14 accuracy: 0.35\n",
      "For iter 15 accuracy: 0.347\n",
      "For iter 16 accuracy: 0.357\n",
      "For iter 17 accuracy: 0.353\n",
      "For iter 18 accuracy: 0.307\n",
      "For iter 19 accuracy: 0.347\n",
      "For iter 20 accuracy: 0.37\n",
      "For iter 21 accuracy: 0.343\n",
      "For iter 22 accuracy: 0.347\n",
      "For iter 23 accuracy: 0.291\n",
      "For iter 24 accuracy: 0.336\n",
      "For iter 25 accuracy: 0.364\n",
      "For iter 26 accuracy: 0.345\n",
      "For iter 27 accuracy: 0.298\n",
      "For iter 28 accuracy: 0.362\n",
      "For iter 29 accuracy: 0.365\n",
      "For iter 30 accuracy: 0.368\n",
      "For iter 31 accuracy: 0.354\n",
      "For iter 32 accuracy: 0.351\n",
      "For iter 33 accuracy: 0.367\n",
      "For iter 34 accuracy: 0.335\n",
      "For iter 35 accuracy: 0.322\n",
      "For iter 36 accuracy: 0.359\n",
      "For iter 37 accuracy: 0.29\n",
      "For iter 38 accuracy: 0.345\n",
      "For iter 39 accuracy: 0.36\n",
      "For iter 40 accuracy: 0.354\n",
      "For iter 41 accuracy: 0.32\n",
      "For iter 42 accuracy: 0.337\n",
      "For iter 43 accuracy: 0.364\n",
      "For iter 44 accuracy: 0.342\n",
      "For iter 45 accuracy: 0.358\n",
      "For iter 46 accuracy: 0.339\n",
      "For iter 47 accuracy: 0.356\n",
      "For iter 48 accuracy: 0.354\n",
      "For iter 49 accuracy: 0.345\n",
      "For iter 50 accuracy: 0.341\n",
      "For iter 51 accuracy: 0.339\n",
      "For iter 52 accuracy: 0.336\n",
      "For iter 53 accuracy: 0.317\n",
      "For iter 54 accuracy: 0.31\n",
      "For iter 55 accuracy: 0.307\n",
      "For iter 56 accuracy: 0.307\n",
      "For iter 57 accuracy: 0.333\n",
      "For iter 58 accuracy: 0.356\n",
      "For iter 59 accuracy: 0.335\n",
      "For iter 60 accuracy: 0.336\n",
      "For iter 61 accuracy: 0.32\n",
      "For iter 62 accuracy: 0.341\n",
      "For iter 63 accuracy: 0.343\n",
      "For iter 64 accuracy: 0.35\n",
      "For iter 65 accuracy: 0.36\n",
      "For iter 66 accuracy: 0.361\n",
      "For iter 67 accuracy: 0.334\n",
      "For iter 68 accuracy: 0.297\n",
      "For iter 69 accuracy: 0.314\n",
      "For iter 70 accuracy: 0.365\n",
      "For iter 71 accuracy: 0.355\n",
      "For iter 72 accuracy: 0.359\n",
      "For iter 73 accuracy: 0.346\n",
      "For iter 74 accuracy: 0.34\n",
      "For iter 75 accuracy: 0.364\n",
      "For iter 76 accuracy: 0.336\n",
      "For iter 77 accuracy: 0.317\n",
      "For iter 78 accuracy: 0.363\n",
      "For iter 79 accuracy: 0.341\n",
      "For iter 80 accuracy: 0.356\n",
      "For iter 81 accuracy: 0.343\n",
      "For iter 82 accuracy: 0.27\n",
      "For iter 83 accuracy: 0.34\n",
      "For iter 84 accuracy: 0.348\n",
      "For iter 85 accuracy: 0.33\n",
      "For iter 86 accuracy: 0.298\n",
      "For iter 87 accuracy: 0.261\n",
      "For iter 88 accuracy: 0.351\n",
      "For iter 89 accuracy: 0.359\n",
      "For iter 90 accuracy: 0.341\n",
      "For iter 91 accuracy: 0.364\n",
      "For iter 92 accuracy: 0.347\n",
      "For iter 93 accuracy: 0.313\n",
      "For iter 94 accuracy: 0.357\n",
      "For iter 95 accuracy: 0.351\n",
      "For iter 96 accuracy: 0.355\n",
      "For iter 97 accuracy: 0.337\n",
      "For iter 98 accuracy: 0.353\n",
      "For iter 99 accuracy: 0.334\n",
      "For iter 100 accuracy: 0.382\n",
      "For iter 101 accuracy: 0.339\n",
      "For iter 102 accuracy: 0.375\n",
      "For iter 103 accuracy: 0.339\n",
      "For iter 104 accuracy: 0.302\n",
      "For iter 105 accuracy: 0.35\n",
      "For iter 106 accuracy: 0.353\n",
      "For iter 107 accuracy: 0.368\n",
      "For iter 108 accuracy: 0.36\n",
      "For iter 109 accuracy: 0.368\n",
      "For iter 110 accuracy: 0.349\n",
      "For iter 111 accuracy: 0.344\n",
      "For iter 112 accuracy: 0.337\n",
      "For iter 113 accuracy: 0.344\n",
      "For iter 114 accuracy: 0.348\n",
      "For iter 115 accuracy: 0.361\n",
      "For iter 116 accuracy: 0.329\n",
      "For iter 117 accuracy: 0.335\n",
      "For iter 118 accuracy: 0.343\n",
      "For iter 119 accuracy: 0.376\n",
      "For iter 120 accuracy: 0.32\n",
      "For iter 121 accuracy: 0.351\n",
      "For iter 122 accuracy: 0.366\n",
      "For iter 123 accuracy: 0.301\n",
      "For iter 124 accuracy: 0.34\n",
      "For iter 125 accuracy: 0.383\n",
      "For iter 126 accuracy: 0.342\n",
      "For iter 127 accuracy: 0.355\n",
      "lr 2.512534e-07 reg 2.075170e+04 train accuracy: 0.303469 val accuracy: 0.307000\n",
      "lr 2.514805e-07 reg 1.315988e+04 train accuracy: 0.277184 val accuracy: 0.298000\n",
      "lr 2.520778e-07 reg 1.218451e+04 train accuracy: 0.262776 val accuracy: 0.261000\n",
      "lr 2.527833e-07 reg 1.153819e+04 train accuracy: 0.258551 val accuracy: 0.270000\n",
      "lr 2.531741e-07 reg 1.707920e+04 train accuracy: 0.283571 val accuracy: 0.302000\n",
      "lr 2.581821e-07 reg 1.595927e+04 train accuracy: 0.286265 val accuracy: 0.290000\n",
      "lr 2.618840e-07 reg 1.953473e+04 train accuracy: 0.303714 val accuracy: 0.314000\n",
      "lr 2.656359e-07 reg 3.489390e+04 train accuracy: 0.324265 val accuracy: 0.334000\n",
      "lr 2.656477e-07 reg 3.136101e+04 train accuracy: 0.331020 val accuracy: 0.330000\n",
      "lr 2.657994e-07 reg 2.085988e+04 train accuracy: 0.301286 val accuracy: 0.307000\n",
      "lr 2.672634e-07 reg 2.972043e+04 train accuracy: 0.328061 val accuracy: 0.337000\n",
      "lr 2.693764e-07 reg 4.097214e+04 train accuracy: 0.328714 val accuracy: 0.340000\n",
      "lr 2.735281e-07 reg 4.569945e+04 train accuracy: 0.331020 val accuracy: 0.345000\n",
      "lr 2.750351e-07 reg 1.536673e+04 train accuracy: 0.285510 val accuracy: 0.286000\n",
      "lr 2.786527e-07 reg 1.200262e+04 train accuracy: 0.273204 val accuracy: 0.298000\n",
      "lr 2.786856e-07 reg 4.256105e+04 train accuracy: 0.323061 val accuracy: 0.342000\n",
      "lr 2.825666e-07 reg 4.225468e+04 train accuracy: 0.329694 val accuracy: 0.357000\n",
      "lr 2.857450e-07 reg 3.016194e+04 train accuracy: 0.332327 val accuracy: 0.347000\n",
      "lr 2.894690e-07 reg 1.631191e+04 train accuracy: 0.299082 val accuracy: 0.311000\n",
      "lr 2.899612e-07 reg 4.412236e+04 train accuracy: 0.329776 val accuracy: 0.343000\n",
      "lr 2.902442e-07 reg 1.350723e+04 train accuracy: 0.289000 val accuracy: 0.297000\n",
      "lr 2.986273e-07 reg 3.036047e+04 train accuracy: 0.337694 val accuracy: 0.359000\n",
      "lr 2.992515e-07 reg 1.727435e+04 train accuracy: 0.308796 val accuracy: 0.313000\n",
      "lr 3.039974e-07 reg 2.674735e+04 train accuracy: 0.329327 val accuracy: 0.347000\n",
      "lr 3.074053e-07 reg 2.711212e+04 train accuracy: 0.341102 val accuracy: 0.349000\n",
      "lr 3.114104e-07 reg 1.853139e+04 train accuracy: 0.321327 val accuracy: 0.317000\n",
      "lr 3.117415e-07 reg 1.476667e+04 train accuracy: 0.299898 val accuracy: 0.301000\n",
      "lr 3.147752e-07 reg 2.852513e+04 train accuracy: 0.337306 val accuracy: 0.357000\n",
      "lr 3.173934e-07 reg 1.526373e+04 train accuracy: 0.306143 val accuracy: 0.310000\n",
      "lr 3.179615e-07 reg 4.086039e+04 train accuracy: 0.332898 val accuracy: 0.351000\n",
      "lr 3.222094e-07 reg 2.418520e+04 train accuracy: 0.326735 val accuracy: 0.336000\n",
      "lr 3.233193e-07 reg 4.165379e+04 train accuracy: 0.332408 val accuracy: 0.347000\n",
      "lr 3.321206e-07 reg 1.658695e+04 train accuracy: 0.312694 val accuracy: 0.322000\n",
      "lr 3.326769e-07 reg 1.570026e+04 train accuracy: 0.312673 val accuracy: 0.317000\n",
      "lr 3.341545e-07 reg 1.923797e+04 train accuracy: 0.323898 val accuracy: 0.335000\n",
      "lr 3.345735e-07 reg 2.025295e+04 train accuracy: 0.331531 val accuracy: 0.339000\n",
      "lr 3.359143e-07 reg 1.171121e+04 train accuracy: 0.295265 val accuracy: 0.291000\n",
      "lr 3.463774e-07 reg 1.859717e+04 train accuracy: 0.332878 val accuracy: 0.344000\n",
      "lr 3.478505e-07 reg 1.875591e+04 train accuracy: 0.332612 val accuracy: 0.329000\n",
      "lr 3.500444e-07 reg 1.454851e+04 train accuracy: 0.306286 val accuracy: 0.320000\n",
      "lr 3.502833e-07 reg 1.954022e+04 train accuracy: 0.331286 val accuracy: 0.336000\n",
      "lr 3.643901e-07 reg 3.244638e+04 train accuracy: 0.336776 val accuracy: 0.358000\n",
      "lr 3.678575e-07 reg 4.739473e+04 train accuracy: 0.326694 val accuracy: 0.337000\n",
      "lr 3.744699e-07 reg 1.390710e+04 train accuracy: 0.318796 val accuracy: 0.356000\n",
      "lr 3.865467e-07 reg 1.226510e+04 train accuracy: 0.313633 val accuracy: 0.307000\n",
      "lr 3.874324e-07 reg 1.695533e+04 train accuracy: 0.334408 val accuracy: 0.335000\n",
      "lr 3.916668e-07 reg 3.212300e+04 train accuracy: 0.339061 val accuracy: 0.364000\n",
      "lr 4.077060e-07 reg 1.309188e+04 train accuracy: 0.326429 val accuracy: 0.320000\n",
      "lr 4.095721e-07 reg 1.712820e+04 train accuracy: 0.336204 val accuracy: 0.350000\n",
      "lr 4.162382e-07 reg 4.537897e+04 train accuracy: 0.333245 val accuracy: 0.345000\n",
      "lr 4.184229e-07 reg 3.031577e+04 train accuracy: 0.346102 val accuracy: 0.356000\n",
      "lr 4.194696e-07 reg 1.640800e+04 train accuracy: 0.341592 val accuracy: 0.349000\n",
      "lr 4.247767e-07 reg 2.267743e+04 train accuracy: 0.341429 val accuracy: 0.355000\n",
      "lr 4.282000e-07 reg 1.277893e+04 train accuracy: 0.332796 val accuracy: 0.333000\n",
      "lr 4.284482e-07 reg 2.215291e+04 train accuracy: 0.346837 val accuracy: 0.361000\n",
      "lr 4.300842e-07 reg 1.495199e+04 train accuracy: 0.337796 val accuracy: 0.341000\n",
      "lr 4.332836e-07 reg 4.675572e+04 train accuracy: 0.327816 val accuracy: 0.341000\n",
      "lr 4.353167e-07 reg 3.056438e+04 train accuracy: 0.341714 val accuracy: 0.350000\n",
      "lr 4.353841e-07 reg 1.341072e+04 train accuracy: 0.330918 val accuracy: 0.344000\n",
      "lr 4.380132e-07 reg 2.462636e+04 train accuracy: 0.344061 val accuracy: 0.364000\n",
      "lr 4.393979e-07 reg 2.155586e+04 train accuracy: 0.340735 val accuracy: 0.351000\n",
      "lr 4.407285e-07 reg 1.768319e+04 train accuracy: 0.343061 val accuracy: 0.364000\n",
      "lr 4.439164e-07 reg 1.342854e+04 train accuracy: 0.337102 val accuracy: 0.339000\n",
      "lr 4.463046e-07 reg 4.163684e+04 train accuracy: 0.331571 val accuracy: 0.342000\n",
      "lr 4.516539e-07 reg 1.568766e+04 train accuracy: 0.338347 val accuracy: 0.334000\n",
      "lr 4.536046e-07 reg 2.764955e+04 train accuracy: 0.338245 val accuracy: 0.351000\n",
      "lr 4.595392e-07 reg 1.882617e+04 train accuracy: 0.348673 val accuracy: 0.359000\n",
      "lr 4.597693e-07 reg 4.374571e+04 train accuracy: 0.324735 val accuracy: 0.339000\n",
      "lr 4.638238e-07 reg 1.386409e+04 train accuracy: 0.345490 val accuracy: 0.351000\n",
      "lr 4.651588e-07 reg 4.075203e+04 train accuracy: 0.325714 val accuracy: 0.343000\n",
      "lr 4.666089e-07 reg 2.499735e+04 train accuracy: 0.342612 val accuracy: 0.364000\n",
      "lr 4.695311e-07 reg 1.263359e+04 train accuracy: 0.335551 val accuracy: 0.336000\n",
      "lr 4.705965e-07 reg 3.808574e+04 train accuracy: 0.343082 val accuracy: 0.357000\n",
      "lr 4.741259e-07 reg 3.112801e+04 train accuracy: 0.341306 val accuracy: 0.360000\n",
      "lr 4.758795e-07 reg 3.504763e+04 train accuracy: 0.335102 val accuracy: 0.335000\n",
      "lr 4.760596e-07 reg 4.261497e+04 train accuracy: 0.340347 val accuracy: 0.345000\n",
      "lr 4.870273e-07 reg 4.296165e+04 train accuracy: 0.327163 val accuracy: 0.341000\n",
      "lr 4.898171e-07 reg 3.624797e+04 train accuracy: 0.333449 val accuracy: 0.355000\n",
      "lr 4.926014e-07 reg 1.402696e+04 train accuracy: 0.340367 val accuracy: 0.343000\n",
      "lr 4.926278e-07 reg 1.498320e+04 train accuracy: 0.351408 val accuracy: 0.368000\n",
      "lr 5.019372e-07 reg 3.460825e+04 train accuracy: 0.333776 val accuracy: 0.343000\n",
      "lr 5.036387e-07 reg 3.394530e+04 train accuracy: 0.341510 val accuracy: 0.354000\n",
      "lr 5.119232e-07 reg 4.564630e+04 train accuracy: 0.336327 val accuracy: 0.347000\n",
      "lr 5.224849e-07 reg 1.928770e+04 train accuracy: 0.354143 val accuracy: 0.362000\n",
      "lr 5.285767e-07 reg 1.206847e+04 train accuracy: 0.341429 val accuracy: 0.352000\n",
      "lr 5.300108e-07 reg 1.132705e+04 train accuracy: 0.340837 val accuracy: 0.363000\n",
      "lr 5.324012e-07 reg 3.488513e+04 train accuracy: 0.336571 val accuracy: 0.351000\n",
      "lr 5.340619e-07 reg 1.823106e+04 train accuracy: 0.349857 val accuracy: 0.365000\n",
      "lr 5.449664e-07 reg 4.449791e+04 train accuracy: 0.315102 val accuracy: 0.338000\n",
      "lr 5.478129e-07 reg 4.144079e+04 train accuracy: 0.330531 val accuracy: 0.348000\n",
      "lr 5.479184e-07 reg 1.138598e+04 train accuracy: 0.345755 val accuracy: 0.353000\n",
      "lr 5.484746e-07 reg 1.539794e+04 train accuracy: 0.349204 val accuracy: 0.367000\n",
      "lr 5.578983e-07 reg 4.172340e+04 train accuracy: 0.313245 val accuracy: 0.322000\n",
      "lr 5.660993e-07 reg 4.461609e+04 train accuracy: 0.314857 val accuracy: 0.320000\n",
      "lr 5.684474e-07 reg 4.158869e+04 train accuracy: 0.333408 val accuracy: 0.339000\n",
      "lr 5.711327e-07 reg 2.108389e+04 train accuracy: 0.349959 val accuracy: 0.354000\n",
      "lr 5.736165e-07 reg 3.322903e+04 train accuracy: 0.336408 val accuracy: 0.348000\n",
      "lr 5.763699e-07 reg 3.408488e+04 train accuracy: 0.345429 val accuracy: 0.362000\n",
      "lr 5.774939e-07 reg 4.480097e+04 train accuracy: 0.325245 val accuracy: 0.311000\n",
      "lr 5.835657e-07 reg 2.604239e+04 train accuracy: 0.341061 val accuracy: 0.355000\n",
      "lr 5.848422e-07 reg 2.841022e+04 train accuracy: 0.339163 val accuracy: 0.364000\n",
      "lr 5.877266e-07 reg 1.848929e+04 train accuracy: 0.351633 val accuracy: 0.353000\n",
      "lr 5.880162e-07 reg 1.246989e+04 train accuracy: 0.352449 val accuracy: 0.349000\n",
      "lr 5.892221e-07 reg 4.427706e+04 train accuracy: 0.331347 val accuracy: 0.347000\n",
      "lr 5.894443e-07 reg 2.061616e+04 train accuracy: 0.354265 val accuracy: 0.359000\n",
      "lr 5.911511e-07 reg 3.035881e+04 train accuracy: 0.341918 val accuracy: 0.354000\n",
      "lr 6.094290e-07 reg 2.044060e+04 train accuracy: 0.347469 val accuracy: 0.341000\n",
      "lr 6.156385e-07 reg 2.147268e+04 train accuracy: 0.349265 val accuracy: 0.346000\n",
      "lr 6.158515e-07 reg 1.834368e+04 train accuracy: 0.351245 val accuracy: 0.360000\n",
      "lr 6.169453e-07 reg 2.709783e+04 train accuracy: 0.333367 val accuracy: 0.340000\n",
      "lr 6.309002e-07 reg 3.388457e+04 train accuracy: 0.332694 val accuracy: 0.350000\n",
      "lr 6.326544e-07 reg 1.487079e+04 train accuracy: 0.353898 val accuracy: 0.366000\n",
      "lr 6.337610e-07 reg 2.775465e+04 train accuracy: 0.340143 val accuracy: 0.353000\n",
      "lr 6.407162e-07 reg 1.776501e+04 train accuracy: 0.359776 val accuracy: 0.368000\n",
      "lr 6.481987e-07 reg 4.744957e+04 train accuracy: 0.319469 val accuracy: 0.337000\n",
      "lr 6.503579e-07 reg 2.352024e+04 train accuracy: 0.341837 val accuracy: 0.356000\n",
      "lr 6.559860e-07 reg 4.801159e+04 train accuracy: 0.327857 val accuracy: 0.340000\n",
      "lr 6.631318e-07 reg 1.659615e+04 train accuracy: 0.358898 val accuracy: 0.368000\n",
      "lr 6.639943e-07 reg 1.290684e+04 train accuracy: 0.355367 val accuracy: 0.376000\n",
      "lr 6.681868e-07 reg 1.243332e+04 train accuracy: 0.364673 val accuracy: 0.382000\n",
      "lr 6.726151e-07 reg 1.132121e+04 train accuracy: 0.355980 val accuracy: 0.365000\n",
      "lr 6.770321e-07 reg 1.976527e+04 train accuracy: 0.351469 val accuracy: 0.370000\n",
      "lr 6.997062e-07 reg 2.752585e+04 train accuracy: 0.341245 val accuracy: 0.355000\n",
      "lr 7.027268e-07 reg 1.794439e+04 train accuracy: 0.358571 val accuracy: 0.383000\n",
      "lr 7.039792e-07 reg 2.877932e+04 train accuracy: 0.348204 val accuracy: 0.360000\n",
      "lr 7.058581e-07 reg 1.187108e+04 train accuracy: 0.357286 val accuracy: 0.361000\n",
      "lr 7.064103e-07 reg 2.911813e+04 train accuracy: 0.323980 val accuracy: 0.336000\n",
      "lr 7.070966e-07 reg 1.197647e+04 train accuracy: 0.356531 val accuracy: 0.375000\n",
      "best validation accuracy achieved during cross-validation: 0.383000\n"
     ]
    }
   ],
   "source": [
    "# Используйте валидационную выборку для выбора лучших гиперпараметров \n",
    "# (learning rate and regularization strength)\n",
    "# Добейтесь точности не меньше 0.35 на выборке val.\n",
    "# Используйте словарь results в котором \n",
    "# ключи - кортеж  (learning_rate, regularization_strength)\n",
    "# значения - (training_accuracy, validation_accuracy)\n",
    "# Точность вычисляется как отношение числа верно предсказанных классов \n",
    "# к объему выборки\n",
    "from lib.classifiers.linear_classifier import Softmax\n",
    "results = {}\n",
    "best_val = -1\n",
    "best_softmax = None\n",
    "\n",
    "####################################################################################\n",
    "# TODO:                                                                            #\n",
    "# Напишите код, позволяющий найти лучшее значение гиперпараметров на валидационной #\n",
    "# выборке. Для каждой комбинации гиперпараметров обучите классификатор Softmax     #\n",
    "# на train выборке, вычислите точность на выборках train, val и сохраните          #\n",
    "# результат в словарь results. Лучшее значение точности сохраните в best_val       #\n",
    "# лучший классификатор - в best_softmax                                            #\n",
    "#                                                                                  #\n",
    "# Подсказка: чтобы уменьшить время обучения, используйте dev подвыборку.           #\n",
    "# После того, как код будет реализован и отлажен, замените dev на train.           #\n",
    "####################################################################################\n",
    "\n",
    "\n",
    "\n",
    "# Пример допустимых значений. Можете изменить на свое усмотрение.\n",
    "learning_rates = [-6.6, -6.15]\n",
    "regularization_strengths = [4.05, 4.7]\n",
    "\n",
    "# *****START OF YOUR CODE (DO NOT DELETE/MODIFY THIS LINE)*****\n",
    "\n",
    "for i in range(128):\n",
    "    learning_rate = np.power(10, np.random.uniform(learning_rates[0], learning_rates[1]))\n",
    "    reg = np.power(10, np.random.uniform(regularization_strengths[0], regularization_strengths[1]))\n",
    "    softmax = Softmax()\n",
    "    \n",
    "    loss_hist = softmax.train(X_train, y_train, learning_rate=learning_rate,\n",
    "                          reg=reg, num_iters=300, batch_size=200, verbose=False)\n",
    "    \n",
    "    y_train_pred = softmax.predict(X_train)\n",
    "    train_accuracy = np.mean(y_train_pred == y_train)\n",
    "    y_val_pred   = softmax.predict(X_val)\n",
    "    val_accuracy   = np.mean(y_val_pred == y_val)\n",
    "    print(f\"For iter {i} accuracy: {val_accuracy}\")\n",
    "\n",
    "    if best_val < val_accuracy:\n",
    "        best_softmax, best_val = softmax, val_accuracy\n",
    "        \n",
    "    results[(learning_rate, reg)] = (train_accuracy, val_accuracy)\n",
    "\n",
    "# *****END OF YOUR CODE (DO NOT DELETE/MODIFY THIS LINE)*****\n",
    "    \n",
    "# Вывод результатов.\n",
    "for lr, reg in sorted(results):\n",
    "    train_accuracy, val_accuracy = results[(lr, reg)]\n",
    "    print('lr %e reg %e train accuracy: %f val accuracy: %f' % (\n",
    "                lr, reg, train_accuracy, val_accuracy))\n",
    "    \n",
    "print('best validation accuracy achieved during cross-validation: %f' % best_val)"
   ]
  },
  {
   "cell_type": "code",
   "execution_count": 18,
   "metadata": {
    "colab": {
     "base_uri": "https://localhost:8080/"
    },
    "id": "test",
    "outputId": "4d8c075b-002d-4b26-e177-2cd747e47cab"
   },
   "outputs": [
    {
     "name": "stdout",
     "output_type": "stream",
     "text": [
      "softmax on raw pixels final test set accuracy: 0.371000\n"
     ]
    }
   ],
   "source": [
    "# Точность на test выборке\n",
    "y_test_pred = best_softmax.predict(X_test)\n",
    "test_accuracy = np.mean(y_test == y_test_pred)\n",
    "print('softmax on raw pixels final test set accuracy: %f' % (test_accuracy, ))"
   ]
  },
  {
   "cell_type": "markdown",
   "metadata": {
    "id": "bULom2hjcXuR",
    "tags": [
     "pdf-inline"
    ]
   },
   "source": [
    "**Вопрос 2** - *Да или Нет*\n",
    "\n",
    "Суммарное значение функции потерь (loss) на всей train выборке равно сумме потерь для каждого отсчета. Существует такой отсчет (изображение), который можно добавить в train выборку, при этом значение loss для SVM классификатора не изменится. Для Softmax классификатора такого отсчета не существует.    \n",
    "  \n",
    "$\\color{blue}{\\textit Ответ:}$\n",
    "\n",
    "\n",
    "$\\color{blue}{\\textit Объясните:}$\n",
    "\n"
   ]
  },
  {
   "cell_type": "code",
   "execution_count": 19,
   "metadata": {
    "colab": {
     "base_uri": "https://localhost:8080/",
     "height": 380
    },
    "id": "sTtBBbVocXuR",
    "outputId": "ecf703e3-b74b-4167-8aac-6c52fb6ceb11"
   },
   "outputs": [
    {
     "data": {
      "image/png": "[encoded data removed]",
      "text/plain": [
       "<Figure size 720x576 with 10 Axes>"
      ]
     },
     "metadata": {
      "needs_background": "light",
      "tags": []
     },
     "output_type": "display_data"
    }
   ],
   "source": [
    "# Визуализируем веса W для каждого класса\n",
    "w = best_softmax.W[:-1,:] # отбросим фиктивное измерение bias\n",
    "w = w.reshape(32, 32, 3, 10)\n",
    "\n",
    "w_min, w_max = np.min(w), np.max(w)\n",
    "\n",
    "classes = ['plane', 'car', 'bird', 'cat', 'deer', 'dog', 'frog', 'horse', 'ship', 'truck']\n",
    "for i in range(10):\n",
    "    plt.subplot(2, 5, i + 1)\n",
    "    \n",
    "    # Масштабируем веса в значения от 0 до 255 для визуализации\n",
    "    wimg = 255.0 * (w[:, :, :, i].squeeze() - w_min) / (w_max - w_min)\n",
    "    plt.imshow(wimg.astype('uint8'))\n",
    "    plt.axis('off')\n",
    "    plt.title(classes[i])"
   ]
  },
  {
   "cell_type": "markdown",
   "metadata": {
    "id": "JQOT55MFcXuR"
   },
   "source": [
    "# ПОЗДРАВЛЯЕМ!\n",
    "\n",
    "Это конец задания. Не забудьте сохранить этот ноутбук и файл softmax.py"
   ]
  }
 ],
 "metadata": {
  "colab": {
   "collapsed_sections": [],
   "name": "Копия блокнота \"softmax-ru.ipynb\"",
   "provenance": []
  },
  "kernelspec": {
   "display_name": "Python 3",
   "language": "python",
   "name": "python3"
  },
  "language_info": {
   "codemirror_mode": {
    "name": "ipython",
    "version": 3
   },
   "file_extension": ".py",
   "mimetype": "text/x-python",
   "name": "python",
   "nbconvert_exporter": "python",
   "pygments_lexer": "ipython3",
   "version": "3.6.8"
  }
 },
 "nbformat": 4,
 "nbformat_minor": 1
}
