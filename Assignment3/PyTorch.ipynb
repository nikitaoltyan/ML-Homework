{
  "nbformat": 4,
  "nbformat_minor": 0,
  "metadata": {
    "kernelspec": {
      "display_name": "Python 3",
      "language": "python",
      "name": "python3"
    },
    "language_info": {
      "codemirror_mode": {
        "name": "ipython",
        "version": 3
      },
      "file_extension": ".py",
      "mimetype": "text/x-python",
      "name": "python",
      "nbconvert_exporter": "python",
      "pygments_lexer": "ipython3",
      "version": "3.7.0"
    },
    "colab": {
      "name": "Копия блокнота \"PyTorch.ipynb\"",
      "provenance": [],
      "collapsed_sections": [],
      "toc_visible": true,
      "include_colab_link": true
    }
  },
  "cells": [
    {
      "cell_type": "markdown",
      "metadata": {
        "id": "view-in-github",
        "colab_type": "text"
      },
      "source": [
        "<a href=\"https://colab.research.google.com/github/nikitaoltyan/ML-Homework/blob/main/Assignment3/PyTorch.ipynb\" target=\"_parent\"><img src=\"https://colab.research.google.com/assets/colab-badge.svg\" alt=\"Open In Colab\"/></a>"
      ]
    },
    {
      "cell_type": "markdown",
      "metadata": {
        "id": "hAS0EdHTLzzf"
      },
      "source": [
        "# Задание 2.2 - Введение в PyTorch\n",
        "\n",
        "Для этого задания потребуется установить версию PyTorch 1.x\n",
        "\n",
        "https://pytorch.org/get-started/locally/\n",
        "\n",
        "В этом задании мы познакомимся с основными компонентами PyTorch и натренируем несколько небольших моделей.<br>\n",
        "GPU нам пока не понадобится.\n",
        "\n",
        "Основные ссылки:  \n",
        "https://pytorch.org/tutorials/beginner/deep_learning_60min_blitz.html  \n",
        "https://pytorch.org/docs/stable/nn.html  \n",
        "https://pytorch.org/docs/stable/torchvision/index.html  "
      ]
    },
    {
      "cell_type": "code",
      "metadata": {
        "pycharm": {
          "name": "#%%\n"
        },
        "colab": {
          "base_uri": "https://localhost:8080/"
        },
        "id": "n3R7S1EmLzzl",
        "outputId": "a5c119e5-1363-402e-dd78-7034d1fc349c"
      },
      "source": [
        "# Запустите эту ячейку если работаете в Colab\n",
        "!git clone https://github.com/nikitaoltyan/ML-Homework.git\n",
        "%cd ML-Homework/data\n",
        "! wget -c http://ufldl.stanford.edu/housenumbers/train_32x32.mat http://ufldl.stanford.edu/housenumbers/test_32x32.mat\n",
        "%cd ../Assignment3"
      ],
      "execution_count": 2,
      "outputs": [
        {
          "output_type": "stream",
          "text": [
            "fatal: destination path 'ML-Homework' already exists and is not an empty directory.\n",
            "/content/ML-Homework/data\n",
            "--2021-03-13 16:56:13--  http://ufldl.stanford.edu/housenumbers/train_32x32.mat\n",
            "Resolving ufldl.stanford.edu (ufldl.stanford.edu)... 171.64.68.10\n",
            "Connecting to ufldl.stanford.edu (ufldl.stanford.edu)|171.64.68.10|:80... connected.\n",
            "HTTP request sent, awaiting response... 416 Requested Range Not Satisfiable\n",
            "\n",
            "    The file is already fully retrieved; nothing to do.\n",
            "\n",
            "--2021-03-13 16:56:13--  http://ufldl.stanford.edu/housenumbers/test_32x32.mat\n",
            "Reusing existing connection to ufldl.stanford.edu:80.\n",
            "HTTP request sent, awaiting response... 416 Requested Range Not Satisfiable\n",
            "\n",
            "    The file is already fully retrieved; nothing to do.\n",
            "\n",
            "/content/ML-Homework/Assignment3\n"
          ],
          "name": "stdout"
        }
      ]
    },
    {
      "cell_type": "code",
      "metadata": {
        "scrolled": true,
        "id": "OOEwMgweLzzm"
      },
      "source": [
        "import torch\n",
        "import torch.nn as nn\n",
        "import torch.optim as optim\n",
        "import torchvision.datasets as dset\n",
        "from torch.utils.data.sampler import SubsetRandomSampler, Sampler\n",
        "\n",
        "from torchvision import transforms\n",
        "\n",
        "import matplotlib.pyplot as plt\n",
        "%matplotlib inline\n",
        "\n",
        "import numpy as np"
      ],
      "execution_count": 3,
      "outputs": []
    },
    {
      "cell_type": "markdown",
      "metadata": {
        "id": "jo-VsAFSLzzm"
      },
      "source": [
        "## Как всегда, начинаем с загрузки данных\n",
        "\n",
        "PyTorch поддерживает загрузку SVHN из коробки."
      ]
    },
    {
      "cell_type": "code",
      "metadata": {
        "scrolled": true,
        "id": "R1QPJn7eLzzm"
      },
      "source": [
        "# First, lets load the dataset\n",
        "data_train = dset.SVHN('../data/', split='train',\n",
        "                       transform=transforms.Compose([\n",
        "                           transforms.ToTensor(),\n",
        "                           transforms.Normalize(mean=[0.43,0.44,0.47],\n",
        "                                               std=[0.20,0.20,0.20])                           \n",
        "                       ])\n",
        "                      )\n",
        "data_test = dset.SVHN('../data/', split='test',\n",
        "                      transform=transforms.Compose([\n",
        "                           transforms.ToTensor(),\n",
        "                           transforms.Normalize(mean=[0.43,0.44,0.47],\n",
        "                                               std=[0.20,0.20,0.20])                           \n",
        "                       ]))"
      ],
      "execution_count": 4,
      "outputs": []
    },
    {
      "cell_type": "markdown",
      "metadata": {
        "id": "k9kllRlOLzzn"
      },
      "source": [
        "Теперь мы разделим данные на training и validation с использованием классов `SubsetRandomSampler` и `DataLoader`.\n",
        "\n",
        "`DataLoader` подгружает данные, предоставляемые классом `Dataset`, во время тренировки и группирует их в батчи.\n",
        "Он дает возможность указать `Sampler`, который выбирает, какие примеры из датасета использовать для тренировки. Мы используем это, чтобы разделить данные на training и validation.\n",
        "\n",
        "Подробнее: https://pytorch.org/tutorials/beginner/data_loading_tutorial.html"
      ]
    },
    {
      "cell_type": "code",
      "metadata": {
        "scrolled": true,
        "id": "26RyqvjtLzzn"
      },
      "source": [
        "batch_size = 64\n",
        "\n",
        "data_size = data_train.data.shape[0]\n",
        "validation_split = .2\n",
        "split = int(np.floor(validation_split * data_size))\n",
        "indices = list(range(data_size))\n",
        "np.random.shuffle(indices)\n",
        "\n",
        "train_indices, val_indices = indices[split:], indices[:split]\n",
        "\n",
        "train_sampler = SubsetRandomSampler(train_indices)\n",
        "val_sampler = SubsetRandomSampler(val_indices)\n",
        "\n",
        "train_loader = torch.utils.data.DataLoader(data_train, batch_size=batch_size, \n",
        "                                           sampler=train_sampler)\n",
        "val_loader = torch.utils.data.DataLoader(data_train, batch_size=batch_size,\n",
        "                                         sampler=val_sampler)"
      ],
      "execution_count": 5,
      "outputs": []
    },
    {
      "cell_type": "markdown",
      "metadata": {
        "id": "WxJs0GhSLzzo"
      },
      "source": [
        "В нашей задаче мы получаем на вход изображения, но работаем с ними как с одномерными массивами. Чтобы превратить многомерный массив в одномерный, мы воспользуемся очень простым вспомогательным модулем `Flattener`."
      ]
    },
    {
      "cell_type": "code",
      "metadata": {
        "scrolled": true,
        "colab": {
          "base_uri": "https://localhost:8080/"
        },
        "id": "3JPl4wyyLzzo",
        "outputId": "7cd1de9e-9cef-4910-e207-39aaf9f5987b"
      },
      "source": [
        "sample, label = data_train[0]\n",
        "print(\"SVHN data sample shape: \", sample.shape)\n",
        "# As you can see, the data is shaped like an image\n",
        "\n",
        "# We'll use a special helper module to shape it into a tensor\n",
        "class Flattener(nn.Module):\n",
        "    def forward(self, x):\n",
        "        batch_size, *_ = x.shape\n",
        "        return x.view(batch_size, -1)"
      ],
      "execution_count": 6,
      "outputs": [
        {
          "output_type": "stream",
          "text": [
            "SVHN data sample shape:  torch.Size([3, 32, 32])\n"
          ],
          "name": "stdout"
        }
      ]
    },
    {
      "cell_type": "markdown",
      "metadata": {
        "id": "3KJW-DXlLzzo"
      },
      "source": [
        "И наконец, мы создаем основные объекты PyTorch:\n",
        "- `nn_model` - собственно, модель с нейросетью\n",
        "- `loss` - функцию ошибки, в нашем случае `CrossEntropyLoss`\n",
        "- `optimizer` - алгоритм оптимизации, в нашем случае просто `SGD`"
      ]
    },
    {
      "cell_type": "code",
      "metadata": {
        "scrolled": true,
        "id": "8bJSJORULzzo"
      },
      "source": [
        "nn_model = nn.Sequential(\n",
        "            Flattener(),\n",
        "            nn.Linear(3*32*32, 100),\n",
        "            nn.ReLU(inplace=True),\n",
        "            nn.Linear(100, 10), \n",
        "         )\n",
        "nn_model.type(torch.FloatTensor)\n",
        "\n",
        "# We will minimize cross-entropy between the ground truth and\n",
        "# network predictions using an SGD optimizer\n",
        "loss = nn.CrossEntropyLoss().type(torch.FloatTensor)\n",
        "optimizer = optim.SGD(nn_model.parameters(), lr=1e-2, weight_decay=1e-1)"
      ],
      "execution_count": 7,
      "outputs": []
    },
    {
      "cell_type": "markdown",
      "metadata": {
        "id": "YVhD8Gd6Lzzp"
      },
      "source": [
        "## Тренируем!\n",
        "\n",
        "Ниже приведена функция `train_model`, реализующая основной цикл тренировки PyTorch.\n",
        "\n",
        "Каждую эпоху эта функция вызывает функцию `compute_accuracy`, которая вычисляет точность на validation, эту последнюю функцию предлагается реализовать вам."
      ]
    },
    {
      "cell_type": "code",
      "metadata": {
        "scrolled": true,
        "colab": {
          "base_uri": "https://localhost:8080/"
        },
        "id": "OFAXR8rFLzzp",
        "outputId": "886dd6c7-df28-4682-ad39-3cc8f376c508"
      },
      "source": [
        "# This is how to implement the same main train loop in PyTorch. Pretty easy, right?\n",
        "\n",
        "def train_model(model, train_loader, val_loader, loss, optimizer, num_epochs,\n",
        "                lr = optim.lr_scheduler.StepLR(optimizer, step_size=1, gamma=1)):    \n",
        "    loss_history = []\n",
        "    train_history = []\n",
        "    val_history = []\n",
        "    for epoch in range(num_epochs):\n",
        "        model.train() # Enter train mode\n",
        "        \n",
        "        loss_accum = 0\n",
        "        correct_samples = 0\n",
        "        total_samples = 0\n",
        "        for i_step, (x, y) in enumerate(train_loader):\n",
        "            prediction = model(x)    \n",
        "            loss_value = loss(prediction, y)\n",
        "            optimizer.zero_grad()\n",
        "            loss_value.backward()\n",
        "            optimizer.step()\n",
        "            lr.step()\n",
        "            \n",
        "            _, indices = torch.max(prediction, 1)\n",
        "            correct_samples += torch.sum(indices == y)\n",
        "            total_samples += y.shape[0]\n",
        "            \n",
        "            loss_accum += loss_value\n",
        "\n",
        "        ave_loss = loss_accum / (i_step + 1)\n",
        "        train_accuracy = float(correct_samples) / total_samples\n",
        "        val_accuracy = compute_accuracy(model, val_loader)\n",
        "        \n",
        "        loss_history.append(float(ave_loss))\n",
        "        train_history.append(train_accuracy)\n",
        "        val_history.append(val_accuracy)\n",
        "        \n",
        "        print(\"Average loss: %f, Train accuracy: %f, Val accuracy: %f\" % (ave_loss, train_accuracy, val_accuracy))\n",
        "        \n",
        "    return loss_history, train_history, val_history\n",
        "\n",
        "from torch.autograd import Variable\n",
        "def compute_accuracy(model, loader):\n",
        "    \"\"\"\n",
        "    Computes accuracy on the dataset wrapped in a loader\n",
        "    \n",
        "    Returns: accuracy as a float value between 0 and 1\n",
        "    \"\"\"\n",
        "\n",
        "    model.eval() # Evaluation mode\n",
        "\n",
        "    # TODO: Implement the inference of the model on all of the batches from loader,\n",
        "    #       and compute the overall accuracy.\n",
        "    # Hint: PyTorch has the argmax function!\n",
        "\n",
        "    num_correct = 0\n",
        "    num_samples = 0\n",
        "    for x, y in loader:\n",
        "        x_var = Variable(x, volatile=True)\n",
        "        scores = model(x_var)\n",
        "        _, preds = scores.data.cpu().max(1)\n",
        "        num_correct += (preds == y).sum()\n",
        "        num_samples += preds.size(0)\n",
        "    acc = float(num_correct) / num_samples\n",
        "    \n",
        "    return acc\n",
        "\n",
        "loss_history, train_history, val_history = train_model(nn_model, train_loader, val_loader, loss, optimizer, 3)"
      ],
      "execution_count": 8,
      "outputs": [
        {
          "output_type": "stream",
          "text": [
            "/usr/local/lib/python3.7/dist-packages/ipykernel_launcher.py:57: UserWarning: volatile was removed and now has no effect. Use `with torch.no_grad():` instead.\n"
          ],
          "name": "stderr"
        },
        {
          "output_type": "stream",
          "text": [
            "Average loss: 1.835981, Train accuracy: 0.409822, Val accuracy: 0.538120\n",
            "Average loss: 1.458156, Train accuracy: 0.584804, Val accuracy: 0.612654\n",
            "Average loss: 1.376225, Train accuracy: 0.620380, Val accuracy: 0.620299\n"
          ],
          "name": "stdout"
        }
      ]
    },
    {
      "cell_type": "markdown",
      "metadata": {
        "id": "2Fa91Sq4Lzzp"
      },
      "source": [
        "## После основного цикла\n",
        "\n",
        "Посмотрим на другие возможности и оптимизации, которые предоставляет PyTorch.\n",
        "\n",
        "Добавьте еще один скрытый слой размера 100 нейронов к модели"
      ]
    },
    {
      "cell_type": "code",
      "metadata": {
        "scrolled": true,
        "id": "0KDHPcC3Lzzq",
        "colab": {
          "base_uri": "https://localhost:8080/"
        },
        "outputId": "954a7dee-32f2-4680-b5e3-c152205578c4"
      },
      "source": [
        "# Since it's so easy to add layers, let's add some!\n",
        "\n",
        "# TODO: Implement a model with 2 hidden layers of the size 100\n",
        "nn_model = nn.Sequential(\n",
        "            Flattener(),\n",
        "            nn.Linear(3*32*32, 100),\n",
        "            nn.ReLU(inplace=True),\n",
        "            nn.Linear(100, 100),\n",
        "            nn.ReLU(inplace=True),\n",
        "            nn.Linear(100, 10), \n",
        "       )\n",
        "nn_model.type(torch.FloatTensor)\n",
        "\n",
        "optimizer = optim.SGD(nn_model.parameters(), lr=1e-2, weight_decay=1e-1)\n",
        "loss_history, train_history, val_history = train_model(nn_model, train_loader, val_loader, loss, optimizer, 5)"
      ],
      "execution_count": 9,
      "outputs": [
        {
          "output_type": "stream",
          "text": [
            "/usr/local/lib/python3.7/dist-packages/ipykernel_launcher.py:57: UserWarning: volatile was removed and now has no effect. Use `with torch.no_grad():` instead.\n"
          ],
          "name": "stderr"
        },
        {
          "output_type": "stream",
          "text": [
            "Average loss: 2.183185, Train accuracy: 0.197744, Val accuracy: 0.217255\n",
            "Average loss: 2.018970, Train accuracy: 0.265672, Val accuracy: 0.308716\n",
            "Average loss: 1.810973, Train accuracy: 0.382384, Val accuracy: 0.404068\n",
            "Average loss: 1.699076, Train accuracy: 0.428164, Val accuracy: 0.432667\n",
            "Average loss: 1.670789, Train accuracy: 0.441286, Val accuracy: 0.436079\n"
          ],
          "name": "stdout"
        }
      ]
    },
    {
      "cell_type": "markdown",
      "metadata": {
        "id": "_KdsckOpLzzq"
      },
      "source": [
        "Добавьте слой с Batch Normalization"
      ]
    },
    {
      "cell_type": "code",
      "metadata": {
        "scrolled": true,
        "id": "qmXM-_qTLzzr",
        "colab": {
          "base_uri": "https://localhost:8080/"
        },
        "outputId": "13608d84-8596-45db-e26e-6c96f493c3ac"
      },
      "source": [
        "# We heard batch normalization is powerful, let's use it!\n",
        "# TODO: Add batch normalization after each of the hidden layers of the network, before or after non-linearity\n",
        "# Hint: check out torch.nn.BatchNorm1d\n",
        "\n",
        "nn_model = nn.Sequential(\n",
        "            Flattener(),\n",
        "            nn.Linear(3*32*32, 100),\n",
        "            nn.ReLU(inplace=True),\n",
        "            nn.BatchNorm1d(100),\n",
        "            nn.Linear(100, 100),\n",
        "            nn.ReLU(inplace=True),\n",
        "            nn.BatchNorm1d(100),\n",
        "            nn.Linear(100, 10),\n",
        "         )\n",
        "\n",
        "optimizer = optim.SGD(nn_model.parameters(), lr=1e-3, weight_decay=1e-1)\n",
        "loss_history, train_history, val_history = train_model(nn_model, train_loader, val_loader, loss, optimizer, 5)"
      ],
      "execution_count": 10,
      "outputs": [
        {
          "output_type": "stream",
          "text": [
            "/usr/local/lib/python3.7/dist-packages/ipykernel_launcher.py:57: UserWarning: volatile was removed and now has no effect. Use `with torch.no_grad():` instead.\n"
          ],
          "name": "stderr"
        },
        {
          "output_type": "stream",
          "text": [
            "Average loss: 1.904077, Train accuracy: 0.396581, Val accuracy: 0.561600\n",
            "Average loss: 1.486605, Train accuracy: 0.595878, Val accuracy: 0.639206\n",
            "Average loss: 1.319904, Train accuracy: 0.650411, Val accuracy: 0.676473\n",
            "Average loss: 1.224993, Train accuracy: 0.677712, Val accuracy: 0.695379\n",
            "Average loss: 1.167440, Train accuracy: 0.695970, Val accuracy: 0.709713\n"
          ],
          "name": "stdout"
        }
      ]
    },
    {
      "cell_type": "markdown",
      "metadata": {
        "id": "JC-2BDQtLzzr"
      },
      "source": [
        "Добавьте уменьшение скорости обучения по ходу тренировки."
      ]
    },
    {
      "cell_type": "code",
      "metadata": {
        "scrolled": true,
        "id": "S7pMWAtxLzzr",
        "colab": {
          "base_uri": "https://localhost:8080/"
        },
        "outputId": "5f19ce6f-9555-4c97-dd77-4297fe22cbfb"
      },
      "source": [
        "# Learning rate annealing\n",
        "# Reduce your learning rate 2x every 2 epochs\n",
        "# Hint: look up learning rate schedulers in PyTorch. You might need to extend train_model function a little bit too!\n",
        "\n",
        "# train_model was extended\n",
        "lr = optim.lr_scheduler.StepLR(optimizer, step_size=2, gamma=0.5)\n",
        "loss_history, train_history, val_history = train_model(nn_model, train_loader, val_loader, loss, optimizer, 5, lr)"
      ],
      "execution_count": 11,
      "outputs": [
        {
          "output_type": "stream",
          "text": [
            "/usr/local/lib/python3.7/dist-packages/ipykernel_launcher.py:57: UserWarning: volatile was removed and now has no effect. Use `with torch.no_grad():` instead.\n"
          ],
          "name": "stderr"
        },
        {
          "output_type": "stream",
          "text": [
            "Average loss: 1.119713, Train accuracy: 0.718186, Val accuracy: 0.724797\n",
            "Average loss: 1.116764, Train accuracy: 0.718083, Val accuracy: 0.719883\n",
            "Average loss: 1.117641, Train accuracy: 0.716309, Val accuracy: 0.722476\n",
            "Average loss: 1.118301, Train accuracy: 0.717077, Val accuracy: 0.722613\n",
            "Average loss: 1.116445, Train accuracy: 0.719397, Val accuracy: 0.724046\n"
          ],
          "name": "stdout"
        }
      ]
    },
    {
      "cell_type": "markdown",
      "metadata": {
        "id": "AarpTRgBLzzr"
      },
      "source": [
        "# Визуализируем ошибки модели\n",
        "\n",
        "Попробуем посмотреть, на каких изображениях наша модель ошибается.\n",
        "Для этого мы получим все предсказания модели на validation set и сравним их с истинными метками (ground truth).\n",
        "\n",
        "Первая часть - реализовать код на PyTorch, который вычисляет все предсказания модели на validation set.  \n",
        "Чтобы это сделать мы приводим код `SubsetSampler`, который просто проходит по всем заданным индексам последовательно и составляет из них батчи. \n",
        "\n",
        "Реализуйте функцию `evaluate_model`, которая прогоняет модель через все сэмплы validation set и запоминает предсказания модели и истинные метки."
      ]
    },
    {
      "cell_type": "code",
      "metadata": {
        "id": "pqcod-2zLzzs",
        "colab": {
          "base_uri": "https://localhost:8080/"
        },
        "outputId": "1a26dc76-af27-4e85-9778-39201963d028"
      },
      "source": [
        "class SubsetSampler(Sampler):\n",
        "    \"\"\"\n",
        "    Samples elements with given indices sequentially\n",
        "    Arguments:\n",
        "        indices (ndarray): indices of the samples to take\n",
        "    \"\"\"\n",
        "\n",
        "    def __init__(self, indices):\n",
        "        self.indices = indices\n",
        "\n",
        "    def __iter__(self):\n",
        "        return (self.indices[i] for i in range(len(self.indices)))\n",
        "\n",
        "    def __len__(self):\n",
        "        return len(self.indices)\n",
        "    \n",
        "    \n",
        "def evaluate_model(model, dataset, indices):\n",
        "    \"\"\"\n",
        "    Computes predictions and ground truth labels for the indices of the dataset\n",
        "    \n",
        "    Returns: \n",
        "    predictions: np array of ints - model predictions\n",
        "    grount_truth: np array of ints - actual labels of the dataset\n",
        "    \"\"\"\n",
        "    model.eval() # Evaluation mode\n",
        "    \n",
        "    # TODO: Evaluate model on the list of indices and capture predictions\n",
        "    # and ground truth labels\n",
        "    # Hint: SubsetSampler above could be useful!\n",
        "    sampler = SubsetSampler(indices)\n",
        "    loader = torch.utils.data.DataLoader(dataset, batch_size=64, sampler=sampler)\n",
        "    predictions = []\n",
        "    ground_truth = []\n",
        "    \n",
        "    for (x, y) in loader:\n",
        "        prediction = model(x)\n",
        "        predictions.extend(torch.argmax(prediction, 1).numpy())\n",
        "        ground_truth.extend(y.numpy())\n",
        "        \n",
        "    predictions = np.array(predictions)\n",
        "    ground_truth = np.array(ground_truth)\n",
        "    \n",
        "    return predictions, ground_truth\n",
        "\n",
        "# Evaluate model on validation\n",
        "predictions, ground_truth = evaluate_model(nn_model, data_train, val_indices)\n",
        "assert len(predictions) == len(val_indices)\n",
        "assert len(ground_truth) == len(val_indices)\n",
        "assert ground_truth[100] == data_train[val_indices[100]][1]\n",
        "assert np.any(np.not_equal(ground_truth, predictions))\n",
        "print(\"Ready\")"
      ],
      "execution_count": 14,
      "outputs": [
        {
          "output_type": "stream",
          "text": [
            "Ready\n"
          ],
          "name": "stdout"
        }
      ]
    },
    {
      "cell_type": "markdown",
      "metadata": {
        "id": "T0hsoaj8Lzzs"
      },
      "source": [
        "## Confusion matrix\n",
        "Первая часть визуализации - вывести confusion matrix (https://en.wikipedia.org/wiki/Confusion_matrix ).\n",
        "\n",
        "Confusion matrix - это матрица, где каждой строке соответствуют классы предсказанный, а столбцу - классы истинных меток (ground truth). Число с координатами `i,j` - это количество сэмплов класса `j`, которые модель считает классом `i`.\n",
        "\n",
        "![image.png](attachment:image.png)\n",
        "\n",
        "Для того, чтобы облегчить вам задачу, ниже реализована функция `visualize_confusion_matrix` которая визуализирует такую матрицу.  \n",
        "Вам осталось реализовать функцию `build_confusion_matrix`, которая ее вычислит.\n",
        "\n",
        "Результатом должна быть матрица 10x10."
      ]
    },
    {
      "cell_type": "code",
      "metadata": {
        "id": "jbVQkQOzLzzs",
        "colab": {
          "base_uri": "https://localhost:8080/",
          "height": 611
        },
        "outputId": "247e8eb8-f2e8-4f84-c69c-d1c32e289962"
      },
      "source": [
        "def visualize_confusion_matrix(confusion_matrix):\n",
        "    \"\"\"\n",
        "    Visualizes confusion matrix\n",
        "    \n",
        "    confusion_matrix: np array of ints, x axis - predicted class, y axis - actual class\n",
        "                      [i][j] should have the count of samples that were predicted to be class i,\n",
        "                      but have j in the ground truth\n",
        "                     \n",
        "    \"\"\"\n",
        "    # Adapted from \n",
        "    # https://stackoverflow.com/questions/2897826/confusion-matrix-with-number-of-classified-misclassified-instances-on-it-python\n",
        "    assert confusion_matrix.shape[0] == confusion_matrix.shape[1]\n",
        "    size = confusion_matrix.shape[0]\n",
        "    fig = plt.figure(figsize=(10,10))\n",
        "    plt.title(\"Confusion matrix\")\n",
        "    plt.ylabel(\"predicted\")\n",
        "    plt.xlabel(\"ground truth\")\n",
        "    res = plt.imshow(confusion_matrix, cmap='GnBu', interpolation='nearest')\n",
        "    cb = fig.colorbar(res)\n",
        "    plt.xticks(np.arange(size))\n",
        "    plt.yticks(np.arange(size))\n",
        "    for i, row in enumerate(confusion_matrix):\n",
        "        for j, count in enumerate(row):\n",
        "            plt.text(j, i, count, fontsize=14, horizontalalignment='center', verticalalignment='center')\n",
        "    \n",
        "def build_confusion_matrix(predictions, ground_truth):\n",
        "    \"\"\"\n",
        "    Builds confusion matrix from predictions and ground truth\n",
        "\n",
        "    predictions: np array of ints, model predictions for all validation samples\n",
        "    ground_truth: np array of ints, ground truth for all validation samples\n",
        "    \n",
        "    Returns:\n",
        "    np array of ints, (10,10), counts of samples for predicted/ground_truth classes\n",
        "    \"\"\"\n",
        "    \n",
        "    confusion_matrix = np.zeros((10,10), np.int)\n",
        "    \n",
        "    np.add.at(confusion_matrix, [ground_truth, predictions], 1)\n",
        "    # TODO: Implement filling the prediction matrix\n",
        "    return confusion_matrix\n",
        "\n",
        "confusion_matrix = build_confusion_matrix(predictions, ground_truth)\n",
        "visualize_confusion_matrix(confusion_matrix)"
      ],
      "execution_count": 15,
      "outputs": [
        {
          "output_type": "stream",
          "text": [
            "/usr/local/lib/python3.7/dist-packages/ipykernel_launcher.py:39: FutureWarning: Using a non-tuple sequence for multidimensional indexing is deprecated; use `arr[tuple(seq)]` instead of `arr[seq]`. In the future this will be interpreted as an array index, `arr[np.array(seq)]`, which will result either in an error or a different result.\n"
          ],
          "name": "stderr"
        },
        {
          "output_type": "display_data",
          "data": {
            "image/png": "[encoded data removed]",
            "text/plain": [
              "<Figure size 720x720 with 2 Axes>"
            ]
          },
          "metadata": {
            "tags": [],
            "needs_background": "light"
          }
        }
      ]
    },
    {
      "cell_type": "markdown",
      "metadata": {
        "id": "2rd-BYDLjGRu"
      },
      "source": [
        ""
      ]
    },
    {
      "cell_type": "markdown",
      "metadata": {
        "id": "Nt94kmNLLzzt"
      },
      "source": [
        "Наконец, посмотрим на изображения, соответствующие некоторым элементам этой матрицы.\n",
        "\n",
        "Как и раньше, вам дана функция `visualize_images`, которой нужно воспрользоваться при реализации функции `visualize_predicted_actual`. Эта функция должна вывести несколько примеров, соответствующих заданному элементу матрицы.\n",
        "\n",
        "Визуализируйте наиболее частые ошибки и попробуйте понять, почему модель их совершает."
      ]
    },
    {
      "cell_type": "code",
      "metadata": {
        "id": "_hTGeMMNLzzt",
        "colab": {
          "base_uri": "https://localhost:8080/",
          "height": 215
        },
        "outputId": "1177a283-88b7-4fba-c453-ab1505c6cd78"
      },
      "source": [
        "data_train_images = dset.SVHN('../data/', split='train')\n",
        "\n",
        "def visualize_images(indices, data, title='', max_num=10):\n",
        "    \"\"\"\n",
        "    Visualizes several images from the dataset\n",
        " \n",
        "    indices: array of indices to visualize\n",
        "    data: torch Dataset with the images\n",
        "    title: string, title of the plot\n",
        "    max_num: int, max number of images to display\n",
        "    \"\"\"\n",
        "    to_show = min(len(indices), max_num)\n",
        "    fig = plt.figure(figsize=(10,1.5))\n",
        "    fig.suptitle(title)\n",
        "    for i, index in enumerate(indices[:to_show]):\n",
        "        plt.subplot(1,to_show, i+1)\n",
        "        plt.axis('off')\n",
        "        sample = data[index][0]\n",
        "        plt.imshow(sample)\n",
        "        \n",
        "def visualize_predicted_actual(predicted_class, gt_class, predictions, groud_truth, val_indices, data):\n",
        "    \"\"\"\n",
        "    Visualizes images of a ground truth class which were predicted as the other class \n",
        "    \n",
        "    predicted: int 0-9, index of the predicted class\n",
        "    gt_class: int 0-9, index of the ground truth class\n",
        "    predictions: np array of ints, model predictions for all validation samples\n",
        "    ground_truth: np array of ints, ground truth for all validation samples\n",
        "    val_indices: np array of ints, indices of validation samples\n",
        "    \"\"\"\n",
        "\n",
        "    # TODO: Implement visualization using visualize_images above\n",
        "    # predictions and ground_truth are provided for validation set only, defined by val_indices\n",
        "    # Hint: numpy index arrays might be helpful\n",
        "    # https://docs.scipy.org/doc/numpy/user/basics.indexing.html#index-arrays\n",
        "    # Please make the title meaningful!\n",
        "\n",
        "    title = f'Predicted class is {predicted_class}, but real was {gt_class}'\n",
        "    indices_to_visualize = val_indices[(predictions == predicted_class) & (groud_truth == gt_class)]\n",
        "    visualize_images(indices_to_visualize, data, title)\n",
        "\n",
        "visualize_predicted_actual(5, 8, predictions, ground_truth, np.array(val_indices), data_train_images)\n",
        "visualize_predicted_actual(1, 7, predictions, ground_truth, np.array(val_indices), data_train_images)"
      ],
      "execution_count": 17,
      "outputs": [
        {
          "output_type": "display_data",
          "data": {
            "image/png": "[encoded data removed]",
            "text/plain": [
              "<Figure size 720x108 with 10 Axes>"
            ]
          },
          "metadata": {
            "tags": [],
            "needs_background": "light"
          }
        },
        {
          "output_type": "display_data",
          "data": {
            "image/png": "[encoded data removed]",
            "text/plain": [
              "<Figure size 720x108 with 10 Axes>"
            ]
          },
          "metadata": {
            "tags": [],
            "needs_background": "light"
          }
        }
      ]
    },
    {
      "cell_type": "markdown",
      "metadata": {
        "id": "G02qnxjWLzzt"
      },
      "source": [
        "# Переходим к свободным упражнениям!\n",
        "\n",
        "Натренируйте модель как можно лучше - экспериментируйте сами!\n",
        "Что следует обязательно попробовать:\n",
        "- перебор гиперпараметров с помощью валидационной выборки\n",
        "- другие оптимизаторы вместо SGD\n",
        "- изменение количества слоев и их размеров\n",
        "- наличие Batch Normalization\n",
        "\n",
        "Но ограничиваться этим не стоит!\n",
        "\n",
        "Точность на тестовой выборке должна быть доведена до **80%**"
      ]
    },
    {
      "cell_type": "code",
      "metadata": {
        "colab": {
          "base_uri": "https://localhost:8080/"
        },
        "id": "CCKNDM5rOK1p",
        "outputId": "15be5a96-b3c6-417b-9578-8e2ed4b587b4"
      },
      "source": [
        "def return_SGD_optimizer(learing_rate, weight_decay):\n",
        "  return optim.SGD(nn_model.parameters(), lr=learing_rate, weight_decay=weight_decay)\n",
        "\n",
        "def return_Adam_optimizer(learing_rate, weight_decay):\n",
        "  return optim.Adam(nn_model.parameters(), lr=learing_rate, weight_decay=weight_decay)\n",
        "\n",
        "optimizers = [\n",
        "    return_SGD_optimizer,\n",
        "    return_Adam_optimizer\n",
        "]\n",
        "optimizers[0](1,2)"
      ],
      "execution_count": 18,
      "outputs": [
        {
          "output_type": "execute_result",
          "data": {
            "text/plain": [
              "SGD (\n",
              "Parameter Group 0\n",
              "    dampening: 0\n",
              "    lr: 1\n",
              "    momentum: 0\n",
              "    nesterov: False\n",
              "    weight_decay: 2\n",
              ")"
            ]
          },
          "metadata": {
            "tags": []
          },
          "execution_count": 18
        }
      ]
    },
    {
      "cell_type": "code",
      "metadata": {
        "scrolled": true,
        "id": "DK267NdaLzzt",
        "colab": {
          "base_uri": "https://localhost:8080/"
        },
        "outputId": "7ba3542b-56f9-4778-94ba-34ad5c513ae5"
      },
      "source": [
        "# Experiment here!\n",
        "def return_SGD_optimizer(learing_rate, weight_decay):\n",
        "  return optim.SGD(nn_model.parameters(), lr=learing_rate, weight_decay=weight_decay)\n",
        "\n",
        "def return_Adam_optimizer(learing_rate, weight_decay):\n",
        "  return optim.Adam(nn_model.parameters(), lr=learing_rate, weight_decay=weight_decay)\n",
        "\n",
        "def return_AdamW_optimizer(learing_rate, weight_decay):\n",
        "  return optim.AdamW(nn_model.parameters(), lr=learing_rate, weight_decay=weight_decay)\n",
        "\n",
        "iterations = 10\n",
        "optimizers = [\n",
        "    return_SGD_optimizer,\n",
        "    return_Adam_optimizer,\n",
        "    return_AdamW_optimizer\n",
        "]\n",
        "learning_rates = np.random.uniform(1e-5, 1e-3, 10)\n",
        "weight_decays = np.random.uniform(1e-3, 1, 10)\n",
        "hiden_layer_sizes = np.random.random_integers(10,200,10)\n",
        "epochs = 10\n",
        "batch_size = 64\n",
        "\n",
        "loss_hist = []\n",
        "train_hist = []\n",
        "val_hist = []\n",
        "\n",
        "best_val = 0\n",
        "best_opt = None\n",
        "best_lr = None\n",
        "best_weight_decays = None\n",
        "best_epoch = None\n",
        "\n",
        "loss = nn.CrossEntropyLoss().type(torch.FloatTensor)\n",
        "train_loader = torch.utils.data.DataLoader(data_train, batch_size=batch_size, \n",
        "                                           sampler=train_sampler)\n",
        "val_loader = torch.utils.data.DataLoader(data_train, batch_size=batch_size,\n",
        "                                         sampler=val_sampler)\n",
        "lr = optim.lr_scheduler.StepLR(optimizer, step_size=1, gamma=0.7)\n",
        "for iter in range(len(optimizers)):\n",
        "    print(f\"Iteration {iter}\")\n",
        "    nn_model = nn.Sequential(\n",
        "            Flattener(),\n",
        "            nn.Linear(3*32*32, 100),\n",
        "            nn.ReLU(inplace=True),\n",
        "            nn.BatchNorm1d(100),\n",
        "            nn.Linear(100, 100),\n",
        "            nn.ReLU(inplace=True),\n",
        "            nn.BatchNorm1d(100),\n",
        "            nn.Linear(100, 10),\n",
        "         )\n",
        "    optimizer = optimizers[iter](1e-3, 1e-2)\n",
        "\n",
        "    loss_history, train_history, val_history = train_model(nn_model,\n",
        "                                train_loader, val_loader, loss, optimizer, epochs, lr)\n",
        "    loss_hist.append(loss_history)\n",
        "    train_hist.append(train_history)\n",
        "    val_hist.append(val_history)\n",
        "    if max(val_history) > best_val:\n",
        "      best_val = max(val_history)\n",
        "      best_opt = optimizer\n",
        "      best_lr = learning_rate\n",
        "      best_weight_decays = weight_decay\n",
        "      best_epoch = epoch\n"
      ],
      "execution_count": 26,
      "outputs": [
        {
          "output_type": "stream",
          "text": [
            "/usr/local/lib/python3.7/dist-packages/ipykernel_launcher.py:19: DeprecationWarning: This function is deprecated. Please call randint(10, 200 + 1) instead\n",
            "/usr/local/lib/python3.7/dist-packages/torch/optim/lr_scheduler.py:134: UserWarning: Detected call of `lr_scheduler.step()` before `optimizer.step()`. In PyTorch 1.1.0 and later, you should call them in the opposite order: `optimizer.step()` before `lr_scheduler.step()`.  Failure to do this will result in PyTorch skipping the first value of the learning rate schedule. See more details at https://pytorch.org/docs/stable/optim.html#how-to-adjust-learning-rate\n",
            "  \"https://pytorch.org/docs/stable/optim.html#how-to-adjust-learning-rate\", UserWarning)\n"
          ],
          "name": "stderr"
        },
        {
          "output_type": "stream",
          "text": [
            "Iteration 0\n"
          ],
          "name": "stdout"
        },
        {
          "output_type": "stream",
          "text": [
            "/usr/local/lib/python3.7/dist-packages/ipykernel_launcher.py:57: UserWarning: volatile was removed and now has no effect. Use `with torch.no_grad():` instead.\n"
          ],
          "name": "stderr"
        },
        {
          "output_type": "stream",
          "text": [
            "Average loss: 1.874188, Train accuracy: 0.393850, Val accuracy: 0.550406\n",
            "Average loss: 1.428352, Train accuracy: 0.591817, Val accuracy: 0.646850\n",
            "Average loss: 1.220417, Train accuracy: 0.661605, Val accuracy: 0.688622\n",
            "Average loss: 1.098995, Train accuracy: 0.691004, Val accuracy: 0.709440\n",
            "Average loss: 1.014839, Train accuracy: 0.710627, Val accuracy: 0.718313\n",
            "Average loss: 0.951020, Train accuracy: 0.726342, Val accuracy: 0.731281\n",
            "Average loss: 0.899129, Train accuracy: 0.738440, Val accuracy: 0.729097\n",
            "Average loss: 0.856540, Train accuracy: 0.750896, Val accuracy: 0.763907\n",
            "Average loss: 0.819026, Train accuracy: 0.761304, Val accuracy: 0.772234\n",
            "Average loss: 0.786720, Train accuracy: 0.768249, Val accuracy: 0.776807\n",
            "Iteration 1\n",
            "Average loss: 1.424274, Train accuracy: 0.542863, Val accuracy: 0.611835\n",
            "Average loss: 1.179836, Train accuracy: 0.632034, Val accuracy: 0.651082\n",
            "Average loss: 1.141319, Train accuracy: 0.642084, Val accuracy: 0.673742\n",
            "Average loss: 1.111861, Train accuracy: 0.654643, Val accuracy: 0.656064\n",
            "Average loss: 1.091026, Train accuracy: 0.659864, Val accuracy: 0.625350\n",
            "Average loss: 1.076180, Train accuracy: 0.665273, Val accuracy: 0.679817\n",
            "Average loss: 1.065396, Train accuracy: 0.668464, Val accuracy: 0.697836\n",
            "Average loss: 1.057907, Train accuracy: 0.674231, Val accuracy: 0.688417\n",
            "Average loss: 1.059310, Train accuracy: 0.671604, Val accuracy: 0.682889\n",
            "Average loss: 1.039410, Train accuracy: 0.677064, Val accuracy: 0.690192\n",
            "Iteration 2\n",
            "Average loss: 1.326453, Train accuracy: 0.566495, Val accuracy: 0.704048\n",
            "Average loss: 0.935580, Train accuracy: 0.705679, Val accuracy: 0.727800\n",
            "Average loss: 0.814796, Train accuracy: 0.745128, Val accuracy: 0.766774\n",
            "Average loss: 0.743425, Train accuracy: 0.767891, Val accuracy: 0.780356\n",
            "Average loss: 0.686346, Train accuracy: 0.786216, Val accuracy: 0.789229\n",
            "Average loss: 0.652793, Train accuracy: 0.796318, Val accuracy: 0.787660\n",
            "Average loss: 0.630362, Train accuracy: 0.802222, Val accuracy: 0.805406\n",
            "Average loss: 0.601688, Train accuracy: 0.811982, Val accuracy: 0.802334\n",
            "Average loss: 0.584709, Train accuracy: 0.817749, Val accuracy: 0.806430\n",
            "Average loss: 0.567708, Train accuracy: 0.821469, Val accuracy: 0.820012\n"
          ],
          "name": "stdout"
        }
      ]
    },
    {
      "cell_type": "code",
      "metadata": {
        "colab": {
          "base_uri": "https://localhost:8080/"
        },
        "id": "xo0Oi1WmpiOm",
        "outputId": "2fa8df19-c938-4454-b03f-0773f6bf4bed"
      },
      "source": [
        "print(f\"Best val accuracy: {best_val}\")"
      ],
      "execution_count": 29,
      "outputs": [
        {
          "output_type": "stream",
          "text": [
            "Best val accuracy: 0.8200122858507952\n"
          ],
          "name": "stdout"
        }
      ]
    },
    {
      "cell_type": "code",
      "metadata": {
        "id": "DoQpqmO-Lzzu",
        "colab": {
          "base_uri": "https://localhost:8080/"
        },
        "outputId": "42ff1a0c-ca5f-439a-a45c-fa38742a1b20"
      },
      "source": [
        "# Как всегда, в конце проверяем на test set\n",
        "test_loader = torch.utils.data.DataLoader(data_test, batch_size=batch_size)\n",
        "test_accuracy = compute_accuracy(nn_model, test_loader)\n",
        "print(f\"Test accuracy: {test_accuracy}\" )"
      ],
      "execution_count": 30,
      "outputs": [
        {
          "output_type": "stream",
          "text": [
            "/usr/local/lib/python3.7/dist-packages/ipykernel_launcher.py:57: UserWarning: volatile was removed and now has no effect. Use `with torch.no_grad():` instead.\n"
          ],
          "name": "stderr"
        },
        {
          "output_type": "stream",
          "text": [
            "Test accuracy: 0.7921020282728949\n"
          ],
          "name": "stdout"
        }
      ]
    }
  ]
}