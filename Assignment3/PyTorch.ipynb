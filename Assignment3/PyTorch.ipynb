{
  "nbformat": 4,
  "nbformat_minor": 0,
  "metadata": {
    "kernelspec": {
      "display_name": "Python 3",
      "language": "python",
      "name": "python3"
    },
    "language_info": {
      "codemirror_mode": {
        "name": "ipython",
        "version": 3
      },
      "file_extension": ".py",
      "mimetype": "text/x-python",
      "name": "python",
      "nbconvert_exporter": "python",
      "pygments_lexer": "ipython3",
      "version": "3.7.0"
    },
    "colab": {
      "name": "Копия блокнота \"PyTorch.ipynb\"",
      "provenance": [],
      "collapsed_sections": []
    }
  },
  "cells": [
    {
      "cell_type": "markdown",
      "metadata": {
        "id": "hAS0EdHTLzzf"
      },
      "source": [
        "# Задание 2.2 - Введение в PyTorch\n",
        "\n",
        "Для этого задания потребуется установить версию PyTorch 1.x\n",
        "\n",
        "https://pytorch.org/get-started/locally/\n",
        "\n",
        "В этом задании мы познакомимся с основными компонентами PyTorch и натренируем несколько небольших моделей.<br>\n",
        "GPU нам пока не понадобится.\n",
        "\n",
        "Основные ссылки:  \n",
        "https://pytorch.org/tutorials/beginner/deep_learning_60min_blitz.html  \n",
        "https://pytorch.org/docs/stable/nn.html  \n",
        "https://pytorch.org/docs/stable/torchvision/index.html  "
      ]
    },
    {
      "cell_type": "code",
      "metadata": {
        "pycharm": {
          "name": "#%%\n"
        },
        "colab": {
          "base_uri": "https://localhost:8080/"
        },
        "id": "n3R7S1EmLzzl",
        "outputId": "537ae546-b6d4-4879-a372-af02d848cb0c"
      },
      "source": [
        "# Запустите эту ячейку если работаете в Colab\n",
        "!git clone https://github.com/balezz/tad_ml_dl_2021.git\n",
        "%cd tad_ml_dl_2021/data\n",
        "! wget -c http://ufldl.stanford.edu/housenumbers/train_32x32.mat http://ufldl.stanford.edu/housenumbers/test_32x32.mat\n",
        "%cd ../Assignment3"
      ],
      "execution_count": null,
      "outputs": [
        {
          "output_type": "stream",
          "text": [
            "Cloning into 'tad_ml_dl_2021'...\n",
            "remote: Enumerating objects: 45, done.\u001b[K\n",
            "remote: Counting objects: 100% (45/45), done.\u001b[K\n",
            "remote: Compressing objects: 100% (31/31), done.\u001b[K\n",
            "remote: Total 137 (delta 17), reused 38 (delta 13), pack-reused 92\u001b[K\n",
            "Receiving objects: 100% (137/137), 1.28 MiB | 14.30 MiB/s, done.\n",
            "Resolving deltas: 100% (40/40), done.\n",
            "/content/tad_ml_dl_2021/data\n",
            "--2021-03-12 11:44:00--  http://ufldl.stanford.edu/housenumbers/train_32x32.mat\n",
            "Resolving ufldl.stanford.edu (ufldl.stanford.edu)... 171.64.68.10\n",
            "Connecting to ufldl.stanford.edu (ufldl.stanford.edu)|171.64.68.10|:80... connected.\n",
            "HTTP request sent, awaiting response... 200 OK\n",
            "Length: 182040794 (174M) [text/plain]\n",
            "Saving to: ‘train_32x32.mat’\n",
            "\n",
            "train_32x32.mat     100%[===================>] 173.61M  39.2MB/s    in 7.5s    \n",
            "\n",
            "2021-03-12 11:44:08 (23.3 MB/s) - ‘train_32x32.mat’ saved [182040794/182040794]\n",
            "\n",
            "--2021-03-12 11:44:08--  http://ufldl.stanford.edu/housenumbers/test_32x32.mat\n",
            "Reusing existing connection to ufldl.stanford.edu:80.\n",
            "HTTP request sent, awaiting response... 200 OK\n",
            "Length: 64275384 (61M) [text/plain]\n",
            "Saving to: ‘test_32x32.mat’\n",
            "\n",
            "test_32x32.mat      100%[===================>]  61.30M  39.8MB/s    in 1.5s    \n",
            "\n",
            "2021-03-12 11:44:10 (39.8 MB/s) - ‘test_32x32.mat’ saved [64275384/64275384]\n",
            "\n",
            "FINISHED --2021-03-12 11:44:10--\n",
            "Total wall clock time: 9.2s\n",
            "Downloaded: 2 files, 235M in 9.0s (26.1 MB/s)\n",
            "/content/tad_ml_dl_2021/Assignment3\n"
          ],
          "name": "stdout"
        }
      ]
    },
    {
      "cell_type": "code",
      "metadata": {
        "scrolled": true,
        "id": "OOEwMgweLzzm"
      },
      "source": [
        "import torch\n",
        "import torch.nn as nn\n",
        "import torch.optim as optim\n",
        "import torchvision.datasets as dset\n",
        "from torch.utils.data.sampler import SubsetRandomSampler, Sampler\n",
        "\n",
        "from torchvision import transforms\n",
        "\n",
        "import matplotlib.pyplot as plt\n",
        "%matplotlib inline\n",
        "\n",
        "import numpy as np"
      ],
      "execution_count": null,
      "outputs": []
    },
    {
      "cell_type": "markdown",
      "metadata": {
        "id": "jo-VsAFSLzzm"
      },
      "source": [
        "## Как всегда, начинаем с загрузки данных\n",
        "\n",
        "PyTorch поддерживает загрузку SVHN из коробки."
      ]
    },
    {
      "cell_type": "code",
      "metadata": {
        "scrolled": true,
        "id": "R1QPJn7eLzzm"
      },
      "source": [
        "# First, lets load the dataset\n",
        "data_train = dset.SVHN('../data/', split='train',\n",
        "                       transform=transforms.Compose([\n",
        "                           transforms.ToTensor(),\n",
        "                           transforms.Normalize(mean=[0.43,0.44,0.47],\n",
        "                                               std=[0.20,0.20,0.20])                           \n",
        "                       ])\n",
        "                      )\n",
        "data_test = dset.SVHN('../data/', split='test',\n",
        "                      transform=transforms.Compose([\n",
        "                           transforms.ToTensor(),\n",
        "                           transforms.Normalize(mean=[0.43,0.44,0.47],\n",
        "                                               std=[0.20,0.20,0.20])                           \n",
        "                       ]))"
      ],
      "execution_count": null,
      "outputs": []
    },
    {
      "cell_type": "markdown",
      "metadata": {
        "id": "k9kllRlOLzzn"
      },
      "source": [
        "Теперь мы разделим данные на training и validation с использованием классов `SubsetRandomSampler` и `DataLoader`.\n",
        "\n",
        "`DataLoader` подгружает данные, предоставляемые классом `Dataset`, во время тренировки и группирует их в батчи.\n",
        "Он дает возможность указать `Sampler`, который выбирает, какие примеры из датасета использовать для тренировки. Мы используем это, чтобы разделить данные на training и validation.\n",
        "\n",
        "Подробнее: https://pytorch.org/tutorials/beginner/data_loading_tutorial.html"
      ]
    },
    {
      "cell_type": "code",
      "metadata": {
        "scrolled": true,
        "id": "26RyqvjtLzzn"
      },
      "source": [
        "batch_size = 64\n",
        "\n",
        "data_size = data_train.data.shape[0]\n",
        "validation_split = .2\n",
        "split = int(np.floor(validation_split * data_size))\n",
        "indices = list(range(data_size))\n",
        "np.random.shuffle(indices)\n",
        "\n",
        "train_indices, val_indices = indices[split:], indices[:split]\n",
        "\n",
        "train_sampler = SubsetRandomSampler(train_indices)\n",
        "val_sampler = SubsetRandomSampler(val_indices)\n",
        "\n",
        "train_loader = torch.utils.data.DataLoader(data_train, batch_size=batch_size, \n",
        "                                           sampler=train_sampler)\n",
        "val_loader = torch.utils.data.DataLoader(data_train, batch_size=batch_size,\n",
        "                                         sampler=val_sampler)"
      ],
      "execution_count": null,
      "outputs": []
    },
    {
      "cell_type": "markdown",
      "metadata": {
        "id": "WxJs0GhSLzzo"
      },
      "source": [
        "В нашей задаче мы получаем на вход изображения, но работаем с ними как с одномерными массивами. Чтобы превратить многомерный массив в одномерный, мы воспользуемся очень простым вспомогательным модулем `Flattener`."
      ]
    },
    {
      "cell_type": "code",
      "metadata": {
        "scrolled": true,
        "colab": {
          "base_uri": "https://localhost:8080/"
        },
        "id": "3JPl4wyyLzzo",
        "outputId": "a2da3dc5-98d7-4b80-a800-c15b1cac398b"
      },
      "source": [
        "sample, label = data_train[0]\n",
        "print(\"SVHN data sample shape: \", sample.shape)\n",
        "# As you can see, the data is shaped like an image\n",
        "\n",
        "# We'll use a special helper module to shape it into a tensor\n",
        "class Flattener(nn.Module):\n",
        "    def forward(self, x):\n",
        "        batch_size, *_ = x.shape\n",
        "        return x.view(batch_size, -1)"
      ],
      "execution_count": null,
      "outputs": [
        {
          "output_type": "stream",
          "text": [
            "SVHN data sample shape:  torch.Size([3, 32, 32])\n"
          ],
          "name": "stdout"
        }
      ]
    },
    {
      "cell_type": "markdown",
      "metadata": {
        "id": "3KJW-DXlLzzo"
      },
      "source": [
        "И наконец, мы создаем основные объекты PyTorch:\n",
        "- `nn_model` - собственно, модель с нейросетью\n",
        "- `loss` - функцию ошибки, в нашем случае `CrossEntropyLoss`\n",
        "- `optimizer` - алгоритм оптимизации, в нашем случае просто `SGD`"
      ]
    },
    {
      "cell_type": "code",
      "metadata": {
        "scrolled": true,
        "id": "8bJSJORULzzo"
      },
      "source": [
        "nn_model = nn.Sequential(\n",
        "            Flattener(),\n",
        "            nn.Linear(3*32*32, 100),\n",
        "            nn.ReLU(inplace=True),\n",
        "            nn.Linear(100, 10), \n",
        "         )\n",
        "nn_model.type(torch.FloatTensor)\n",
        "\n",
        "# We will minimize cross-entropy between the ground truth and\n",
        "# network predictions using an SGD optimizer\n",
        "loss = nn.CrossEntropyLoss().type(torch.FloatTensor)\n",
        "optimizer = optim.SGD(nn_model.parameters(), lr=1e-2, weight_decay=1e-1)"
      ],
      "execution_count": null,
      "outputs": []
    },
    {
      "cell_type": "markdown",
      "metadata": {
        "id": "YVhD8Gd6Lzzp"
      },
      "source": [
        "## Тренируем!\n",
        "\n",
        "Ниже приведена функция `train_model`, реализующая основной цикл тренировки PyTorch.\n",
        "\n",
        "Каждую эпоху эта функция вызывает функцию `compute_accuracy`, которая вычисляет точность на validation, эту последнюю функцию предлагается реализовать вам."
      ]
    },
    {
      "cell_type": "code",
      "metadata": {
        "scrolled": true,
        "colab": {
          "base_uri": "https://localhost:8080/"
        },
        "id": "OFAXR8rFLzzp",
        "outputId": "2077bc43-948f-421b-c447-778dbadabe7c"
      },
      "source": [
        "# This is how to implement the same main train loop in PyTorch. Pretty easy, right?\n",
        "\n",
        "def train_model(model, train_loader, val_loader, loss, optimizer, num_epochs):    \n",
        "    loss_history = []\n",
        "    train_history = []\n",
        "    val_history = []\n",
        "    for epoch in range(num_epochs):\n",
        "        model.train() # Enter train mode\n",
        "        \n",
        "        loss_accum = 0\n",
        "        correct_samples = 0\n",
        "        total_samples = 0\n",
        "        for i_step, (x, y) in enumerate(train_loader):\n",
        "            prediction = model(x)    \n",
        "            loss_value = loss(prediction, y)\n",
        "            optimizer.zero_grad()\n",
        "            loss_value.backward()\n",
        "            optimizer.step()\n",
        "            \n",
        "            _, indices = torch.max(prediction, 1)\n",
        "            correct_samples += torch.sum(indices == y)\n",
        "            total_samples += y.shape[0]\n",
        "            \n",
        "            loss_accum += loss_value\n",
        "\n",
        "        ave_loss = loss_accum / (i_step + 1)\n",
        "        train_accuracy = float(correct_samples) / total_samples\n",
        "        val_accuracy = compute_accuracy(model, val_loader)\n",
        "        \n",
        "        loss_history.append(float(ave_loss))\n",
        "        train_history.append(train_accuracy)\n",
        "        val_history.append(val_accuracy)\n",
        "        \n",
        "        print(\"Average loss: %f, Train accuracy: %f, Val accuracy: %f\" % (ave_loss, train_accuracy, val_accuracy))\n",
        "        \n",
        "    return loss_history, train_history, val_history\n",
        "\n",
        "from torch.autograd import Variable\n",
        "def compute_accuracy(model, loader):\n",
        "    \"\"\"\n",
        "    Computes accuracy on the dataset wrapped in a loader\n",
        "    \n",
        "    Returns: accuracy as a float value between 0 and 1\n",
        "    \"\"\"\n",
        "\n",
        "    model.eval() # Evaluation mode\n",
        "\n",
        "    # TODO: Implement the inference of the model on all of the batches from loader,\n",
        "    #       and compute the overall accuracy.\n",
        "    # Hint: PyTorch has the argmax function!\n",
        "\n",
        "    num_correct = 0\n",
        "    num_samples = 0\n",
        "    for x, y in loader:\n",
        "        x_var = Variable(x, volatile=True)\n",
        "        scores = model(x_var)\n",
        "        _, preds = scores.data.cpu().max(1)\n",
        "        num_correct += (preds == y).sum()\n",
        "        num_samples += preds.size(0)\n",
        "    acc = float(num_correct) / num_samples\n",
        "    \n",
        "    return acc\n",
        "\n",
        "loss_history, train_history, val_history = train_model(nn_model, train_loader, val_loader, loss, optimizer, 3)"
      ],
      "execution_count": null,
      "outputs": [
        {
          "output_type": "stream",
          "text": [
            "/usr/local/lib/python3.7/dist-packages/ipykernel_launcher.py:55: UserWarning: volatile was removed and now has no effect. Use `with torch.no_grad():` instead.\n"
          ],
          "name": "stderr"
        },
        {
          "output_type": "stream",
          "text": [
            "Average loss: 1.824299, Train accuracy: 0.414053, Val accuracy: 0.529179\n",
            "Average loss: 1.457168, Train accuracy: 0.581698, Val accuracy: 0.598253\n",
            "Average loss: 1.382286, Train accuracy: 0.617582, Val accuracy: 0.619070\n"
          ],
          "name": "stdout"
        }
      ]
    },
    {
      "cell_type": "markdown",
      "metadata": {
        "id": "2Fa91Sq4Lzzp"
      },
      "source": [
        "## После основного цикла\n",
        "\n",
        "Посмотрим на другие возможности и оптимизации, которые предоставляет PyTorch.\n",
        "\n",
        "Добавьте еще один скрытый слой размера 100 нейронов к модели"
      ]
    },
    {
      "cell_type": "code",
      "metadata": {
        "scrolled": true,
        "id": "0KDHPcC3Lzzq"
      },
      "source": [
        "# Since it's so easy to add layers, let's add some!\n",
        "\n",
        "# TODO: Implement a model with 2 hidden layers of the size 100\n",
        "nn_model = nn.Sequential(\n",
        "       )\n",
        "nn_model.type(torch.FloatTensor)\n",
        "\n",
        "optimizer = optim.SGD(nn_model.parameters(), lr=1e-2, weight_decay=1e-1)\n",
        "loss_history, train_history, val_history = train_model(nn_model, train_loader, val_loader, loss, optimizer, 5)"
      ],
      "execution_count": null,
      "outputs": []
    },
    {
      "cell_type": "markdown",
      "metadata": {
        "id": "_KdsckOpLzzq"
      },
      "source": [
        "Добавьте слой с Batch Normalization"
      ]
    },
    {
      "cell_type": "code",
      "metadata": {
        "scrolled": true,
        "id": "qmXM-_qTLzzr"
      },
      "source": [
        "# We heard batch normalization is powerful, let's use it!\n",
        "# TODO: Add batch normalization after each of the hidden layers of the network, before or after non-linearity\n",
        "# Hint: check out torch.nn.BatchNorm1d\n",
        "\n",
        "nn_model = nn.Sequential(\n",
        "         )\n",
        "\n",
        "optimizer = optim.SGD(nn_model.parameters(), lr=1e-3, weight_decay=1e-1)\n",
        "loss_history, train_history, val_history = train_model(nn_model, train_loader, val_loader, loss, optimizer, 5)"
      ],
      "execution_count": null,
      "outputs": []
    },
    {
      "cell_type": "markdown",
      "metadata": {
        "id": "JC-2BDQtLzzr"
      },
      "source": [
        "Добавьте уменьшение скорости обучения по ходу тренировки."
      ]
    },
    {
      "cell_type": "code",
      "metadata": {
        "scrolled": true,
        "id": "S7pMWAtxLzzr"
      },
      "source": [
        "# Learning rate annealing\n",
        "# Reduce your learning rate 2x every 2 epochs\n",
        "# Hint: look up learning rate schedulers in PyTorch. You might need to extend train_model function a little bit too!\n",
        "\n",
        "nn_model = nn.Sequential(\n",
        "         )\n",
        "\n",
        "loss_history, train_history, val_history = train_model()"
      ],
      "execution_count": null,
      "outputs": []
    },
    {
      "cell_type": "markdown",
      "metadata": {
        "id": "AarpTRgBLzzr"
      },
      "source": [
        "# Визуализируем ошибки модели\n",
        "\n",
        "Попробуем посмотреть, на каких изображениях наша модель ошибается.\n",
        "Для этого мы получим все предсказания модели на validation set и сравним их с истинными метками (ground truth).\n",
        "\n",
        "Первая часть - реализовать код на PyTorch, который вычисляет все предсказания модели на validation set.  \n",
        "Чтобы это сделать мы приводим код `SubsetSampler`, который просто проходит по всем заданным индексам последовательно и составляет из них батчи. \n",
        "\n",
        "Реализуйте функцию `evaluate_model`, которая прогоняет модель через все сэмплы validation set и запоминает предсказания модели и истинные метки."
      ]
    },
    {
      "cell_type": "code",
      "metadata": {
        "id": "pqcod-2zLzzs"
      },
      "source": [
        "class SubsetSampler(Sampler):\n",
        "    r\"\"\"Samples elements with given indices sequentially\n",
        "\n",
        "    Arguments:\n",
        "        indices (ndarray): indices of the samples to take\n",
        "    \"\"\"\n",
        "\n",
        "    def __init__(self, indices):\n",
        "        self.indices = indices\n",
        "\n",
        "    def __iter__(self):\n",
        "        return (self.indices[i] for i in range(len(self.indices)))\n",
        "\n",
        "    def __len__(self): ,\n",
        "        return len(self.indices)\n",
        "    \n",
        "    \n",
        "def evaluate_model(model, dataset, indices):\n",
        "    \"\"\"\n",
        "    Computes predictions and ground truth labels for the indices of the dataset\n",
        "    \n",
        "    Returns: \n",
        "    predictions: np array of ints - model predictions\n",
        "    grount_truth: np array of ints - actual labels of the dataset\n",
        "    \"\"\"\n",
        "    model.eval() # Evaluation mode\n",
        "    \n",
        "    # TODO: Evaluate model on the list of indices and capture predictions\n",
        "    # and ground truth labels\n",
        "    # Hint: SubsetSampler above could be useful!\n",
        "    \n",
        "    raise Exception(\"Not implemented\")\n",
        "    \n",
        "    return predictions, ground_truth\n",
        "\n",
        "# Evaluate model on validation\n",
        "predictions, gt = evaluate_model(nn_model, data_train, val_indices)\n",
        "assert len(predictions) == len(val_indices)\n",
        "assert len(gt) == len(val_indices)\n",
        "assert gt[100] == data_train[val_indices[100]][1]\n",
        "assert np.any(np.not_equal(gt, predictions))"
      ],
      "execution_count": null,
      "outputs": []
    },
    {
      "cell_type": "markdown",
      "metadata": {
        "id": "T0hsoaj8Lzzs"
      },
      "source": [
        "## Confusion matrix\n",
        "Первая часть визуализации - вывести confusion matrix (https://en.wikipedia.org/wiki/Confusion_matrix ).\n",
        "\n",
        "Confusion matrix - это матрица, где каждой строке соответствуют классы предсказанный, а столбцу - классы истинных меток (ground truth). Число с координатами `i,j` - это количество сэмплов класса `j`, которые модель считает классом `i`.\n",
        "\n",
        "![image.png](attachment:image.png)\n",
        "\n",
        "Для того, чтобы облегчить вам задачу, ниже реализована функция `visualize_confusion_matrix` которая визуализирует такую матрицу.  \n",
        "Вам осталось реализовать функцию `build_confusion_matrix`, которая ее вычислит.\n",
        "\n",
        "Результатом должна быть матрица 10x10."
      ]
    },
    {
      "cell_type": "code",
      "metadata": {
        "id": "jbVQkQOzLzzs"
      },
      "source": [
        "def visualize_confusion_matrix(confusion_matrix):\n",
        "    \"\"\"\n",
        "    Visualizes confusion matrix\n",
        "    \n",
        "    confusion_matrix: np array of ints, x axis - predicted class, y axis - actual class\n",
        "                      [i][j] should have the count of samples that were predicted to be class i,\n",
        "                      but have j in the ground truth\n",
        "                     \n",
        "    \"\"\"\n",
        "    # Adapted from \n",
        "    # https://stackoverflow.com/questions/2897826/confusion-matrix-with-number-of-classified-misclassified-instances-on-it-python\n",
        "    assert confusion_matrix.shape[0] == confusion_matrix.shape[1]\n",
        "    size = confusion_matrix.shape[0]\n",
        "    fig = plt.figure(figsize=(10,10))\n",
        "    plt.title(\"Confusion matrix\")\n",
        "    plt.ylabel(\"predicted\")\n",
        "    plt.xlabel(\"ground truth\")\n",
        "    res = plt.imshow(confusion_matrix, cmap='GnBu', interpolation='nearest')\n",
        "    cb = fig.colorbar(res)\n",
        "    plt.xticks(np.arange(size))\n",
        "    plt.yticks(np.arange(size))\n",
        "    for i, row in enumerate(confusion_matrix):\n",
        "        for j, count in enumerate(row):\n",
        "            plt.text(j, i, count, fontsize=14, horizontalalignment='center', verticalalignment='center')\n",
        "    \n",
        "def build_confusion_matrix(predictions, ground_truth):\n",
        "    \"\"\"\n",
        "    Builds confusion matrix from predictions and ground truth\n",
        "\n",
        "    predictions: np array of ints, model predictions for all validation samples\n",
        "    ground_truth: np array of ints, ground truth for all validation samples\n",
        "    \n",
        "    Returns:\n",
        "    np array of ints, (10,10), counts of samples for predicted/ground_truth classes\n",
        "    \"\"\"\n",
        "    \n",
        "    confusion_matrix = np.zeros((10,10), np.int)\n",
        "    \n",
        "    # TODO: Implement filling the prediction matrix\n",
        "    return np.array([[40, 2, 3], [10, 50,0], [0, 2, 80]])\n",
        "\n",
        "confusion_matrix = build_confusion_matrix(predictions, gt)\n",
        "visualize_confusion_matrix(confusion_matrix)"
      ],
      "execution_count": null,
      "outputs": []
    },
    {
      "cell_type": "markdown",
      "metadata": {
        "id": "Nt94kmNLLzzt"
      },
      "source": [
        "Наконец, посмотрим на изображения, соответствующие некоторым элементам этой матрицы.\n",
        "\n",
        "Как и раньше, вам дана функция `visualize_images`, которой нужно воспрользоваться при реализации функции `visualize_predicted_actual`. Эта функция должна вывести несколько примеров, соответствующих заданному элементу матрицы.\n",
        "\n",
        "Визуализируйте наиболее частые ошибки и попробуйте понять, почему модель их совершает."
      ]
    },
    {
      "cell_type": "code",
      "metadata": {
        "id": "_hTGeMMNLzzt"
      },
      "source": [
        "data_train_images = dset.SVHN('./data/', split='train')\n",
        "\n",
        "def visualize_images(indices, data, title='', max_num=10):\n",
        "    \"\"\"\n",
        "    Visualizes several images from the dataset\n",
        " \n",
        "    indices: array of indices to visualize\n",
        "    data: torch Dataset with the images\n",
        "    title: string, title of the plot\n",
        "    max_num: int, max number of images to display\n",
        "    \"\"\"\n",
        "    to_show = min(len(indices), max_num)\n",
        "    fig = plt.figure(figsize=(10,1.5))\n",
        "    fig.suptitle(title)\n",
        "    for i, index in enumerate(indices[:to_show]):\n",
        "        plt.subplot(1,to_show, i+1)\n",
        "        plt.axis('off')\n",
        "        sample = data[index][0]\n",
        "        plt.imshow(sample)\n",
        "        \n",
        "def visualize_predicted_actual(predicted_class, gt_class, predictions, groud_truth, val_indices, data):\n",
        "    \"\"\"\n",
        "    Visualizes images of a ground truth class which were predicted as the other class \n",
        "    \n",
        "    predicted: int 0-9, index of the predicted class\n",
        "    gt_class: int 0-9, index of the ground truth class\n",
        "    predictions: np array of ints, model predictions for all validation samples\n",
        "    ground_truth: np array of ints, ground truth for all validation samples\n",
        "    val_indices: np array of ints, indices of validation samples\n",
        "    \"\"\"\n",
        "\n",
        "    # TODO: Implement visualization using visualize_images above\n",
        "    # predictions and ground_truth are provided for validation set only, defined by val_indices\n",
        "    # Hint: numpy index arrays might be helpful\n",
        "    # https://docs.scipy.org/doc/numpy/user/basics.indexing.html#index-arrays\n",
        "    # Please make the title meaningful!\n",
        "    \n",
        "    raise Exception(\"Not implemented\")\n",
        "\n",
        "visualize_predicted_actual(6, 8, predictions, gt, np.array(val_indices), data_train_images)\n",
        "visualize_predicted_actual(1, 7, predictions, gt, np.array(val_indices), data_train_images)"
      ],
      "execution_count": null,
      "outputs": []
    },
    {
      "cell_type": "markdown",
      "metadata": {
        "id": "G02qnxjWLzzt"
      },
      "source": [
        "# Переходим к свободным упражнениям!\n",
        "\n",
        "Натренируйте модель как можно лучше - экспериментируйте сами!\n",
        "Что следует обязательно попробовать:\n",
        "- перебор гиперпараметров с помощью валидационной выборки\n",
        "- другие оптимизаторы вместо SGD\n",
        "- изменение количества слоев и их размеров\n",
        "- наличие Batch Normalization\n",
        "\n",
        "Но ограничиваться этим не стоит!\n",
        "\n",
        "Точность на тестовой выборке должна быть доведена до **80%**"
      ]
    },
    {
      "cell_type": "code",
      "metadata": {
        "scrolled": true,
        "id": "DK267NdaLzzt"
      },
      "source": [
        "# Experiment here!"
      ],
      "execution_count": null,
      "outputs": []
    },
    {
      "cell_type": "code",
      "metadata": {
        "id": "DoQpqmO-Lzzu"
      },
      "source": [
        "# Как всегда, в конце проверяем на test set\n",
        "test_loader = torch.utils.data.DataLoader(data_test, batch_size=batch_size)\n",
        "test_accuracy = compute_accuracy(nn_model, test_loader)\n",
        "print(\"Test accuracy: %2.4f\" % test_accuracy)"
      ],
      "execution_count": null,
      "outputs": []
    },
    {
      "cell_type": "code",
      "metadata": {
        "id": "nJUvUAzSLzzu"
      },
      "source": [
        ""
      ],
      "execution_count": null,
      "outputs": []
    }
  ]
}