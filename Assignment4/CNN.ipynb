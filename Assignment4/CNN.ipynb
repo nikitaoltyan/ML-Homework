{
  "nbformat": 4,
  "nbformat_minor": 0,
  "metadata": {
    "kernelspec": {
      "display_name": "Python 3",
      "language": "python",
      "name": "python3"
    },
    "language_info": {
      "codemirror_mode": {
        "name": "ipython",
        "version": 3
      },
      "file_extension": ".py",
      "mimetype": "text/x-python",
      "name": "python",
      "nbconvert_exporter": "python",
      "pygments_lexer": "ipython3",
      "version": "3.7.3"
    },
    "colab": {
      "name": "Копия блокнота \"CNN.ipynb\"",
      "provenance": [],
      "collapsed_sections": [],
      "include_colab_link": true
    }
  },
  "cells": [
    {
      "cell_type": "markdown",
      "metadata": {
        "id": "view-in-github",
        "colab_type": "text"
      },
      "source": [
        "<a href=\"https://colab.research.google.com/github/nikitaoltyan/ML-Homework/blob/main/Assignment4/CNN.ipynb\" target=\"_parent\"><img src=\"https://colab.research.google.com/assets/colab-badge.svg\" alt=\"Open In Colab\"/></a>"
      ]
    },
    {
      "cell_type": "markdown",
      "metadata": {
        "id": "ATEQ-G0oUjoW"
      },
      "source": [
        "# Задание 4.1 - Сверточные нейронные сети (Convolutional Neural Networks)\n",
        "\n",
        "Это последнее задание на numpy, вы до него дожили! Остался последний марш-бросок, дальше только PyTorch.\n",
        "\n",
        "В этом задании вы реализуете свою собственную сверточную нейронную сеть."
      ]
    },
    {
      "cell_type": "code",
      "metadata": {
        "pycharm": {
          "name": "#%%\n"
        },
        "id": "OGXOaaHpUjoZ",
        "colab": {
          "base_uri": "https://localhost:8080/"
        },
        "outputId": "c3288710-37cb-44fd-a08d-1f12c8d0d87a"
      },
      "source": [
        "# Запустите эту ячейку если работаете в Colab\n",
        "import os\n",
        "if not os.path.exists('CNN.ipynb'):\n",
        "    !git clone https://github.com/nikitaoltyan/ML-Homework.git\n",
        "%cd ML-Homework/Assignment4"
      ],
      "execution_count": 2,
      "outputs": [
        {
          "output_type": "stream",
          "text": [
            "Cloning into 'ML-Homework'...\n",
            "remote: Enumerating objects: 72, done.\u001b[K\n",
            "remote: Counting objects: 100% (72/72), done.\u001b[K\n",
            "remote: Compressing objects: 100% (72/72), done.\u001b[K\n",
            "remote: Total 349 (delta 32), reused 0 (delta 0), pack-reused 277\u001b[K\n",
            "Receiving objects: 100% (349/349), 1.55 MiB | 16.85 MiB/s, done.\n",
            "Resolving deltas: 100% (148/148), done.\n",
            "/content/ML-Homework/Assignment4\n"
          ],
          "name": "stdout"
        }
      ]
    },
    {
      "cell_type": "code",
      "metadata": {
        "id": "fJ9dACYXZV_A",
        "colab": {
          "base_uri": "https://localhost:8080/"
        },
        "outputId": "cb103a59-ea4a-4b10-e09e-610899d6cf86"
      },
      "source": [
        "! wget -c http://ufldl.stanford.edu/housenumbers/train_32x32.mat http://ufldl.stanford.edu/housenumbers/test_32x32.mat\n",
        "%cd ../Assignment4"
      ],
      "execution_count": 3,
      "outputs": [
        {
          "output_type": "stream",
          "text": [
            "--2021-03-21 11:49:29--  http://ufldl.stanford.edu/housenumbers/train_32x32.mat\n",
            "Resolving ufldl.stanford.edu (ufldl.stanford.edu)... 171.64.68.10\n",
            "Connecting to ufldl.stanford.edu (ufldl.stanford.edu)|171.64.68.10|:80... connected.\n",
            "HTTP request sent, awaiting response... 200 OK\n",
            "Length: 182040794 (174M) [text/plain]\n",
            "Saving to: ‘train_32x32.mat’\n",
            "\n",
            "train_32x32.mat     100%[===================>] 173.61M  27.0MB/s    in 9.6s    \n",
            "\n",
            "2021-03-21 11:49:39 (18.0 MB/s) - ‘train_32x32.mat’ saved [182040794/182040794]\n",
            "\n",
            "--2021-03-21 11:49:39--  http://ufldl.stanford.edu/housenumbers/test_32x32.mat\n",
            "Reusing existing connection to ufldl.stanford.edu:80.\n",
            "HTTP request sent, awaiting response... 200 OK\n",
            "Length: 64275384 (61M) [text/plain]\n",
            "Saving to: ‘test_32x32.mat’\n",
            "\n",
            "test_32x32.mat      100%[===================>]  61.30M  39.6MB/s    in 1.5s    \n",
            "\n",
            "2021-03-21 11:49:41 (39.6 MB/s) - ‘test_32x32.mat’ saved [64275384/64275384]\n",
            "\n",
            "FINISHED --2021-03-21 11:49:41--\n",
            "Total wall clock time: 11s\n",
            "Downloaded: 2 files, 235M in 11s (21.0 MB/s)\n",
            "/content/ML-Homework/Assignment4\n"
          ],
          "name": "stdout"
        }
      ]
    },
    {
      "cell_type": "code",
      "metadata": {
        "id": "unI7SW1aUjoa"
      },
      "source": [
        "import numpy as np\n",
        "import matplotlib.pyplot as plt\n",
        "\n",
        "%matplotlib inline\n",
        "\n",
        "%load_ext autoreload\n",
        "%autoreload 2"
      ],
      "execution_count": 4,
      "outputs": []
    },
    {
      "cell_type": "code",
      "metadata": {
        "id": "jLIoKMYuUjoa"
      },
      "source": [
        "from dataset import load_svhn, random_split_train_val\n",
        "from gradient_check import check_layer_gradient, check_layer_param_gradient, check_model_gradient\n",
        "from layers import FullyConnectedLayer, ReLULayer, ConvolutionalLayer, MaxPoolingLayer, Flattener\n",
        "from model import ConvNet\n",
        "from trainer import Trainer, Dataset\n",
        "from optim import SGD, MomentumSGD\n",
        "from metrics import multiclass_accuracy"
      ],
      "execution_count": 5,
      "outputs": []
    },
    {
      "cell_type": "markdown",
      "metadata": {
        "id": "4QMBhQIOUjoa"
      },
      "source": [
        "# Загружаем данные\n",
        "\n",
        "На этот раз мы не будем их преобразовывать в один вектор, а оставим размерности (num_samples, 32, 32, 3)."
      ]
    },
    {
      "cell_type": "code",
      "metadata": {
        "id": "awU2Wo_RUjob"
      },
      "source": [
        "def prepare_for_neural_network(train_X, test_X):    \n",
        "    train_X = train_X.astype(np.float) / 255.0\n",
        "    test_X = test_X.astype(np.float) / 255.0\n",
        "    \n",
        "    # Subtract mean\n",
        "    mean_image = np.mean(train_X, axis = 0)\n",
        "    train_X -= mean_image\n",
        "    test_X -= mean_image\n",
        "    \n",
        "    return train_X, test_X\n",
        "    \n",
        "train_X, train_y, test_X, test_y = load_svhn(\"\", max_train=10000, max_test=1000)    \n",
        "train_X, test_X = prepare_for_neural_network(train_X, test_X)\n",
        "# Split train into train and val\n",
        "train_X, train_y, val_X, val_y = random_split_train_val(train_X, train_y, num_val = 1000)"
      ],
      "execution_count": 6,
      "outputs": []
    },
    {
      "cell_type": "markdown",
      "metadata": {
        "id": "QrJwOWQ5Ujob"
      },
      "source": [
        "## Линейная свертка последовательностей\n",
        "\n",
        "Для начала вспомним, что сверткой последовательностей называется такая последовательность, в которой каждый элемент есть сумма перемноженных элементов двух числовых последовательностей $x$ длиной $N_1$ и $h$ длиной $N_2$ таким образом, что члены одной последовательности берутся с возрастанием индексов, а члены другой — с убыванием.\n",
        "\n",
        "$y_n = \\sum\\limits_{m=0}^n h_m \\cdot x_{n-m}$\n",
        "\n",
        "Такой же результат получится, если одну из последовательностей не сдвигать, а дополнить нулями с двух сторон.  \n",
        "Заметим, что для более \"похожих\" последовательностей значения свертки будут больше."
      ]
    },
    {
      "cell_type": "markdown",
      "metadata": {
        "id": "TcMTHkXwUjoc"
      },
      "source": [
        "<img src=\"https://github.com/balezz/tad_ml_dl_2021/blob/main/Assignment4/img/conv1D.jpg?raw=1\">"
      ]
    },
    {
      "cell_type": "markdown",
      "metadata": {
        "id": "8ZKLdPj2Ujoc"
      },
      "source": [
        "## Двумерная свертка и max pooling\n",
        "\n",
        "\n",
        "Пусть мы имеем матрицу черно-белого изображения размером $6x6x1$. Нам нужно определить какая фигура на нем изображена: горизонтальная или вертикальная? Для этого мы используем два сверточных фильтра (Convolution Filters, kernels) размером $3x3$. На первом фильтре у нас три пикселя, расположенных вертикально, на втором фильтре три пикселя, расположенных горизонтально.  \n"
      ]
    },
    {
      "cell_type": "markdown",
      "metadata": {
        "id": "Frx5RpazUjoc"
      },
      "source": [
        "<img src=\"https://github.com/balezz/tad_ml_dl_2021/blob/main/Assignment4/img/conv2D_maxPool.jpg?raw=1\">"
      ]
    },
    {
      "cell_type": "markdown",
      "metadata": {
        "id": "-sPw_i5BUjod"
      },
      "source": [
        "Сдвигая выбранный регион вдоль оси x и оси y мы получаем новую матрицу (карту) размером $4x4$ со значениями скалярного произведения сверточного фильтра и выбранного региона. Т.к. фильтра у нас два, то и сверточных карт у нас тоже будет две: $4x4x2$.  \n",
        "\n",
        "Далее, чтобы вычислить, на какой из фильтров больше \"похоже\" наше исходное изображение, применим операцию Max Pooling. Её смысл довольно прост - нужно из выбранного региона выбрать максимальное значение и записать его в выходную матрицу. Регионы так же как и в свертке сдвигаются вдоль оси x и y.  \n",
        "\n",
        "В результате получаем тензор $3x3x2$, который подается на вход полносвязного слоя, на выходе которого будет два скаляра - z-score для каждого класса. Для первого класса score будет выше, что говорит о том, что исходное изображение является скорее всего вертикальной полосой, чем горизонтальной.   "
      ]
    },
    {
      "cell_type": "markdown",
      "metadata": {
        "id": "zA_6oGzKUjod"
      },
      "source": [
        "Заметим, что в результате свертки у нас уменьшился размер исходного изображения. В общем случае это недопустимо, поэтому исходное изображение дополняется по краям (padding) значениями 0 или ближайших пикселей."
      ]
    },
    {
      "cell_type": "markdown",
      "metadata": {
        "id": "5S5OzYt2Ujod"
      },
      "source": [
        "<img src=\"https://github.com/balezz/tad_ml_dl_2021/blob/main/Assignment4/img/conv.gif?raw=1\">"
      ]
    },
    {
      "cell_type": "markdown",
      "metadata": {
        "id": "kW4eclRSUjoe"
      },
      "source": [
        "# Реализуем новые слои!\n",
        "\n",
        "Сначала основной новый слой - сверточный (Convolutional layer). \n",
        "\n",
        "На рисунке зеленым цветом обозначен один такой \"регион\", который скалярно перемножается с фильтром 1 (вертикальная полоска) и фильтром 2 (горизонтальная полоска)."
      ]
    },
    {
      "cell_type": "markdown",
      "metadata": {
        "id": "I1Dou1DUUjoe"
      },
      "source": [
        "<img src=\"https://github.com/balezz/tad_ml_dl_2021/blob/main/Assignment4/img/conv1.png?raw=1\">"
      ]
    },
    {
      "cell_type": "markdown",
      "metadata": {
        "id": "nDwhR5FYUjoe"
      },
      "source": [
        "Он получает на вход   \n",
        "регион входа I размера `(batch_size, filter_size, filter_size, input_channels)`,  \n",
        "применяет к нему веса W `(filter_size, filter_size, input_channels, output_channels`\n",
        "и выдает `(batch_size, output_channels)`. \n",
        "\n",
        "Если:  \n",
        "- вход преобразовать в I' `(batch_size, filter_size*filter_size*input_channels)`,  \n",
        "- веса в W' `(filter_size*filter_size*input_channels, output_channels)`,  \n",
        "то выход \"пикселе\" будет эквивалентен полносвязному слою со входом I' и весами W'.\n",
        "\n",
        "Осталось выполнить его в цикле для каждого пикселя :)"
      ]
    },
    {
      "cell_type": "code",
      "metadata": {
        "scrolled": false,
        "id": "rNJ-kF5pUjof",
        "colab": {
          "base_uri": "https://localhost:8080/"
        },
        "outputId": "6b84b17e-54f7-45cf-b9a0-53475c200c5a"
      },
      "source": [
        "# TODO: Implement ConvolutionaLayer that supports only 1 output and input channel\n",
        "\n",
        "# Note: now you're working with images, so X is 4-dimensional tensor of\n",
        "# (batch_size, height, width, channels)\n",
        "\n",
        "X = np.array([\n",
        "              [\n",
        "               [[1.0], [2.0]],\n",
        "               [[0.0], [-1.0]]\n",
        "              ]\n",
        "              ,\n",
        "              [\n",
        "               [[0.0], [1.0]],\n",
        "               [[-2.0], [-1.0]]\n",
        "              ]\n",
        "             ])\n",
        "\n",
        "# Batch of 2 images of dimensions 2x2 with a single channel\n",
        "print(\"Shape of X:\",X.shape)\n",
        "\n",
        "layer = ConvolutionalLayer(in_channels=1, out_channels=1, filter_size=2, padding=0)\n",
        "print(\"Shape of W\", layer.W.value.shape)\n",
        "layer.W.value = np.zeros_like(layer.W.value)\n",
        "layer.W.value[0, 0, 0, 0] = 1.0\n",
        "layer.B.value = np.ones_like(layer.B.value)\n",
        "result = layer.forward(X)\n",
        "\n",
        "assert result.shape == (2, 1, 1, 1)\n",
        "assert np.all(result == X[:, :1, :1, :1] +1), f\"result: {result}, X: {X[:, :1, :1, :1]}\"\n",
        "\n",
        "\n",
        "# Now let's implement multiple output channels\n",
        "layer = ConvolutionalLayer(in_channels=1, out_channels=2, filter_size=2, padding=0)\n",
        "result = layer.forward(X)\n",
        "assert result.shape == (2, 1, 1, 2)\n",
        "\n",
        "\n",
        "# And now multple input channels!\n",
        "X = np.array([[\n",
        "               [[1.0, 0.0], [2.0, 1.0]],\n",
        "               [[0.0, -1.0], [-1.0, -2.0]]\n",
        "              ],[\n",
        "               [[0.0, 1.0], [1.0, -1.0]],\n",
        "               [[-2.0, 2.0], [-1.0, 0.0]]\n",
        "              ]])\n",
        "\n",
        "print(\"Shape of X:\", X.shape)\n",
        "layer = ConvolutionalLayer(in_channels=2, out_channels=2, filter_size=2, padding=0)\n",
        "result = layer.forward(X)\n",
        "assert result.shape == (2, 1, 1, 2)\n",
        "\n",
        "print(f'Result: {result}')"
      ],
      "execution_count": 7,
      "outputs": [
        {
          "output_type": "stream",
          "text": [
            "Shape of X: (2, 2, 2, 1)\n",
            "Shape of W (2, 2, 1, 1)\n",
            "Shape of X: (2, 2, 2, 2)\n",
            "Result: [[[[-1.51381082 -1.9461965 ]]]\n",
            "\n",
            "\n",
            " [[[-4.89786213 -0.5934435 ]]]]\n"
          ],
          "name": "stdout"
        }
      ]
    },
    {
      "cell_type": "markdown",
      "metadata": {
        "id": "TrIAdPLfUjof"
      },
      "source": [
        "## А теперь имплементируем обратный проход\n",
        "Возможно, это самое сложное место в курсе. Дальше будет лучше.\n",
        "\n",
        "Раз выполнение сверточного слоя эквивалентно Fully Conected Layer для каждого \"пикселя\" выхода, то общий обратный проход эквивалентен обратному проходу каждого из таких \"слоев\".  \n",
        "Градиенты от каждого из этих \"слоев\" в каждом пикселе надо сложить в соответствующие пиксели градиента по входу, а градиенты весов сложить все вместе."
      ]
    },
    {
      "cell_type": "code",
      "metadata": {
        "scrolled": false,
        "id": "e1QJB8iEUjog",
        "colab": {
          "base_uri": "https://localhost:8080/"
        },
        "outputId": "db6c6619-ae9e-4162-80fc-9f744be3f65a"
      },
      "source": [
        "# First test - check the shape is right\n",
        "layer = ConvolutionalLayer(in_channels=2, out_channels=2, filter_size=2, padding=0)\n",
        "result = layer.forward(X)\n",
        "d_input = layer.backward(np.ones_like(result))\n",
        "assert d_input.shape == X.shape\n",
        "\n",
        "# Actually test the backward pass\n",
        "# As usual, you'll need to copy gradient check code from the previous assignment\n",
        "layer = ConvolutionalLayer(in_channels=2, out_channels=2, filter_size=2, padding=0)\n",
        "assert check_layer_gradient(layer, X)\n",
        "\n",
        "layer = ConvolutionalLayer(in_channels=2, out_channels=2, filter_size=2, padding=0)\n",
        "assert check_layer_param_gradient(layer, X, 'W')\n",
        "layer = ConvolutionalLayer(in_channels=2, out_channels=2, filter_size=2, padding=0)\n",
        "assert check_layer_param_gradient(layer, X, 'B')"
      ],
      "execution_count": 11,
      "outputs": [
        {
          "output_type": "stream",
          "text": [
            "0.5913911931861932 0.5913911931720861\n",
            "0.3846197258814826 0.3846197258905448\n",
            "-0.7885612197803287 -0.7885612197888746\n",
            "0.4264766505467265 0.4264766505501782\n",
            "-0.9048785615098869 -0.9048785615251019\n",
            "-0.9049150325095674 -0.9049150325290966\n",
            "0.2836167895812308 0.28361678958699343\n",
            "-0.6466106046850061 -0.6466106046820741\n",
            "0.8656119944970345 0.8656119944938644\n",
            "0.6199290294763771 0.6199290294661708\n",
            "0.023561810433032817 0.02356181042495464\n",
            "-0.7663717216393693 -0.7663717216277454\n",
            "0.1884499413469086 0.188449941340707\n",
            "-0.5703685601313704 -0.5703685601377018\n",
            "-0.18332904975981967 -0.18332904975215666\n",
            "-0.04557455818315853 -0.04557455818288147\n",
            "Gradient check passed!\n",
            "0.07885180401717445 0.07885180401956404\n",
            "-0.2840866529492499 -0.2840866529574271\n",
            "-1.3239612465964041 -1.323961246613159\n",
            "-0.9605207175890123 -0.9605207176299756\n",
            "-1.166257638562055 -1.1662576385518264\n",
            "-1.5286940234875122 -1.5286940235448296\n",
            "1.4028130506135785 1.4028130506327228\n",
            "0.6764340646397624 0.6764340646725486\n",
            "2.6479224931928083 2.6479224932041134\n",
            "1.9210414351780245 1.9210414351711333\n",
            "-2.7267742972099827 -2.7267742972014726\n",
            "-1.6369547822287747 -1.6369547822137063\n",
            "1.2451094425792297 1.245109442593595\n",
            "1.244607370538262 1.2446073705429939\n",
            "-0.1577036080343489 -0.15770360803912808\n",
            "0.5681733058984998 0.5681733059148542\n",
            "Gradient check passed!\n",
            "2.606286837527068 2.6062868375476\n",
            "0.18948080040599602 0.18948080038327927\n",
            "Gradient check passed!\n"
          ],
          "name": "stdout"
        }
      ]
    },
    {
      "cell_type": "markdown",
      "metadata": {
        "id": "2OYGsqe-Ujog"
      },
      "source": [
        "Осталось реализовать дополнение нулями (padding).   \n",
        "Достаточно дополнить входной тензор нулями по сторонам. Не забудьте учесть это при обратном проходе!"
      ]
    },
    {
      "cell_type": "code",
      "metadata": {
        "scrolled": true,
        "id": "m9k7QnGlUjoh",
        "colab": {
          "base_uri": "https://localhost:8080/"
        },
        "outputId": "9d29c0ac-9804-4ef9-e656-809062bce7bf"
      },
      "source": [
        "layer = ConvolutionalLayer(in_channels=2, out_channels=2, filter_size=3, padding=1)\n",
        "result = layer.forward(X)\n",
        "# Note this kind of layer produces the same dimensions as input\n",
        "assert result.shape == X.shape,\"Result shape: %s - Expected shape %s\" % (result.shape, X.shape)\n",
        "d_input = layer.backward(np.ones_like(result))\n",
        "assert d_input.shape == X.shape\n",
        "layer = ConvolutionalLayer(in_channels=2, out_channels=2, filter_size=3, padding=1)\n",
        "assert check_layer_gradient(layer, X)"
      ],
      "execution_count": 12,
      "outputs": [
        {
          "output_type": "stream",
          "text": [
            "1.3102303210428747 1.3102303211276478\n",
            "-0.20275525683521475 -0.2027552567618329\n",
            "-0.3792332460123957 -0.3792332460506031\n",
            "-2.025399998298943 -2.0253999982955406\n",
            "-0.20918051164317597 -0.20918051157892134\n",
            "0.2258167143141181 0.2258167143054379\n",
            "0.5452208702654796 0.5452208702738659\n",
            "-0.992176093750765 -0.9921760937281475\n",
            "0.7733198877224854 0.7733198876813673\n",
            "-2.274390833769655 -2.2743908338007657\n",
            "0.8511261413443394 0.8511261414323456\n",
            "-1.8188669429095832 -1.8188669428820246\n",
            "-0.2859010456475009 -0.2859010456823796\n",
            "-4.167305296029605 -4.1673052960877754\n",
            "1.0089050969283355 1.0089050968886681\n",
            "0.5511074103450475 0.5511074104180835\n",
            "Gradient check passed!\n"
          ],
          "name": "stdout"
        }
      ]
    },
    {
      "cell_type": "markdown",
      "metadata": {
        "id": "8PPNmbJ2Ujoh"
      },
      "source": [
        "## После следующего слоя вам уже будет все ни по чем - max pooling\n",
        "\n",
        "Max Pooling - это слой, реализующий операцию максимума для каждого канала отдельно в окресности из `pool_size` \"пикселей\".\n",
        "\n",
        "![image](https://upload.wikimedia.org/wikipedia/commons/e/e9/Max_pooling.png)\n",
        "\n",
        "И напомним что такое stride.  \n",
        "Stride - это на сколько \"пикселей\" сдвигается окно на одном шаге.  \n",
        "Вот здесь, например, stride = 2\n",
        "\n",
        "![image.png](http://deeplearning.net/software/theano/_images/no_padding_strides.gif)\n",
        "\n",
        "На практике, для max pooling значение stride часто равно pool size."
      ]
    },
    {
      "cell_type": "code",
      "metadata": {
        "id": "51rfcdmJUjoh",
        "colab": {
          "base_uri": "https://localhost:8080/"
        },
        "outputId": "dc2b7cd0-381c-4238-afd4-9bbc30c5da8c"
      },
      "source": [
        "pool = MaxPoolingLayer(2, 2)\n",
        "result = pool.forward(X)\n",
        "assert result.shape == (2, 1, 1, 2)\n",
        "\n",
        "assert check_layer_gradient(pool, X)"
      ],
      "execution_count": 13,
      "outputs": [
        {
          "output_type": "stream",
          "text": [
            "0.0 0.0\n",
            "0.0 0.0\n",
            "0.20859859899219693 0.20859859899413633\n",
            "0.9682899998123814 0.9682899998031401\n",
            "0.0 0.0\n",
            "0.0 0.0\n",
            "0.0 0.0\n",
            "0.0 0.0\n",
            "0.0 0.0\n",
            "0.0 0.0\n",
            "-0.10884190462414232 -0.1088419046335609\n",
            "0.0 0.0\n",
            "0.0 0.0\n",
            "-1.066716626361869 -1.0667166263633732\n",
            "0.0 0.0\n",
            "0.0 0.0\n",
            "Gradient check passed!\n"
          ],
          "name": "stdout"
        }
      ]
    },
    {
      "cell_type": "markdown",
      "metadata": {
        "id": "JAXfCex6Ujoi"
      },
      "source": [
        "И на закуску - слой, преобразующий четырехмерные тензоры в двумерные.\n",
        "\n",
        "Этот слой понадобится нам, чтобы в конце сети перейти от сверточных слоев к полносвязным."
      ]
    },
    {
      "cell_type": "code",
      "metadata": {
        "id": "bynySH70Ujoi",
        "colab": {
          "base_uri": "https://localhost:8080/"
        },
        "outputId": "73a355a0-57d7-4c1c-ffaa-233c1d905bb1"
      },
      "source": [
        "flattener = Flattener()\n",
        "result = flattener.forward(X)\n",
        "assert result.shape == (2,8)\n",
        "\n",
        "assert check_layer_gradient(flattener, X)"
      ],
      "execution_count": 14,
      "outputs": [
        {
          "output_type": "stream",
          "text": [
            "0.9041822469747064 0.9041822469413318\n",
            "-1.0072605907201435 -1.0072605907573973\n",
            "1.8088613778929445 1.8088613779276839\n",
            "0.5607693490151672 0.5607693490006227\n",
            "-0.5988927366153652 -0.5988927366473717\n",
            "1.108651612506258 1.1086516125136114\n",
            "-0.00918903403088564 -0.009189034022583087\n",
            "-0.22140556099402312 -0.22140556099614625\n",
            "-0.6808693760977649 -0.6808693760795846\n",
            "-1.8781789995318374 -1.8781789995259144\n",
            "0.6043925703668273 0.6043925703913544\n",
            "-1.6281267618176072 -1.6281267618545312\n",
            "-0.7932943318513783 -0.7932943318689211\n",
            "0.43284455385027715 0.4328445538437364\n",
            "-0.5006764014955146 -0.5006764014936493\n",
            "0.15715187079094847 0.15715187076104087\n",
            "Gradient check passed!\n"
          ],
          "name": "stdout"
        }
      ]
    },
    {
      "cell_type": "markdown",
      "metadata": {
        "id": "k59ecbPWUjoi"
      },
      "source": [
        "# Теперь есть все кирпичики, создаем модель"
      ]
    },
    {
      "cell_type": "code",
      "metadata": {
        "scrolled": false,
        "id": "nB3H-jqWUjoj",
        "colab": {
          "base_uri": "https://localhost:8080/"
        },
        "outputId": "516c46cb-e966-4dd1-fe51-59f692b79e25"
      },
      "source": [
        "# TODO: In model.py, implement missed functions function for ConvNet model\n",
        "\n",
        "# No need to use L2 regularization\n",
        "model = ConvNet(input_shape=(32,32,3), n_output_classes=10, conv1_channels=2, conv2_channels=2)\n",
        "loss = model.compute_loss_and_gradients(train_X[:2], train_y[:2])\n",
        "\n",
        "# TODO Now implement backward pass and aggregate all of the params\n",
        "check_model_gradient(model, train_X[:2], train_y[:2])"
      ],
      "execution_count": 45,
      "outputs": [
        {
          "output_type": "stream",
          "text": [
            "Checking gradient for W1\n",
            "-0.00036400342322493064 -0.00036400342739995034\n",
            "0.00024199225737753924 0.00024199227066645787\n",
            "-0.0006069930255196013 -0.0006069930114094291\n",
            "0.0002676120760449786 0.0002676120658406944\n",
            "-0.0010698712879900858 -0.00106987128045688\n",
            "0.00031883952400761775 0.00031883953255373854\n",
            "0.00018373059084115316 0.0001837305863006122\n",
            "3.754675748496823e-05 3.7546765696561124e-05\n",
            "-8.102364684826611e-05 -8.102363224793407e-05\n",
            "6.73696519301973e-05 6.736966540188405e-05\n",
            "-0.0005655446055273523 -0.0005655446111418883\n",
            "0.00012878271391389878 0.00012878271782312822\n",
            "-0.003383343150285762 -0.0033833431389851394\n",
            "0.00023018100271880078 0.0002301810297922202\n",
            "-0.0035234010266400975 -0.0035234010375972953\n",
            "0.0002691036057107778 0.0002691036060653573\n",
            "-0.0037328954276841563 -0.0037328954372028984\n",
            "0.0003213377650134381 0.00032133777860821056\n",
            "-0.0005474303932210363 -0.0005474303899077881\n",
            "-0.00013358285589211682 -0.00013358285588793706\n",
            "-0.0007832044608654779 -0.0007832044790490044\n",
            "-8.050652140529289e-05 -8.050653477198466e-05\n",
            "-0.001242414612166858 -0.0012424145712230938\n",
            "2.8756989181419383e-05 2.87569967838408e-05\n",
            "-1.8838984335108104e-06 -1.883893041565443e-06\n",
            "-0.0002786356973767158 -0.0002786356922968025\n",
            "-0.00026358518170709354 -0.0002635851759080765\n",
            "-0.00022167587590734365 -0.00022167587765409277\n",
            "-0.0007364438946990803 -0.0007364439058576976\n",
            "-0.00010805126277472414 -0.00010805125683077675\n",
            "-0.0034765190779171653 -0.0034765190948249365\n",
            "5.132389641377278e-06 5.132383407158159e-06\n",
            "-0.003619925530582607 -0.0036199255371016643\n",
            "6.75824008916849e-05 6.758238413340223e-05\n",
            "-0.003826119765021433 -0.0038261197765621087\n",
            "0.00015823632246849702 0.00015823633514600033\n",
            "-0.002125321122652771 -0.002125321119095247\n",
            "-9.464719857793303e-05 -9.464722339203034e-05\n",
            "-0.002304628428225069 -0.0023046284436389897\n",
            "-4.121934817282406e-05 -4.121936125756065e-05\n",
            "-0.002638115733261067 -0.0026381157258725807\n",
            "6.432247239434429e-05 6.432248067511637e-05\n",
            "-0.0015546236601848037 -0.0015546236298291658\n",
            "-0.0002352924670951285 -0.00023529245218867342\n",
            "-0.0017566151710250305 -0.0017566151422343521\n",
            "-0.0001738086488481795 -0.00017380863415183964\n",
            "-0.002095869934707332 -0.0020958699220585686\n",
            "-6.282722107004852e-05 -6.28272545100117e-05\n",
            "-0.0047677675117682155 -0.004767767536328904\n",
            "4.2385553502601623e-05 4.23855617270874e-05\n",
            "-0.004857660880404851 -0.004857660895751792\n",
            "0.0001032394222115924 0.00010323943921974886\n",
            "-0.004930224932014918 -0.004930224939414529\n",
            "0.00019267708838302435 0.0001926770742954886\n",
            "Gradient check passed!\n",
            "Checking gradient for B1\n",
            "-0.005557478848978667 -0.005557478854889552\n",
            "0.001122029307812728 0.0011220293139047044\n",
            "Gradient check passed!\n",
            "Checking gradient for W4\n",
            "-0.0006861253069863683 -0.0006861253121215326\n",
            "-2.560129452207514e-06 -2.560129885864626e-06\n",
            "-0.0021110458226899823 -0.0021110458270356958\n",
            "-3.3947930974114035e-05 -3.39479111488572e-05\n",
            "-0.0026684024607245105 -0.0026684024767575916\n",
            "-0.00014681827621216314 -0.0001468182464492429\n",
            "-0.006590821504507466 -0.006590821532981294\n",
            "-0.00023076382636583648 -0.00023076380806230643\n",
            "-0.0017637109468860409 -0.0017637109550605599\n",
            "-7.67949647783058e-05 -7.679497038282079e-05\n",
            "-0.003093061488214127 -0.0030930614958180054\n",
            "-7.67949647783058e-05 -7.679497038282079e-05\n",
            "-0.0023881674137865303 -0.0023881674415804355\n",
            "-0.0003239183884586381 -0.00032391840321110976\n",
            "-0.0023307455797659435 -0.0023307455521148768\n",
            "-2.9016527757841475e-05 -2.901654472253767e-05\n",
            "-0.003585767919398687 -0.0035857679048234554\n",
            "-0.00035742694935162145 -0.00035742695470020175\n",
            "-0.006732314269765491 -0.006732314261626015\n",
            "-0.0002128723950124699 -0.0002128723863847881\n",
            "-0.0023411459711463046 -0.0023411459881828023\n",
            "-7.67949647783058e-05 -7.679497038282079e-05\n",
            "-0.0032400028905284913 -0.0032400028882051397\n",
            "-7.67949647783058e-05 -7.679497038282079e-05\n",
            "-0.0011711420929323285 -0.0011711420722093635\n",
            "-7.67949647783058e-05 -7.679497038282079e-05\n",
            "-0.0024959336220251403 -0.002495933615342949\n",
            "-7.67949647783058e-05 -7.679497038282079e-05\n",
            "-0.0029322633012025924 -0.0029322633210426825\n",
            "-7.67949647783058e-05 -7.679497038282079e-05\n",
            "-0.004623160080643323 -0.004623160076988597\n",
            "-7.67949647783058e-05 -7.679497038282079e-05\n",
            "-0.0021499154453955235 -0.0021499154456705583\n",
            "-7.67949647783058e-05 -7.679497038282079e-05\n",
            "-0.0017224795680093811 -0.0017224795811898728\n",
            "-7.67949647783058e-05 -7.679497038282079e-05\n",
            "Gradient check passed!\n",
            "Checking gradient for B4\n",
            "-0.0017262031970723384 -0.0017262031803966236\n",
            "-7.679497107463713e-05 -7.679499258728129e-05\n",
            "Gradient check passed!\n",
            "Checking gradient for W8\n",
            "0.3527887087618947 0.35278870880173224\n",
            "0.3514031412024254 0.35140314125214894\n",
            "0.3597673740850017 0.3597673741362328\n",
            "0.3600622924824143 0.3600622925592489\n",
            "0.36361736903916886 0.36361736908130377\n",
            "0.37568370520082817 0.3756837052559802\n",
            "0.37394719047447983 0.373947190523971\n",
            "0.3671207819070346 0.36712078197442816\n",
            "0.36318612414415347 0.3631861242192613\n",
            "-3.2675766872974013 -3.2675766872269913\n",
            "0.0 0.0\n",
            "0.0 0.0\n",
            "0.0 0.0\n",
            "0.0 0.0\n",
            "0.0 0.0\n",
            "0.0 0.0\n",
            "0.0 0.0\n",
            "0.0 0.0\n",
            "0.0 0.0\n",
            "0.0 0.0\n",
            "0.6268735067909652 0.6268735071257581\n",
            "0.6243460619425425 0.6243460622723518\n",
            "0.638966525939497 0.6389665262673816\n",
            "0.6397905341154867 0.6397905344401877\n",
            "0.6464080653000932 0.6464080656076732\n",
            "0.6676486742441898 0.6676486745682553\n",
            "0.6644083638235502 0.6644083641926812\n",
            "0.6520518540576368 0.6520518544217424\n",
            "0.6454518753943542 0.6454518757248451\n",
            "-5.805945461608316 -5.805945461268002\n",
            "0.0 0.0\n",
            "0.0 0.0\n",
            "0.0 0.0\n",
            "0.0 0.0\n",
            "0.0 0.0\n",
            "0.0 0.0\n",
            "0.0 0.0\n",
            "0.0 0.0\n",
            "0.0 0.0\n",
            "0.0 0.0\n",
            "1.0393396515276756 1.0393396529861931\n",
            "1.035259300230287 1.0352593016849099\n",
            "1.0599069155892096 1.059906917078024\n",
            "1.0607683119925038 1.0607683134544743\n",
            "1.0712343443178016 1.07123434580636\n",
            "1.1067875692973344 1.1067875708370423\n",
            "1.1016755216446485 1.1016755231629816\n",
            "1.081570085835685 1.0815700873356704\n",
            "1.0699685860744428 1.0699685875525944\n",
            "-9.626510286509589 -9.626510284999057\n",
            "0.0 0.0\n",
            "0.0 0.0\n",
            "0.0 0.0\n",
            "0.0 0.0\n",
            "0.0 0.0\n",
            "0.0 0.0\n",
            "0.0 0.0\n",
            "0.0 0.0\n",
            "0.0 0.0\n",
            "0.0 0.0\n",
            "1.2816610082492463 1.2816610109656068\n",
            "1.276576933129073 1.2765769358491497\n",
            "1.306777291016806 1.3067772937525035\n",
            "1.3080797636100718 1.3080797663711508\n",
            "1.3212266014970973 1.3212266042561538\n",
            "1.3649087172343697 1.3649087200473529\n",
            "1.3584809145650654 1.3584809173794452\n",
            "1.3335064242870824 1.3335064270592056\n",
            "1.3195136359740742 1.319513638708969\n",
            "-11.870731289562887 -11.870731286767187\n",
            "0.0859948681666345 0.08599486818194889\n",
            "0.08560517525667496 0.08560517525957322\n",
            "0.08745182185939279 0.08745182187297472\n",
            "0.08776192550011896 0.08776192550463689\n",
            "0.08886712822602277 0.08886712823397146\n",
            "0.09164941974506248 0.09164941974226791\n",
            "0.09110329221746835 0.09110329222128398\n",
            "0.08925935042215745 0.08925935044423737\n",
            "0.08861119584943587 0.08861119586978104\n",
            "-0.7963041772429683 -0.7963041772418576\n",
            "Gradient check passed!\n",
            "Checking gradient for B8\n",
            "0.09699955385656353 0.09699955385578106\n",
            "0.09661523549164237 0.09661523547865868\n",
            "0.09890257471411465 0.09890257472999762\n",
            "0.0989990486682201 0.09899904866994545\n",
            "0.09999193243194798 0.09999193242293812\n",
            "0.10329931433255536 0.10329931432462301\n",
            "0.10281392417548965 0.10281392417432754\n",
            "0.1009253744555382 0.10092537445771653\n",
            "0.09986362052357693 0.09986362055069974\n",
            "-0.8984105786496487 -0.8984105786424833\n",
            "Gradient check passed!\n"
          ],
          "name": "stdout"
        },
        {
          "output_type": "execute_result",
          "data": {
            "text/plain": [
              "True"
            ]
          },
          "metadata": {
            "tags": []
          },
          "execution_count": 45
        }
      ]
    },
    {
      "cell_type": "markdown",
      "metadata": {
        "id": "WdN2xQxNUjoj"
      },
      "source": [
        "# Оптимизатор и код для тренировки \n",
        "Должен заработать с кодом из прошлого задания без изменений!"
      ]
    },
    {
      "cell_type": "code",
      "metadata": {
        "scrolled": false,
        "id": "6ihEMQHQUjoj",
        "colab": {
          "base_uri": "https://localhost:8080/"
        },
        "outputId": "1da0e34e-4e98-421c-f7b8-fbe737b2939f"
      },
      "source": [
        "model = ConvNet(input_shape=(32,32,3), n_output_classes=10, conv1_channels=2, conv2_channels=2)\n",
        "dataset = Dataset(train_X[:16], train_y[:16], val_X[:16], val_y[:16])\n",
        "trainer = Trainer(model, dataset, SGD(), batch_size=16, learning_rate=1e-4)\n",
        "\n",
        "loss_history, train_history, val_history = trainer.fit()"
      ],
      "execution_count": 72,
      "outputs": [
        {
          "output_type": "stream",
          "text": [
            "Loss: 2.304112, Train accuracy: 0.062500, val accuracy: 0.187500\n",
            "Loss: 2.303521, Train accuracy: 0.187500, val accuracy: 0.062500\n",
            "Loss: 2.683572, Train accuracy: 0.250000, val accuracy: 0.062500\n",
            "Loss: 2.911065, Train accuracy: 0.250000, val accuracy: 0.062500\n",
            "Loss: 2.392876, Train accuracy: 0.312500, val accuracy: 0.062500\n",
            "Loss: 2.228659, Train accuracy: 0.312500, val accuracy: 0.062500\n",
            "Loss: 2.136964, Train accuracy: 0.312500, val accuracy: 0.062500\n",
            "Loss: 2.075731, Train accuracy: 0.312500, val accuracy: 0.062500\n",
            "Loss: 2.030937, Train accuracy: 0.312500, val accuracy: 0.062500\n",
            "Loss: 1.996075, Train accuracy: 0.312500, val accuracy: 0.062500\n",
            "Loss: 1.968828, Train accuracy: 0.437500, val accuracy: 0.062500\n",
            "Loss: 1.947177, Train accuracy: 0.375000, val accuracy: 0.062500\n",
            "Loss: 1.930280, Train accuracy: 0.375000, val accuracy: 0.062500\n",
            "Loss: 1.916361, Train accuracy: 0.437500, val accuracy: 0.062500\n",
            "Loss: 1.904843, Train accuracy: 0.312500, val accuracy: 0.062500\n",
            "Loss: 1.895184, Train accuracy: 0.312500, val accuracy: 0.062500\n",
            "Loss: 1.886871, Train accuracy: 0.312500, val accuracy: 0.000000\n",
            "Loss: 1.879608, Train accuracy: 0.375000, val accuracy: 0.062500\n",
            "Loss: 1.873135, Train accuracy: 0.375000, val accuracy: 0.062500\n",
            "Loss: 1.867276, Train accuracy: 0.375000, val accuracy: 0.062500\n"
          ],
          "name": "stdout"
        }
      ]
    },
    {
      "cell_type": "code",
      "metadata": {
        "id": "VujQCDUOUjok",
        "colab": {
          "base_uri": "https://localhost:8080/",
          "height": 302
        },
        "outputId": "bfba2078-837d-4c74-96dd-60d8cdade83c"
      },
      "source": [
        "plt.plot(train_history)\n",
        "plt.plot(val_history)"
      ],
      "execution_count": 73,
      "outputs": [
        {
          "output_type": "execute_result",
          "data": {
            "text/plain": [
              "[<matplotlib.lines.Line2D at 0x7fb73ec4da50>]"
            ]
          },
          "metadata": {
            "tags": []
          },
          "execution_count": 73
        },
        {
          "output_type": "display_data",
          "data": {
            "image/png": "[encoded data removed]",
            "text/plain": [
              "<Figure size 432x288 with 1 Axes>"
            ]
          },
          "metadata": {
            "tags": [],
            "needs_background": "light"
          }
        }
      ]
    },
    {
      "cell_type": "markdown",
      "metadata": {
        "id": "EwskUFTxUjok"
      },
      "source": [
        "# Последнее упражнение\n",
        "В качестве последнего упражнения мы доведем точность на тренировочном наборе данных до 100% на небольшом наборе данных.\n",
        "Сверточные сети требуют большого количества вычислений и аккуратной эффективной реализации, поэтому настоящие модели мы будем тренировать уже на PyTorch в следующем задании."
      ]
    },
    {
      "cell_type": "markdown",
      "metadata": {
        "id": "7rt4GTPeUjok"
      },
      "source": [
        "## Итак, оверфитим маленький набор данных\n"
      ]
    },
    {
      "cell_type": "code",
      "metadata": {
        "id": "qYeSwwTuUjok",
        "colab": {
          "base_uri": "https://localhost:8080/"
        },
        "outputId": "59e93876-b9b3-42f3-d3ac-2ab629bc015b"
      },
      "source": [
        "data_size = 128\n",
        "model = ConvNet(input_shape=(32,32,3), n_output_classes=10, conv1_channels=40, conv2_channels=40)\n",
        "dataset = Dataset(train_X[:data_size], train_y[:data_size], val_X[:data_size], val_y[:data_size])\n",
        "# TODO: Change any hyperparamers or optimizators to reach 1.0 training accuracy in 50 epochs or less\n",
        "# Hint: If you have hard time finding the right parameters manually, try grid search or random search!\n",
        "trainer = Trainer(model, dataset, MomentumSGD(0.9), learning_rate=1e-3, learning_rate_decay=0.965, num_epochs=45, batch_size=8)\n",
        "\n",
        "loss_history, train_history, val_history = trainer.fit()"
      ],
      "execution_count": 82,
      "outputs": [
        {
          "output_type": "stream",
          "text": [
            "Loss: 186.635442, Train accuracy: 0.117188, val accuracy: 0.085938\n",
            "Loss: 32.474373, Train accuracy: 0.085938, val accuracy: 0.054688\n",
            "Loss: 7.374327, Train accuracy: 0.156250, val accuracy: 0.101562\n",
            "Loss: 3.191487, Train accuracy: 0.320312, val accuracy: 0.164062\n",
            "Loss: 2.160402, Train accuracy: 0.359375, val accuracy: 0.132812\n",
            "Loss: 2.324610, Train accuracy: 0.507812, val accuracy: 0.164062\n",
            "Loss: 1.998458, Train accuracy: 0.507812, val accuracy: 0.210938\n",
            "Loss: 1.049733, Train accuracy: 0.671875, val accuracy: 0.164062\n",
            "Loss: 0.626256, Train accuracy: 0.757812, val accuracy: 0.156250\n",
            "Loss: 0.432283, Train accuracy: 0.781250, val accuracy: 0.164062\n",
            "Loss: 1.200475, Train accuracy: 0.796875, val accuracy: 0.171875\n",
            "Loss: 1.250443, Train accuracy: 0.835938, val accuracy: 0.156250\n",
            "Loss: 0.531170, Train accuracy: 0.851562, val accuracy: 0.179688\n",
            "Loss: 0.568453, Train accuracy: 0.890625, val accuracy: 0.187500\n",
            "Loss: 0.790816, Train accuracy: 0.921875, val accuracy: 0.148438\n",
            "Loss: 1.067822, Train accuracy: 0.929688, val accuracy: 0.171875\n",
            "Loss: 0.520565, Train accuracy: 0.937500, val accuracy: 0.148438\n",
            "Loss: 0.445518, Train accuracy: 0.921875, val accuracy: 0.187500\n",
            "Loss: 0.652478, Train accuracy: 0.937500, val accuracy: 0.156250\n",
            "Loss: 0.676921, Train accuracy: 0.953125, val accuracy: 0.179688\n",
            "Loss: 0.541390, Train accuracy: 0.968750, val accuracy: 0.171875\n",
            "Loss: 0.609987, Train accuracy: 0.984375, val accuracy: 0.164062\n",
            "Loss: 0.444550, Train accuracy: 0.960938, val accuracy: 0.171875\n",
            "Loss: 0.225918, Train accuracy: 0.960938, val accuracy: 0.179688\n",
            "Loss: 0.397354, Train accuracy: 1.000000, val accuracy: 0.171875\n",
            "Loss: 0.825110, Train accuracy: 0.984375, val accuracy: 0.187500\n",
            "Loss: 0.188238, Train accuracy: 1.000000, val accuracy: 0.171875\n",
            "Loss: 0.295247, Train accuracy: 1.000000, val accuracy: 0.187500\n",
            "Loss: 0.273303, Train accuracy: 1.000000, val accuracy: 0.171875\n",
            "Loss: 0.215023, Train accuracy: 1.000000, val accuracy: 0.179688\n",
            "Loss: 0.546220, Train accuracy: 0.992188, val accuracy: 0.171875\n",
            "Loss: 0.366566, Train accuracy: 1.000000, val accuracy: 0.179688\n",
            "Loss: 0.467175, Train accuracy: 1.000000, val accuracy: 0.187500\n",
            "Loss: 0.232250, Train accuracy: 0.992188, val accuracy: 0.164062\n",
            "Loss: 0.336021, Train accuracy: 1.000000, val accuracy: 0.171875\n",
            "Loss: 0.171144, Train accuracy: 1.000000, val accuracy: 0.179688\n",
            "Loss: 0.320120, Train accuracy: 1.000000, val accuracy: 0.179688\n",
            "Loss: 0.321654, Train accuracy: 1.000000, val accuracy: 0.187500\n",
            "Loss: 0.288072, Train accuracy: 1.000000, val accuracy: 0.179688\n",
            "Loss: 0.110487, Train accuracy: 1.000000, val accuracy: 0.195312\n",
            "Loss: 0.350969, Train accuracy: 1.000000, val accuracy: 0.171875\n",
            "Loss: 0.278899, Train accuracy: 1.000000, val accuracy: 0.187500\n",
            "Loss: 0.222688, Train accuracy: 1.000000, val accuracy: 0.179688\n",
            "Loss: 0.294628, Train accuracy: 1.000000, val accuracy: 0.179688\n",
            "Loss: 0.183416, Train accuracy: 1.000000, val accuracy: 0.179688\n"
          ],
          "name": "stdout"
        }
      ]
    },
    {
      "cell_type": "code",
      "metadata": {
        "id": "JbeGmqELUjol",
        "colab": {
          "base_uri": "https://localhost:8080/",
          "height": 319
        },
        "outputId": "ada6d426-2030-450d-bc99-9cba5804f95d"
      },
      "source": [
        "print(f\"Best train accuracy: {max(train_history)}\")\n",
        "plt.plot(train_history)\n",
        "plt.plot(val_history)"
      ],
      "execution_count": 84,
      "outputs": [
        {
          "output_type": "stream",
          "text": [
            "Best train accuracy: 1.0\n"
          ],
          "name": "stdout"
        },
        {
          "output_type": "execute_result",
          "data": {
            "text/plain": [
              "[<matplotlib.lines.Line2D at 0x7fb73eb74710>]"
            ]
          },
          "metadata": {
            "tags": []
          },
          "execution_count": 84
        },
        {
          "output_type": "display_data",
          "data": {
            "image/png": "[encoded data removed]",
            "text/plain": [
              "<Figure size 432x288 with 1 Axes>"
            ]
          },
          "metadata": {
            "tags": [],
            "needs_background": "light"
          }
        }
      ]
    }
  ]
}