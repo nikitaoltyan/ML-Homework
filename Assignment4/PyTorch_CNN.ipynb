{
  "nbformat": 4,
  "nbformat_minor": 0,
  "metadata": {
    "accelerator": "GPU",
    "colab": {
      "name": "Копия блокнота \"PyTorch_CNN.ipynb\"",
      "provenance": [],
      "collapsed_sections": [],
      "include_colab_link": true
    },
    "kernelspec": {
      "display_name": "Python 3",
      "language": "python",
      "name": "python3"
    },
    "language_info": {
      "codemirror_mode": {
        "name": "ipython",
        "version": 3
      },
      "file_extension": ".py",
      "mimetype": "text/x-python",
      "name": "python",
      "nbconvert_exporter": "python",
      "pygments_lexer": "ipython3",
      "version": "3.7.3"
    }
  },
  "cells": [
    {
      "cell_type": "markdown",
      "metadata": {
        "id": "view-in-github",
        "colab_type": "text"
      },
      "source": [
        "<a href=\"https://colab.research.google.com/github/nikitaoltyan/ML-Homework/blob/main/Assignment4/PyTorch_CNN.ipynb\" target=\"_parent\"><img src=\"https://colab.research.google.com/assets/colab-badge.svg\" alt=\"Open In Colab\"/></a>"
      ]
    },
    {
      "cell_type": "markdown",
      "metadata": {
        "id": "D4IM97o4fho0"
      },
      "source": [
        "# Задание 4.2 - сверточные нейронные сети (CNNs) в PyTorch\n",
        "\n",
        "Это упражнение мы буде выполнять в Google Colab - https://colab.research.google.com/  \n",
        "Google Colab позволяет запускать код в notebook в облаке Google, где можно воспользоваться бесплатным GPU!  \n"
      ]
    },
    {
      "cell_type": "code",
      "metadata": {
        "id": "FcXBeP1O7cnY",
        "colab": {
          "base_uri": "https://localhost:8080/"
        },
        "outputId": "4b0b42f0-0625-4bdc-a022-318cd78156b8"
      },
      "source": [
        "# Запустите эту ячейку если работаете в Colab\n",
        "import os\n",
        "if not os.path.exists('PyTorch_CNN.ipynb'):\n",
        "    !git clone https://github.com/nikitaoltyan/ML-Homework.git\n",
        "%cd ML-Homework/data"
      ],
      "execution_count": 1,
      "outputs": [
        {
          "output_type": "stream",
          "text": [
            "Cloning into 'ML-Homework'...\n",
            "remote: Enumerating objects: 104, done.\u001b[K\n",
            "remote: Counting objects: 100% (104/104), done.\u001b[K\n",
            "remote: Compressing objects: 100% (104/104), done.\u001b[K\n",
            "remote: Total 381 (delta 45), reused 0 (delta 0), pack-reused 277\u001b[K\n",
            "Receiving objects: 100% (381/381), 1.59 MiB | 9.88 MiB/s, done.\n",
            "Resolving deltas: 100% (161/161), done.\n",
            "/content/ML-Homework/data\n"
          ],
          "name": "stdout"
        }
      ]
    },
    {
      "cell_type": "code",
      "metadata": {
        "colab": {
          "base_uri": "https://localhost:8080/"
        },
        "id": "B_c8vD0Mf1fW",
        "outputId": "6a5cd983-589d-440e-ef03-5b07d3452034"
      },
      "source": [
        "! wget -c http://ufldl.stanford.edu/housenumbers/train_32x32.mat http://ufldl.stanford.edu/housenumbers/test_32x32.mat\n",
        "%cd ../Assignment4"
      ],
      "execution_count": 2,
      "outputs": [
        {
          "output_type": "stream",
          "text": [
            "--2021-03-22 07:46:25--  http://ufldl.stanford.edu/housenumbers/train_32x32.mat\n",
            "Resolving ufldl.stanford.edu (ufldl.stanford.edu)... 171.64.68.10\n",
            "Connecting to ufldl.stanford.edu (ufldl.stanford.edu)|171.64.68.10|:80... connected.\n",
            "HTTP request sent, awaiting response... 200 OK\n",
            "Length: 182040794 (174M) [text/plain]\n",
            "Saving to: ‘train_32x32.mat’\n",
            "\n",
            "train_32x32.mat     100%[===================>] 173.61M  75.4MB/s    in 2.3s    \n",
            "\n",
            "2021-03-22 07:46:27 (75.4 MB/s) - ‘train_32x32.mat’ saved [182040794/182040794]\n",
            "\n",
            "--2021-03-22 07:46:27--  http://ufldl.stanford.edu/housenumbers/test_32x32.mat\n",
            "Reusing existing connection to ufldl.stanford.edu:80.\n",
            "HTTP request sent, awaiting response... 200 OK\n",
            "Length: 64275384 (61M) [text/plain]\n",
            "Saving to: ‘test_32x32.mat’\n",
            "\n",
            "test_32x32.mat      100%[===================>]  61.30M  95.3MB/s    in 0.6s    \n",
            "\n",
            "2021-03-22 07:46:28 (95.3 MB/s) - ‘test_32x32.mat’ saved [64275384/64275384]\n",
            "\n",
            "FINISHED --2021-03-22 07:46:28--\n",
            "Total wall clock time: 3.1s\n",
            "Downloaded: 2 files, 235M in 2.9s (79.8 MB/s)\n",
            "/content/ML-Homework/Assignment4\n"
          ],
          "name": "stdout"
        }
      ]
    },
    {
      "cell_type": "code",
      "metadata": {
        "id": "-afwWw-Q85vD"
      },
      "source": [
        "from collections import namedtuple\n",
        "\n",
        "import matplotlib.pyplot as plt\n",
        "import numpy as np\n",
        "import PIL\n",
        "import torch\n",
        "import torch.nn as nn\n",
        "import torch.optim as optim\n",
        "import torchvision.datasets as dset\n",
        "from torch.utils.data.sampler import SubsetRandomSampler\n",
        "\n",
        "from torchvision import transforms"
      ],
      "execution_count": 3,
      "outputs": []
    },
    {
      "cell_type": "code",
      "metadata": {
        "id": "NNU-OD9O9ltP"
      },
      "source": [
        "device = torch.device(\"cuda:0\") # Let's make sure GPU is available!"
      ],
      "execution_count": 4,
      "outputs": []
    },
    {
      "cell_type": "markdown",
      "metadata": {
        "id": "sssxv7_Nfho3"
      },
      "source": [
        "# Загружаем данные"
      ]
    },
    {
      "cell_type": "code",
      "metadata": {
        "id": "YAvkoRx-9FsP"
      },
      "source": [
        "# First, lets load the dataset\n",
        "data_train = dset.SVHN('../data',\n",
        "                       transform=transforms.Compose([\n",
        "                           transforms.ToTensor(),\n",
        "                           transforms.Normalize(mean=[0.43,0.44,0.47],\n",
        "                                               std=[0.20,0.20,0.20])                           \n",
        "                       ])\n",
        "                      )\n",
        "data_test = dset.SVHN('../data', split='test', transform=transforms.Compose([\n",
        "                           transforms.ToTensor(),\n",
        "                           transforms.Normalize(mean=[0.43,0.44,0.47],\n",
        "                                               std=[0.20,0.20,0.20])                           \n",
        "                       ]))"
      ],
      "execution_count": 5,
      "outputs": []
    },
    {
      "cell_type": "markdown",
      "metadata": {
        "id": "DOueIP1gfho4"
      },
      "source": [
        "Разделяем данные на training и validation.\n",
        "\n",
        "На всякий случай для подробностей - https://pytorch.org/tutorials/beginner/data_loading_tutorial.html"
      ]
    },
    {
      "cell_type": "code",
      "metadata": {
        "id": "YRnr8CPg7Hli"
      },
      "source": [
        "batch_size = 64\n",
        "\n",
        "data_size = data_train.data.shape[0]\n",
        "validation_split = .2\n",
        "split = int(np.floor(validation_split * data_size))\n",
        "indices = list(range(data_size))\n",
        "np.random.shuffle(indices)\n",
        "\n",
        "train_indices, val_indices = indices[split:], indices[:split]\n",
        "\n",
        "train_sampler = SubsetRandomSampler(train_indices)\n",
        "val_sampler = SubsetRandomSampler(val_indices)\n",
        "\n",
        "train_loader = torch.utils.data.DataLoader(data_train, batch_size=batch_size, \n",
        "                                           sampler=train_sampler)\n",
        "val_loader = torch.utils.data.DataLoader(data_train, batch_size=batch_size,\n",
        "                                         sampler=val_sampler)"
      ],
      "execution_count": 6,
      "outputs": []
    },
    {
      "cell_type": "code",
      "metadata": {
        "id": "LyYvt-T67PBG"
      },
      "source": [
        "# We'll use a special helper module to shape it into a flat tensor\n",
        "class Flattener(nn.Module):\n",
        "    def forward(self, x):\n",
        "        batch_size, *_ = x.shape\n",
        "        return x.view(batch_size, -1)"
      ],
      "execution_count": 7,
      "outputs": []
    },
    {
      "cell_type": "markdown",
      "metadata": {
        "id": "FIhJIXMTfho5"
      },
      "source": [
        "Создадим простейшую сеть с новыми слоями:  \n",
        "Convolutional - `nn.Conv2d`  \n",
        "MaxPool - `nn.MaxPool2d`"
      ]
    },
    {
      "cell_type": "code",
      "metadata": {
        "id": "w9SFVGZP7SQd"
      },
      "source": [
        "nn_model = nn.Sequential(\n",
        "            nn.Conv2d(3, 64, 3, padding=1),\n",
        "            nn.ReLU(inplace=True),\n",
        "            nn.MaxPool2d(4),\n",
        "            nn.Conv2d(64, 64, 3, padding=1),\n",
        "            nn.ReLU(inplace=True),\n",
        "            nn.MaxPool2d(4),    \n",
        "            Flattener(),\n",
        "            nn.Linear(64*2*2, 10),\n",
        "          )\n",
        "\n",
        "nn_model.type(torch.cuda.FloatTensor)\n",
        "nn_model.to(device)\n",
        "\n",
        "loss = nn.CrossEntropyLoss().type(torch.cuda.FloatTensor)\n",
        "optimizer = optim.SGD(nn_model.parameters(), lr=1e-1, weight_decay=1e-4)"
      ],
      "execution_count": 8,
      "outputs": []
    },
    {
      "cell_type": "markdown",
      "metadata": {
        "id": "mtYYTggofho5"
      },
      "source": [
        "Восстановите функцию `compute_accuracy` из прошлого задания.  \n",
        "Единственное отличие в новом - она должна передать данные на GPU прежде чем прогонять через модель. Сделайте это так же, как это делает функция `train_model`"
      ]
    },
    {
      "cell_type": "code",
      "metadata": {
        "id": "2ek3KVQK7hJ6",
        "colab": {
          "base_uri": "https://localhost:8080/"
        },
        "outputId": "1f322d31-d969-4b08-de59-c3e675a80b0f"
      },
      "source": [
        "def train_model(model, train_loader, val_loader, loss, optimizer, num_epochs):    \n",
        "    loss_history = []\n",
        "    train_history = []\n",
        "    val_history = []\n",
        "    for epoch in range(num_epochs):\n",
        "        model.train() # Enter train mode\n",
        "        \n",
        "        loss_accum = 0\n",
        "        correct_samples = 0\n",
        "        total_samples = 0\n",
        "        for i_step, (x, y) in enumerate(train_loader):\n",
        "          \n",
        "            x_gpu = x.to(device)\n",
        "            y_gpu = y.to(device)\n",
        "            prediction = model(x_gpu)    \n",
        "            loss_value = loss(prediction, y_gpu)\n",
        "            optimizer.zero_grad()\n",
        "            loss_value.backward()\n",
        "            optimizer.step()\n",
        "            \n",
        "            _, indices = torch.max(prediction, 1)\n",
        "            correct_samples += torch.sum(indices == y_gpu)\n",
        "            total_samples += y.shape[0]\n",
        "            \n",
        "            loss_accum += loss_value\n",
        "\n",
        "        ave_loss = loss_accum / i_step\n",
        "        train_accuracy = float(correct_samples) / total_samples\n",
        "        val_accuracy = compute_accuracy(model, val_loader)\n",
        "        \n",
        "        loss_history.append(float(ave_loss))\n",
        "        train_history.append(train_accuracy)\n",
        "        val_history.append(val_accuracy)\n",
        "        \n",
        "        print(\"Average loss: %f, Train accuracy: %f, Val accuracy: %f\" % (ave_loss, train_accuracy, val_accuracy))\n",
        "        \n",
        "    return loss_history, train_history, val_history\n",
        "\n",
        "from torch.autograd import Variable\n",
        "def compute_accuracy(model, loader):\n",
        "    \"\"\"\n",
        "    Computes accuracy on the dataset wrapped in a loader\n",
        "    \n",
        "    Returns: accuracy as a float value between 0 and 1\n",
        "    \"\"\"\n",
        "    model.eval() # Evaluation mode\n",
        "    # TODO: Copy implementation from previous assignment\n",
        "    # Don't forget to move the data to device before running it through the model!\n",
        "    \n",
        "    num_correct = 0\n",
        "    num_samples = 0\n",
        "    for x, y in loader:\n",
        "        x_gpu = x.to(device)\n",
        "        y_gpu = y.to(device)\n",
        "        scores = model(x_gpu)\n",
        "        preds = torch.argmax(scores, 1)\n",
        "        num_correct += (preds == y_gpu).sum()\n",
        "        num_samples += preds.size(0)\n",
        "    acc = float(num_correct) / num_samples\n",
        "    \n",
        "    return acc\n",
        "\n",
        "loss_history, train_history, val_history = train_model(nn_model, train_loader, val_loader, loss, optimizer, 5)"
      ],
      "execution_count": 9,
      "outputs": [
        {
          "output_type": "stream",
          "text": [
            "Average loss: 1.483339, Train accuracy: 0.500819, Val accuracy: 0.673538\n",
            "Average loss: 0.728289, Train accuracy: 0.776985, Val accuracy: 0.800014\n",
            "Average loss: 0.618421, Train accuracy: 0.814029, Val accuracy: 0.810047\n",
            "Average loss: 0.570032, Train accuracy: 0.828721, Val accuracy: 0.808750\n",
            "Average loss: 0.530343, Train accuracy: 0.840955, Val accuracy: 0.843970\n"
          ],
          "name": "stdout"
        }
      ]
    },
    {
      "cell_type": "markdown",
      "metadata": {
        "id": "6a-3a1ZFGEw_"
      },
      "source": [
        "# Аугментация данных (Data augmentation)\n",
        "\n",
        "В работе с изображениями одним из особенно важных методов является аугментация данных - то есть, генерация дополнительных данных для тренировки на основе изначальных.   \n",
        "Таким образом, мы получаем возможность \"увеличить\" набор данных для тренировки, что ведет к лучшей работе сети.\n",
        "Важно, чтобы аугментированные данные были похожи на те, которые могут встретиться в реальной жизни, иначе польза от аугментаций уменьшается и может ухудшить работу сети.\n",
        "\n",
        "С PyTorch идут несколько таких алгоритмов, называемых `transforms`. Более подробно про них можно прочитать тут -\n",
        "https://pytorch.org/tutorials/beginner/data_loading_tutorial.html#transforms\n",
        "\n",
        "Ниже мы используем следующие алгоритмы генерации:\n",
        "- ColorJitter - случайное изменение цвета\n",
        "- RandomHorizontalFlip - горизонтальное отражение с вероятностью 50%\n",
        "- RandomVerticalFlip - вертикальное отражение с вероятностью 50%\n",
        "- RandomRotation - случайный поворот"
      ]
    },
    {
      "cell_type": "code",
      "metadata": {
        "id": "jCWMUWmr7t5g",
        "colab": {
          "base_uri": "https://localhost:8080/"
        },
        "outputId": "e9114cf3-6d46-4a91-89f4-7d5a6e423de1"
      },
      "source": [
        "tfs = transforms.Compose([\n",
        "    transforms.ColorJitter(hue=.50, saturation=.50),\n",
        "    transforms.RandomHorizontalFlip(),\n",
        "    transforms.RandomVerticalFlip(),\n",
        "    transforms.RandomRotation(50, resample=PIL.Image.BILINEAR),\n",
        "    transforms.ToTensor(),\n",
        "    transforms.Normalize(mean=[0.43,0.44,0.47],\n",
        "                       std=[0.20,0.20,0.20])                           \n",
        "])\n",
        "\n",
        "# Create augmented train dataset\n",
        "data_aug_train = dset.SVHN(\"../data/\", transform=tfs)\n",
        "\n",
        "train_aug_loader = torch.utils.data.DataLoader(data_aug_train, batch_size=batch_size, \n",
        "                                           sampler=train_sampler)"
      ],
      "execution_count": 24,
      "outputs": [
        {
          "output_type": "stream",
          "text": [
            "/usr/local/lib/python3.7/dist-packages/torchvision/transforms/transforms.py:1201: UserWarning: Argument resample is deprecated and will be removed since v0.10.0. Please, use interpolation instead\n",
            "  \"Argument resample is deprecated and will be removed since v0.10.0. Please, use interpolation instead\"\n"
          ],
          "name": "stderr"
        }
      ]
    },
    {
      "cell_type": "markdown",
      "metadata": {
        "id": "img3ElhBfho7"
      },
      "source": [
        "Визуализируем результаты агментации (вообще, смотреть на сгенерированные данные всегда очень полезно)."
      ]
    },
    {
      "cell_type": "code",
      "metadata": {
        "id": "YlJJEro1KZ45",
        "colab": {
          "base_uri": "https://localhost:8080/",
          "height": 175
        },
        "outputId": "e8678a9f-d6bc-4c74-d380-ad5188eaf1c7"
      },
      "source": [
        "# TODO: Visualize some augmented images!\n",
        "# hint: you can create new datasets and loaders to accomplish this\n",
        "\n",
        "# Based on the visualizations, should we keep all the augmentations?\n",
        "\n",
        "tfs = transforms.Compose([\n",
        "    transforms.ColorJitter(hue=.20, saturation=.20),\n",
        "    transforms.RandomHorizontalFlip(),\n",
        "    transforms.RandomVerticalFlip(),\n",
        "    transforms.RandomRotation(10, resample=PIL.Image.BILINEAR),\n",
        "])\n",
        "\n",
        "data_aug_vis = dset.SVHN('../data/', transform=tfs)\n",
        "\n",
        "plt.figure(figsize=(30, 3))\n",
        "\n",
        "for i, (x, y) in enumerate(data_aug_vis):\n",
        "    if i == 10:\n",
        "        break\n",
        "    plt.subplot(1, 10, i+1)\n",
        "    plt.grid(False)\n",
        "    plt.imshow(x)\n",
        "    plt.axis('off')"
      ],
      "execution_count": 25,
      "outputs": [
        {
          "output_type": "stream",
          "text": [
            "/usr/local/lib/python3.7/dist-packages/torchvision/transforms/transforms.py:1201: UserWarning: Argument resample is deprecated and will be removed since v0.10.0. Please, use interpolation instead\n",
            "  \"Argument resample is deprecated and will be removed since v0.10.0. Please, use interpolation instead\"\n"
          ],
          "name": "stderr"
        },
        {
          "output_type": "display_data",
          "data": {
            "image/png": "[encoded data removed]",
            "text/plain": [
              "<Figure size 2160x216 with 10 Axes>"
            ]
          },
          "metadata": {
            "tags": [],
            "needs_background": "light"
          }
        }
      ]
    },
    {
      "cell_type": "markdown",
      "metadata": {
        "id": "o2LrmsYHoguB"
      },
      "source": [
        "Все ли агментации одинаково полезны на этом наборе данных? Могут ли быть среди них те, которые собьют модель с толку?\n",
        "\n",
        "Выберите из них только корректные"
      ]
    },
    {
      "cell_type": "code",
      "metadata": {
        "id": "evro9ksXGs9u",
        "colab": {
          "base_uri": "https://localhost:8080/"
        },
        "outputId": "4b7195fd-4b65-430e-9da4-c9307b01b03d"
      },
      "source": [
        "# TODO:\n",
        "# Horizontaly and Verticaly rotated images are useless in numbers classification.\n",
        "# This rotations are difficult to perform irl. I think we can put it aside.\n",
        "tfs = transforms.Compose([\n",
        "    # TODO: Add good augmentations\n",
        "    # For different color-corrections and poor light conditions.\n",
        "    transforms.ColorJitter(hue=0.5, saturation=0.5, brightness=0.5, contrast=0.5),\n",
        "    # For small rotations, because numbers are rarely found at right angles irl.\n",
        "    transforms.RandomRotation(10, resample=PIL.Image.BILINEAR),\n",
        "    transforms.ToTensor(),\n",
        "    transforms.Normalize(mean=[0.43,0.44,0.47], std=[0.20,0.20,0.20])                            \n",
        "])\n",
        "\n",
        "# TODO create new instances of loaders with the augmentations you chose\n",
        "train_aug_data = dset.SVHN('../data/', transform=tfs)\n",
        "train_aug_loader = torch.utils.data.DataLoader(train_aug_data, batch_size=batch_size, \n",
        "                                               sampler=train_sampler)"
      ],
      "execution_count": 30,
      "outputs": [
        {
          "output_type": "stream",
          "text": [
            "/usr/local/lib/python3.7/dist-packages/torchvision/transforms/transforms.py:1201: UserWarning: Argument resample is deprecated and will be removed since v0.10.0. Please, use interpolation instead\n",
            "  \"Argument resample is deprecated and will be removed since v0.10.0. Please, use interpolation instead\"\n"
          ],
          "name": "stderr"
        }
      ]
    },
    {
      "cell_type": "code",
      "metadata": {
        "id": "PeO6Zw0DHqPR",
        "colab": {
          "base_uri": "https://localhost:8080/"
        },
        "outputId": "3f8cdf09-f177-46c5-ca47-784b69cb0076"
      },
      "source": [
        "# Finally, let's train with augmentations!\n",
        "\n",
        "# Note we shouldn't use augmentations on validation\n",
        "\n",
        "loss_history, train_history, val_history = train_model(nn_model, train_aug_loader, val_loader, loss, optimizer, 5)"
      ],
      "execution_count": 31,
      "outputs": [
        {
          "output_type": "stream",
          "text": [
            "Average loss: 0.687011, Train accuracy: 0.793554, Val accuracy: 0.828203\n",
            "Average loss: 0.623056, Train accuracy: 0.812630, Val accuracy: 0.839397\n",
            "Average loss: 0.605334, Train accuracy: 0.817698, Val accuracy: 0.844447\n",
            "Average loss: 0.587247, Train accuracy: 0.824079, Val accuracy: 0.848748\n",
            "Average loss: 0.574529, Train accuracy: 0.828362, Val accuracy: 0.849976\n"
          ],
          "name": "stdout"
        }
      ]
    },
    {
      "cell_type": "markdown",
      "metadata": {
        "id": "r0bcioK6JBDK"
      },
      "source": [
        "# LeNet\n",
        "Попробуем имплементировать классическую архитектуру сверточной нейронной сети, предложенную Яном ЛеКуном в 1998 году. В свое время она достигла впечатляющих результатов на MNIST, посмотрим как она справится с SVHN?\n",
        "Она описана в статье [\"Gradient Based Learning Applied to Document Recognition\"](http://yann.lecun.com/exdb/publis/pdf/lecun-01a.pdf), попробуйте прочитать ключевые части и имплементировать предложенную архитетуру на PyTorch.\n",
        "\n",
        "Реализовывать слои и функцию ошибки LeNet, которых нет в PyTorch, **не нужно** - просто возьмите их размеры и переведите в уже известные нам Convolutional, Pooling и Fully Connected layers.\n",
        "\n",
        "Если в статье не очень понятно, можно просто погуглить LeNet и разобраться в деталях :)"
      ]
    },
    {
      "cell_type": "code",
      "metadata": {
        "id": "ieEzZUglJAUB"
      },
      "source": [
        "# TODO: Implement LeNet-like architecture for SVHN task\n",
        "lenet_model = nn.Sequential(\n",
        "                nn.Conv2d(3, 6, 5),\n",
        "                nn.ReLU(inplace=True),\n",
        "                nn.MaxPool2d(2),\n",
        "                nn.Conv2d(6, 16, 5),\n",
        "                nn.ReLU(inplace=True),\n",
        "                nn.MaxPool2d(2),    \n",
        "                Flattener(),\n",
        "                nn.Linear(400, 120),\n",
        "                nn.ReLU(inplace=True),\n",
        "                nn.Linear(120, 84),\n",
        "                nn.ReLU(inplace=True),\n",
        "                nn.Linear(84, 10),\n",
        "                nn.LogSoftmax(dim=-1)\n",
        "          )\n",
        "\n",
        "lenet_model.type(torch.cuda.FloatTensor)\n",
        "lenet_model.to(device)\n",
        "\n",
        "loss = nn.CrossEntropyLoss().type(torch.cuda.FloatTensor)\n",
        "optimizer = optim.SGD(lenet_model.parameters(), lr=1e-1, weight_decay=1e-4)"
      ],
      "execution_count": 32,
      "outputs": []
    },
    {
      "cell_type": "code",
      "metadata": {
        "id": "WMmaPfdeKk9H",
        "colab": {
          "base_uri": "https://localhost:8080/"
        },
        "outputId": "a4e7a1da-2f86-4db2-b1da-f6290e18b390"
      },
      "source": [
        "# Let's train it!\n",
        "loss_history, train_history, val_history = train_model(lenet_model, train_aug_loader, val_loader, loss, optimizer, 10)"
      ],
      "execution_count": 33,
      "outputs": [
        {
          "output_type": "stream",
          "text": [
            "Average loss: 1.512768, Train accuracy: 0.484643, Val accuracy: 0.778104\n",
            "Average loss: 0.622347, Train accuracy: 0.813296, Val accuracy: 0.840966\n",
            "Average loss: 0.512803, Train accuracy: 0.845306, Val accuracy: 0.869770\n",
            "Average loss: 0.461858, Train accuracy: 0.860236, Val accuracy: 0.866562\n",
            "Average loss: 0.430890, Train accuracy: 0.871293, Val accuracy: 0.889973\n",
            "Average loss: 0.402917, Train accuracy: 0.879586, Val accuracy: 0.887311\n",
            "Average loss: 0.383017, Train accuracy: 0.885046, Val accuracy: 0.890246\n",
            "Average loss: 0.362114, Train accuracy: 0.890028, Val accuracy: 0.897686\n",
            "Average loss: 0.350381, Train accuracy: 0.893407, Val accuracy: 0.849430\n",
            "Average loss: 0.341067, Train accuracy: 0.895932, Val accuracy: 0.895570\n"
          ],
          "name": "stdout"
        }
      ]
    },
    {
      "cell_type": "markdown",
      "metadata": {
        "id": "u_O9qiYySvuj"
      },
      "source": [
        "# Подбор гиперпараметров"
      ]
    },
    {
      "cell_type": "code",
      "metadata": {
        "id": "i6mhfdQ9K-N3",
        "colab": {
          "base_uri": "https://localhost:8080/"
        },
        "outputId": "83629e41-2994-4aee-944b-7f8248e1e113"
      },
      "source": [
        "# The key hyperparameters we're going to tune are learning speed, annealing rate and regularization\n",
        "# We also encourage you to try different optimizers as well\n",
        "\n",
        "Hyperparams = namedtuple(\"Hyperparams\", ['learning_rate', 'anneal_epochs', 'reg'])\n",
        "RunResult = namedtuple(\"RunResult\", ['model', 'train_history', 'val_history', 'final_val_accuracy'])\n",
        "\n",
        "learning_rates = [1e-1, 1e-2, 1e-3, 1e-4]\n",
        "anneal_coeff = 0.2\n",
        "anneal_epochs = [5, 10, 15, 20, 30]\n",
        "regularizations = [1e-3, 1e-4, 1e-5, 1e-7]\n",
        "\n",
        "batch_size = 64\n",
        "epoch_num = 10\n",
        "\n",
        "# Record all the runs here\n",
        "# Key should be Hyperparams and values should be RunResult\n",
        "run_record = {} \n",
        "\n",
        "tfs = transforms.Compose([\n",
        "    transforms.ColorJitter(hue=0.5, saturation=0.5, brightness=0.5, contrast=0.5),\n",
        "    transforms.RandomRotation(10, resample=PIL.Image.BILINEAR),\n",
        "    transforms.ToTensor(),\n",
        "    transforms.Normalize(mean=[0.43,0.44,0.47], std=[0.20,0.20,0.20])                            \n",
        "])\n",
        "train_aug_data = dset.SVHN('../data/', transform=tfs)\n",
        "train_aug_loader = torch.utils.data.DataLoader(train_aug_data, batch_size=batch_size, \n",
        "                                               sampler=train_sampler)\n",
        "# Use grid search or random search and record all runs in run_record dictionnary \n",
        "# Important: perform search in logarithmic space!\n",
        "\n",
        "# TODO: Your code here!\n",
        "\n",
        "num_of_iters = 5\n",
        "for iter in range (num_of_iters):\n",
        "  lr = np.random.uniform(learning_rates[-1], learning_rates[0])\n",
        "  reg = np.random.uniform(regularizations[-1], regularizations[0])\n",
        "  epochs = np.random.random_integers(anneal_epochs[0], anneal_epochs[-1])\n",
        "  print(f\"Iter {iter} || lr: {lr} || reg: {reg} || epochs: {epochs}\")\n",
        "\n",
        "  lenet_model = nn.Sequential(\n",
        "                nn.Conv2d(3, 6, 5),\n",
        "                nn.ReLU(inplace=True),\n",
        "                nn.MaxPool2d(2),\n",
        "                nn.Conv2d(6, 16, 5),\n",
        "                nn.ReLU(inplace=True),\n",
        "                nn.MaxPool2d(2),    \n",
        "                Flattener(),\n",
        "                nn.Linear(400, 120),\n",
        "                nn.ReLU(inplace=True),\n",
        "                nn.Linear(120, 84),\n",
        "                nn.ReLU(inplace=True),\n",
        "                nn.Linear(84, 10),\n",
        "                nn.LogSoftmax(dim=-1)\n",
        "          )\n",
        "  lenet_model.type(torch.cuda.FloatTensor)\n",
        "  lenet_model.to(device)\n",
        "  loss = nn.CrossEntropyLoss().type(torch.cuda.FloatTensor)\n",
        "  optimizer = optim.SGD(lenet_model.parameters(), lr=lr, weight_decay=reg)\n",
        "\n",
        "  loss_history, train_history, val_history = train_model(lenet_model, train_aug_loader, val_loader, loss, optimizer, epochs)\n",
        "  huper_params = Hyperparams(lr, epochs, reg)\n",
        "  run_result = RunResult(lenet_model, loss_history, val_history, max(val_history))\n",
        "  run_record[huper_params] = run_result"
      ],
      "execution_count": 25,
      "outputs": [
        {
          "output_type": "stream",
          "text": [
            "/usr/local/lib/python3.7/dist-packages/torchvision/transforms/transforms.py:1201: UserWarning: Argument resample is deprecated and will be removed since v0.10.0. Please, use interpolation instead\n",
            "  \"Argument resample is deprecated and will be removed since v0.10.0. Please, use interpolation instead\"\n",
            "/usr/local/lib/python3.7/dist-packages/ipykernel_launcher.py:37: DeprecationWarning: This function is deprecated. Please call randint(5, 30 + 1) instead\n"
          ],
          "name": "stderr"
        },
        {
          "output_type": "stream",
          "text": [
            "Iter 0 || lr: 0.08185783039977912 || reg: 0.0009376780483748173 || epochs: 6\n",
            "Average loss: 1.876496, Train accuracy: 0.346876, Val accuracy: 0.721725\n",
            "Average loss: 0.703448, Train accuracy: 0.791711, Val accuracy: 0.851682\n",
            "Average loss: 0.551271, Train accuracy: 0.836433, Val accuracy: 0.860829\n",
            "Average loss: 0.485106, Train accuracy: 0.854349, Val accuracy: 0.872773\n",
            "Average loss: 0.446755, Train accuracy: 0.866311, Val accuracy: 0.870589\n",
            "Average loss: 0.417658, Train accuracy: 0.874450, Val accuracy: 0.869429\n",
            "Iter 1 || lr: 0.008186338668242978 || reg: 0.000492785809018338 || epochs: 25\n",
            "Average loss: 2.251251, Train accuracy: 0.177900, Val accuracy: 0.188178\n",
            "Average loss: 2.228444, Train accuracy: 0.189690, Val accuracy: 0.197734\n",
            "Average loss: 2.102307, Train accuracy: 0.260212, Val accuracy: 0.402839\n",
            "Average loss: 1.469623, Train accuracy: 0.525202, Val accuracy: 0.677974\n",
            "Average loss: 0.993901, Train accuracy: 0.702420, Val accuracy: 0.768480\n",
            "Average loss: 0.807484, Train accuracy: 0.765690, Val accuracy: 0.807726\n",
            "Average loss: 0.714401, Train accuracy: 0.794083, Val accuracy: 0.813528\n",
            "Average loss: 0.659373, Train accuracy: 0.809746, Val accuracy: 0.842741\n",
            "Average loss: 0.613213, Train accuracy: 0.824028, Val accuracy: 0.850590\n",
            "Average loss: 0.579485, Train accuracy: 0.833447, Val accuracy: 0.852024\n",
            "Average loss: 0.553901, Train accuracy: 0.839010, Val accuracy: 0.862467\n",
            "Average loss: 0.529959, Train accuracy: 0.846517, Val accuracy: 0.863354\n",
            "Average loss: 0.509439, Train accuracy: 0.851107, Val accuracy: 0.866562\n",
            "Average loss: 0.493253, Train accuracy: 0.857540, Val accuracy: 0.862467\n",
            "Average loss: 0.477336, Train accuracy: 0.861448, Val accuracy: 0.862603\n",
            "Average loss: 0.467421, Train accuracy: 0.863308, Val accuracy: 0.876732\n",
            "Average loss: 0.454145, Train accuracy: 0.866686, Val accuracy: 0.875981\n",
            "Average loss: 0.441754, Train accuracy: 0.871139, Val accuracy: 0.878916\n",
            "Average loss: 0.427465, Train accuracy: 0.873426, Val accuracy: 0.880349\n",
            "Average loss: 0.420606, Train accuracy: 0.874962, Val accuracy: 0.883353\n",
            "Average loss: 0.414360, Train accuracy: 0.879296, Val accuracy: 0.882943\n",
            "Average loss: 0.401935, Train accuracy: 0.880166, Val accuracy: 0.887448\n",
            "Average loss: 0.396624, Train accuracy: 0.881821, Val accuracy: 0.887448\n",
            "Average loss: 0.387106, Train accuracy: 0.885097, Val accuracy: 0.887721\n",
            "Average loss: 0.383317, Train accuracy: 0.887076, Val accuracy: 0.889973\n",
            "Iter 2 || lr: 0.02841472803850124 || reg: 3.4696275331781565e-06 || epochs: 23\n",
            "Average loss: 2.234807, Train accuracy: 0.186977, Val accuracy: 0.270425\n",
            "Average loss: 1.322563, Train accuracy: 0.574446, Val accuracy: 0.800491\n",
            "Average loss: 0.717113, Train accuracy: 0.791079, Val accuracy: 0.839738\n",
            "Average loss: 0.598124, Train accuracy: 0.824933, Val accuracy: 0.859054\n",
            "Average loss: 0.533830, Train accuracy: 0.842866, Val accuracy: 0.864037\n",
            "Average loss: 0.489883, Train accuracy: 0.856312, Val accuracy: 0.876732\n",
            "Average loss: 0.455380, Train accuracy: 0.866379, Val accuracy: 0.874889\n",
            "Average loss: 0.430745, Train accuracy: 0.872658, Val accuracy: 0.882465\n",
            "Average loss: 0.409430, Train accuracy: 0.878903, Val accuracy: 0.886970\n",
            "Average loss: 0.392385, Train accuracy: 0.882538, Val accuracy: 0.888677\n",
            "Average loss: 0.374221, Train accuracy: 0.888527, Val accuracy: 0.892772\n",
            "Average loss: 0.363658, Train accuracy: 0.891854, Val accuracy: 0.892977\n",
            "Average loss: 0.350397, Train accuracy: 0.895369, Val accuracy: 0.897754\n",
            "Average loss: 0.338686, Train accuracy: 0.898270, Val accuracy: 0.897686\n",
            "Average loss: 0.328358, Train accuracy: 0.901444, Val accuracy: 0.894546\n",
            "Average loss: 0.321736, Train accuracy: 0.903730, Val accuracy: 0.889837\n",
            "Average loss: 0.311028, Train accuracy: 0.907620, Val accuracy: 0.897754\n",
            "Average loss: 0.304286, Train accuracy: 0.908388, Val accuracy: 0.901099\n",
            "Average loss: 0.290763, Train accuracy: 0.912500, Val accuracy: 0.900689\n",
            "Average loss: 0.289316, Train accuracy: 0.912483, Val accuracy: 0.902327\n",
            "Average loss: 0.281386, Train accuracy: 0.914992, Val accuracy: 0.892158\n",
            "Average loss: 0.278506, Train accuracy: 0.914770, Val accuracy: 0.899051\n",
            "Average loss: 0.270555, Train accuracy: 0.918234, Val accuracy: 0.901986\n",
            "Iter 3 || lr: 0.006421013022497474 || reg: 0.0002107628991768365 || epochs: 20\n",
            "Average loss: 2.262126, Train accuracy: 0.182695, Val accuracy: 0.188178\n",
            "Average loss: 2.237152, Train accuracy: 0.189469, Val accuracy: 0.188178\n",
            "Average loss: 2.232191, Train accuracy: 0.189656, Val accuracy: 0.190089\n",
            "Average loss: 2.214781, Train accuracy: 0.196038, Val accuracy: 0.213501\n",
            "Average loss: 2.072720, Train accuracy: 0.275433, Val accuracy: 0.413897\n",
            "Average loss: 1.540291, Train accuracy: 0.504198, Val accuracy: 0.650672\n",
            "Average loss: 1.088456, Train accuracy: 0.677422, Val accuracy: 0.765682\n",
            "Average loss: 0.895246, Train accuracy: 0.743439, Val accuracy: 0.791687\n",
            "Average loss: 0.791860, Train accuracy: 0.778726, Val accuracy: 0.815576\n",
            "Average loss: 0.728916, Train accuracy: 0.794748, Val accuracy: 0.827179\n",
            "Average loss: 0.687075, Train accuracy: 0.806368, Val accuracy: 0.828339\n",
            "Average loss: 0.647164, Train accuracy: 0.817971, Val accuracy: 0.832025\n",
            "Average loss: 0.623031, Train accuracy: 0.823738, Val accuracy: 0.846632\n",
            "Average loss: 0.594562, Train accuracy: 0.830086, Val accuracy: 0.855232\n",
            "Average loss: 0.575420, Train accuracy: 0.835170, Val accuracy: 0.850044\n",
            "Average loss: 0.549905, Train accuracy: 0.841859, Val accuracy: 0.861306\n",
            "Average loss: 0.537676, Train accuracy: 0.844231, Val accuracy: 0.862671\n",
            "Average loss: 0.517359, Train accuracy: 0.848889, Val accuracy: 0.861716\n",
            "Average loss: 0.508158, Train accuracy: 0.851142, Val accuracy: 0.866699\n",
            "Average loss: 0.490310, Train accuracy: 0.856551, Val accuracy: 0.868268\n",
            "Iter 4 || lr: 0.05530704948670669 || reg: 0.00030351021376482556 || epochs: 30\n",
            "Average loss: 2.023647, Train accuracy: 0.281695, Val accuracy: 0.672514\n",
            "Average loss: 0.828488, Train accuracy: 0.754906, Val accuracy: 0.836735\n",
            "Average loss: 0.592141, Train accuracy: 0.823516, Val accuracy: 0.852911\n",
            "Average loss: 0.511176, Train accuracy: 0.847695, Val accuracy: 0.865129\n",
            "Average loss: 0.468467, Train accuracy: 0.859042, Val accuracy: 0.873114\n",
            "Average loss: 0.436251, Train accuracy: 0.871225, Val accuracy: 0.875913\n",
            "Average loss: 0.410114, Train accuracy: 0.874927, Val accuracy: 0.882602\n",
            "Average loss: 0.389761, Train accuracy: 0.883015, Val accuracy: 0.878438\n",
            "Average loss: 0.375550, Train accuracy: 0.888168, Val accuracy: 0.890178\n",
            "Average loss: 0.362102, Train accuracy: 0.890711, Val accuracy: 0.892567\n",
            "Average loss: 0.347555, Train accuracy: 0.895233, Val accuracy: 0.896389\n",
            "Average loss: 0.336750, Train accuracy: 0.897297, Val accuracy: 0.894342\n",
            "Average loss: 0.327036, Train accuracy: 0.899754, Val accuracy: 0.890588\n",
            "Average loss: 0.323459, Train accuracy: 0.900369, Val accuracy: 0.895912\n",
            "Average loss: 0.312520, Train accuracy: 0.904430, Val accuracy: 0.894273\n",
            "Average loss: 0.302742, Train accuracy: 0.907859, Val accuracy: 0.899870\n",
            "Average loss: 0.296641, Train accuracy: 0.909310, Val accuracy: 0.899188\n",
            "Average loss: 0.291702, Train accuracy: 0.912108, Val accuracy: 0.904375\n",
            "Average loss: 0.284855, Train accuracy: 0.913251, Val accuracy: 0.901167\n",
            "Average loss: 0.284139, Train accuracy: 0.913166, Val accuracy: 0.903966\n",
            "Average loss: 0.275557, Train accuracy: 0.915316, Val accuracy: 0.900143\n",
            "Average loss: 0.270812, Train accuracy: 0.916544, Val accuracy: 0.900212\n",
            "Average loss: 0.264313, Train accuracy: 0.918319, Val accuracy: 0.902874\n",
            "Average loss: 0.258574, Train accuracy: 0.920332, Val accuracy: 0.903966\n",
            "Average loss: 0.256486, Train accuracy: 0.921049, Val accuracy: 0.895639\n",
            "Average loss: 0.255669, Train accuracy: 0.920640, Val accuracy: 0.900962\n",
            "Average loss: 0.250121, Train accuracy: 0.922397, Val accuracy: 0.903215\n",
            "Average loss: 0.248175, Train accuracy: 0.923762, Val accuracy: 0.908675\n",
            "Average loss: 0.240821, Train accuracy: 0.925537, Val accuracy: 0.901577\n",
            "Average loss: 0.238433, Train accuracy: 0.926134, Val accuracy: 0.903693\n"
          ],
          "name": "stdout"
        }
      ]
    },
    {
      "cell_type": "code",
      "metadata": {
        "id": "Y6xExdw8JB1l",
        "colab": {
          "base_uri": "https://localhost:8080/"
        },
        "outputId": "951e37d2-c1b5-4a45-feb9-cb55272380bb"
      },
      "source": [
        "best_val_accuracy = None\n",
        "best_hyperparams = None\n",
        "best_run = None\n",
        "\n",
        "for hyperparams, run_result in run_record.items():\n",
        "    if best_val_accuracy is None or best_val_accuracy < run_result.final_val_accuracy:\n",
        "        best_val_accuracy = run_result.final_val_accuracy\n",
        "        best_hyperparams = hyperparams\n",
        "        best_run = run_result\n",
        "        \n",
        "print(\"Best validation accuracy: %4.2f, best hyperparams: %s\" % (best_val_accuracy, best_hyperparams))\n",
        "        "
      ],
      "execution_count": 26,
      "outputs": [
        {
          "output_type": "stream",
          "text": [
            "Best validation accuracy: 0.91, best hyperparams: Hyperparams(learning_rate=0.05530704948670669, anneal_epochs=30, reg=0.00030351021376482556)\n"
          ],
          "name": "stdout"
        }
      ]
    },
    {
      "cell_type": "markdown",
      "metadata": {
        "id": "LOmsR0uVgtgf"
      },
      "source": [
        "# Свободное упражнение - догоним и перегоним LeNet!\n",
        "\n",
        "Попробуйте найти архитектуру и настройки тренировки, чтобы выступить лучше наших бейзлайнов.\n",
        "\n",
        "Что можно и нужно попробовать:\n",
        "- BatchNormalization (для convolution layers он в PyTorch называется [batchnorm2d](https://pytorch.org/docs/stable/nn.html#batchnorm2d))\n",
        "- Изменить количество слоев и их толщину\n",
        "- Изменять количество эпох тренировки\n",
        "- Попробовать и другие агментации"
      ]
    },
    {
      "cell_type": "code",
      "metadata": {
        "id": "tSVhD747icoc",
        "colab": {
          "base_uri": "https://localhost:8080/"
        },
        "outputId": "15e81e7e-6060-4c92-963f-db9fb379c28b"
      },
      "source": [
        "best_model = nn.Sequential(\n",
        "                nn.Conv2d(3, 16, 5),\n",
        "                nn.BatchNorm2d(16),\n",
        "                nn.ReLU(inplace=True),\n",
        "                nn.MaxPool2d(2),\n",
        "                nn.Conv2d(16, 32, 5),\n",
        "                nn.BatchNorm2d(32),\n",
        "                nn.ReLU(inplace=True),\n",
        "                nn.MaxPool2d(2),\n",
        "                Flattener(),\n",
        "                nn.Linear(800, 400),\n",
        "                nn.ReLU(inplace=True),\n",
        "                nn.Linear(400, 120),\n",
        "                nn.ReLU(inplace=True),\n",
        "                nn.Linear(120, 84),\n",
        "                nn.ReLU(inplace=True),\n",
        "                nn.Linear(84, 10),\n",
        "                nn.LogSoftmax(dim=-1)\n",
        "          )\n",
        "\n",
        "best_model.type(torch.cuda.FloatTensor)\n",
        "best_model.to(device)\n",
        "loss = nn.CrossEntropyLoss().type(torch.cuda.FloatTensor)\n",
        "optimizer = optim.SGD(best_model.parameters(), lr=5.53e-2, weight_decay=3e-4)\n",
        "\n",
        "loss_history, train_history, val_history = train_model(best_model, train_aug_loader, val_loader, loss, optimizer, 25)"
      ],
      "execution_count": 37,
      "outputs": [
        {
          "output_type": "stream",
          "text": [
            "Average loss: 1.280111, Train accuracy: 0.570658, Val accuracy: 0.810047\n",
            "Average loss: 0.556891, Train accuracy: 0.830598, Val accuracy: 0.875435\n",
            "Average loss: 0.453547, Train accuracy: 0.862540, Val accuracy: 0.890315\n",
            "Average loss: 0.398138, Train accuracy: 0.879842, Val accuracy: 0.891543\n",
            "Average loss: 0.360261, Train accuracy: 0.892383, Val accuracy: 0.909494\n",
            "Average loss: 0.327634, Train accuracy: 0.901324, Val accuracy: 0.907583\n",
            "Average loss: 0.305185, Train accuracy: 0.907791, Val accuracy: 0.914477\n",
            "Average loss: 0.283704, Train accuracy: 0.914514, Val accuracy: 0.890792\n",
            "Average loss: 0.269312, Train accuracy: 0.919991, Val accuracy: 0.918163\n",
            "Average loss: 0.253750, Train accuracy: 0.923626, Val accuracy: 0.919596\n",
            "Average loss: 0.240981, Train accuracy: 0.927482, Val accuracy: 0.917685\n",
            "Average loss: 0.226922, Train accuracy: 0.931509, Val accuracy: 0.924032\n",
            "Average loss: 0.216333, Train accuracy: 0.934751, Val accuracy: 0.922872\n",
            "Average loss: 0.202391, Train accuracy: 0.939614, Val accuracy: 0.918299\n",
            "Average loss: 0.198973, Train accuracy: 0.940552, Val accuracy: 0.920893\n",
            "Average loss: 0.184385, Train accuracy: 0.945927, Val accuracy: 0.922599\n",
            "Average loss: 0.177626, Train accuracy: 0.945876, Val accuracy: 0.922599\n",
            "Average loss: 0.170695, Train accuracy: 0.947753, Val accuracy: 0.921780\n",
            "Average loss: 0.162713, Train accuracy: 0.950142, Val accuracy: 0.926148\n",
            "Average loss: 0.153993, Train accuracy: 0.953896, Val accuracy: 0.919050\n",
            "Average loss: 0.150164, Train accuracy: 0.954373, Val accuracy: 0.917753\n",
            "Average loss: 0.145136, Train accuracy: 0.956387, Val accuracy: 0.922804\n",
            "Average loss: 0.138891, Train accuracy: 0.957615, Val accuracy: 0.920961\n",
            "Average loss: 0.137809, Train accuracy: 0.957530, Val accuracy: 0.920142\n",
            "Average loss: 0.131432, Train accuracy: 0.959441, Val accuracy: 0.919732\n"
          ],
          "name": "stdout"
        }
      ]
    },
    {
      "cell_type": "markdown",
      "metadata": {
        "id": "ubeKgBcnhx7N"
      },
      "source": [
        "# Финальный аккорд - проверим лучшую модель на test set\n",
        "\n",
        "В качестве разнообразия - напишите код для прогона модели на test set вы.\n",
        "\n",
        "В результате вы должны натренировать модель, которая покажет более **90%** точности на test set.  \n",
        "Как водится, лучший результат в группе получит дополнительные баллы!"
      ]
    },
    {
      "cell_type": "code",
      "metadata": {
        "id": "EIqM1kdeh-hd",
        "colab": {
          "base_uri": "https://localhost:8080/"
        },
        "outputId": "8f5452f8-e51a-45b2-f617-d582e0bfbdc2"
      },
      "source": [
        "# TODO Write the code to compute accuracy on test set\n",
        "test_loader = torch.utils.data.DataLoader(data_test, batch_size=64)\n",
        "test_accuracy = compute_accuracy(best_model, test_loader)\n",
        "print(f\"Final test accuracy - {test_accuracy}\" )"
      ],
      "execution_count": 38,
      "outputs": [
        {
          "output_type": "stream",
          "text": [
            "Final test accuracy - 0.9142977873386601\n"
          ],
          "name": "stdout"
        }
      ]
    }
  ]
}