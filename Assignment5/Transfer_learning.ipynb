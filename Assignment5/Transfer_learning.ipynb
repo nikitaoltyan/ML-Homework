{
  "nbformat": 4,
  "nbformat_minor": 0,
  "metadata": {
    "accelerator": "GPU",
    "colab": {
      "name": "Копия блокнота \"Transfer_learning.ipynb\"",
      "provenance": [],
      "collapsed_sections": [],
      "include_colab_link": true
    },
    "kernelspec": {
      "display_name": "Python 3",
      "language": "python",
      "name": "python3"
    },
    "language_info": {
      "codemirror_mode": {
        "name": "ipython",
        "version": 3
      },
      "file_extension": ".py",
      "mimetype": "text/x-python",
      "name": "python",
      "nbconvert_exporter": "python",
      "pygments_lexer": "ipython3",
      "version": "3.8.5"
    }
  },
  "cells": [
    {
      "cell_type": "markdown",
      "metadata": {
        "id": "view-in-github",
        "colab_type": "text"
      },
      "source": [
        "<a href=\"https://colab.research.google.com/github/nikitaoltyan/ML-Homework/blob/main/Assignment5/Transfer_learning\" target=\"_parent\"><img src=\"https://colab.research.google.com/assets/colab-badge.svg\" alt=\"Open In Colab\"/></a>"
      ]
    },
    {
      "cell_type": "code",
      "metadata": {
        "id": "MEohEaXrc__-"
      },
      "source": [
        "%matplotlib inline"
      ],
      "execution_count": null,
      "outputs": []
    },
    {
      "cell_type": "markdown",
      "metadata": {
        "id": "7AiOAaHwc___"
      },
      "source": [
        "\n",
        "Fine Tuning and Transfer Learning \n",
        "==============================================\n",
        "\n",
        "В этом задании мы натренируем предобученную нейросеть с помощью tranfer learning для решения задачи классификации муравьев и пчел.\n",
        "\n",
        "Тренировка нейросети со случайными начальными весами слоев требует большого количества данных и затрат времени на обучение.  \n",
        "Поэтому на практике используют модели (архитектура + веса), которые обучались на больших стандартных датасетах.  \n",
        "\n",
        "Для дообучения обычно используют два различных сценария:  \n",
        "- **Finetuning** - дообучение параметров всех слоев нейросети. Параметры не случайны, а получены в ходе обучения модели на большом датасете, например ImageNet (1000 классов, миллионы изображений). Функции forward и backward вызываются для всех слоев. \n",
        "- **Feature extraction** - дообучаются только последние слои. Используются как правило линейные слои, их может быть один или несколько. Параметры предобученных слоев в процесее обучения не изменяются. В целом, работу предобученной части нейросети можно представить как извлечение некоторых абстрактрых признаков, на основании которых последние слои позволяют отнести входное изображение к тому или иному классу. Функции forward вызываются для всех слоев, а backward только для дообучаемых."
      ]
    },
    {
      "cell_type": "markdown",
      "metadata": {
        "id": "tVVIFKazdAAA"
      },
      "source": [
        "Итак, план действий таков:  \n",
        "\n",
        "1. Импорт необходимых модулей\n",
        "2. Загрузка, нормализация и аугментация данных\n",
        "3. Определение процесса тренировки нейросети и визуализации результатов\n",
        "4. Дообучение всех слоев нейросети, предобученных на большом датасете (Fine Tuning)\n",
        "5. Обучение только последнего линейного слоя (Transfer Learning)"
      ]
    },
    {
      "cell_type": "markdown",
      "metadata": {
        "id": "--BNJIKRdAAB"
      },
      "source": [
        "## 1. Импорт модулей"
      ]
    },
    {
      "cell_type": "code",
      "metadata": {
        "id": "TPV5Y6J6dAAB"
      },
      "source": [
        "# License: BSD\n",
        "# Author: Sasank Chilamkurthy\n",
        "\n",
        "from __future__ import print_function, division\n",
        "\n",
        "import torch\n",
        "import torch.nn as nn\n",
        "import torch.optim as optim\n",
        "from torch.optim import lr_scheduler\n",
        "import numpy as np\n",
        "import torchvision\n",
        "from torchvision import datasets, models, transforms\n",
        "import matplotlib.pyplot as plt\n",
        "import time\n",
        "import os\n",
        "import copy\n",
        "\n",
        "plt.ion()   # interactive mode"
      ],
      "execution_count": null,
      "outputs": []
    },
    {
      "cell_type": "markdown",
      "metadata": {
        "id": "VmjQGXKHdAAB"
      },
      "source": [
        "## 2. Загрузка данных"
      ]
    },
    {
      "cell_type": "markdown",
      "metadata": {
        "id": "2bJRykQGdAAB"
      },
      "source": [
        "We will use torchvision and torch.utils.data packages for loading the\n",
        "data.\n",
        "\n",
        "Для загрузки данных воспользуемся готовыми инструментами из модуля `torchvision` и `torch.utils`:\n",
        "- `datasets.ImageFolder` - создает датасет из изображений, разложенных по папкам `train` и `val`\n",
        "- `data.DataLoader` - итератор по датасету\n",
        "- `transforms.Compose` - цепочка предобработки данных\n",
        "\n",
        "\n",
        "The problem we're going to solve today is to train a model to classify\n",
        "**ants** and **bees**. We have about 120 training images each for ants and bees.\n",
        "There are 75 validation images for each class. Usually, this is a very\n",
        "small dataset to generalize upon, if trained from scratch. Since we\n",
        "are using transfer learning, we should be able to generalize reasonably\n",
        "well.\n",
        "\n",
        "Датасет с изображениями пчел и муравьев представляет собой очень малую подвыборку `ImageNet`\n",
        "Изображения имеют разный размер, около  400 на 400 пикселей RGB.\n",
        "На каждый класс приходится около 120 обучающих изображений и 70 тестовых.\n",
        "\n",
        "Данные доступны по ссылке\n",
        "   `<https://download.pytorch.org/tutorial/hymenoptera_data.zip>`_"
      ]
    },
    {
      "cell_type": "code",
      "metadata": {
        "id": "f8_t3IpleyPm"
      },
      "source": [
        "# TODO загрузите данные и распакуйте в текущую папку\n",
        "! unzip hymenoptera_data.zip"
      ],
      "execution_count": null,
      "outputs": []
    },
    {
      "cell_type": "code",
      "metadata": {
        "id": "pziERG3jdAAC"
      },
      "source": [
        "# TODO добавьте preprocessing and augmentation\n",
        "data_transforms = {\n",
        "    'train': transforms.Compose([\n",
        "\n",
        "    ]),\n",
        "    'val': transforms.Compose([\n",
        "        \n",
        "    ]),\n",
        "}\n",
        "\n",
        "data_dir = 'hymenoptera_data'\n",
        "\n",
        "image_datasets = {x: datasets.ImageFolder(os.path.join(data_dir, x),\n",
        "                                          data_transforms[x])\n",
        "                  for x in ['train', 'val']}\n",
        "dataloaders = {x: torch.utils.data.DataLoader(image_datasets[x], batch_size=4,\n",
        "                                             shuffle=True, num_workers=4)\n",
        "              for x in ['train', 'val']}\n",
        "\n",
        "dataset_sizes = {x: len(image_datasets[x]) for x in ['train', 'val']}\n",
        "class_names = image_datasets['train'].classes\n",
        "num_classes = len(class_names)\n",
        "device = torch.device(\"cuda:0\" if torch.cuda.is_available() else \"cpu\")"
      ],
      "execution_count": null,
      "outputs": []
    },
    {
      "cell_type": "markdown",
      "metadata": {
        "id": "vhtJl0PCdAAC"
      },
      "source": [
        "Визуализируем несколько изображений c помощью TensorBoard, посмотрим на что они стали похожи после аугментаций."
      ]
    },
    {
      "cell_type": "code",
      "metadata": {
        "id": "3enT6EjOdAAD"
      },
      "source": [
        "# TODO визуализация изображений с помощью tensorboard"
      ],
      "execution_count": null,
      "outputs": []
    },
    {
      "cell_type": "markdown",
      "metadata": {
        "id": "N496QkUidAAD"
      },
      "source": [
        "## 3. Определение процесса тренировки нейросети"
      ]
    },
    {
      "cell_type": "markdown",
      "metadata": {
        "id": "F5ncmYTJdAAD"
      },
      "source": [
        "Напишите функцию тренировки нейросети, в которой реализованы следующие возможности:\n",
        "\n",
        "- снижение learning rate\n",
        "- сохранение модели с лучшими результатами\n",
        "- использование одной функции как для фазы тренировки, так и валидации\n",
        "- запись loss, train val accuracy в tensorboard"
      ]
    },
    {
      "cell_type": "code",
      "metadata": {
        "id": "gtWSN6ewdAAE"
      },
      "source": [
        "def train_model(model, criterion, optimizer, scheduler, num_epochs=25):\n",
        "    since = time.time()\n",
        "\n",
        "    best_model_wts = copy.deepcopy(model.state_dict())\n",
        "    best_acc = 0.0\n",
        "\n",
        "    for epoch in range(num_epochs):\n",
        "        print('Epoch {}/{}'.format(epoch, num_epochs - 1))\n",
        "        print('-' * 10)\n",
        "\n",
        "        # Each epoch has a training and validation phase\n",
        "        for phase in ['train', 'val']:\n",
        "            if phase == 'train':\n",
        "                # TODO Set model to training mode\n",
        "            else:\n",
        "                # TODO Set model to evaluate mode\n",
        "\n",
        "            running_loss = 0.0\n",
        "            running_corrects = 0\n",
        "\n",
        "            # Iterate over data.\n",
        "            for inputs, labels in dataloaders[phase]:\n",
        "                # TODO move inputs and labels to device\n",
        "                \n",
        "                # TODO zero the parameter gradients\n",
        "                \n",
        "                # forward\n",
        "                # track history if only in train\n",
        "                with torch.set_grad_enabled(phase == 'train'):\n",
        "                    outputs = model(inputs)\n",
        "                    _, preds = torch.max(outputs, 1)\n",
        "                    loss = criterion(outputs, labels)\n",
        "\n",
        "                    if phase == 'train':\n",
        "                        # TODO backward + optimize only if in training phase\n",
        "\n",
        "                # statistics\n",
        "                running_loss += loss.item() * inputs.size(0)\n",
        "                running_corrects += torch.sum(preds == labels.data)\n",
        "            if phase == 'train':\n",
        "                scheduler.step()\n",
        "            \n",
        "            # TODO calculate loss and accuracy and write to tensorboard\n",
        "            epoch_loss = 0\n",
        "            epoch_acc = 0\n",
        "            \n",
        "            print('{} Loss: {:.4f} Acc: {:.4f}'.format(\n",
        "                phase, epoch_loss, epoch_acc))\n",
        "\n",
        "            # deep copy the model\n",
        "            if phase == 'val' and epoch_acc > best_acc:\n",
        "                best_acc = epoch_acc\n",
        "                best_model_wts = copy.deepcopy(model.state_dict())\n",
        "\n",
        "        print()\n",
        "\n",
        "    time_elapsed = time.time() - since\n",
        "    print('Training complete in {:.0f}m {:.0f}s'.format(\n",
        "        time_elapsed // 60, time_elapsed % 60))\n",
        "    print('Best val Acc: {:4f}'.format(best_acc))\n",
        "\n",
        "    # load best model weights\n",
        "    model.load_state_dict(best_model_wts)\n",
        "    return model"
      ],
      "execution_count": null,
      "outputs": []
    },
    {
      "cell_type": "markdown",
      "metadata": {
        "id": "fzbuM9andAAE"
      },
      "source": [
        "Функция для визуализации предсказаний модели"
      ]
    },
    {
      "cell_type": "code",
      "metadata": {
        "id": "7iWzyqxodAAF"
      },
      "source": [
        "def visualize_model(model, num_images=6):\n",
        "    was_training = model.training\n",
        "    model.eval()\n",
        "    images_so_far = 0\n",
        "    fig = plt.figure()\n",
        "\n",
        "    with torch.no_grad():\n",
        "        for i, (inputs, labels) in enumerate(dataloaders['val']):\n",
        "            inputs = inputs.to(device)\n",
        "            labels = labels.to(device)\n",
        "\n",
        "            outputs = model(inputs)\n",
        "            _, preds = torch.max(outputs, 1)\n",
        "\n",
        "            for j in range(inputs.size()[0]):\n",
        "                images_so_far += 1\n",
        "                ax = plt.subplot(num_images//2, 2, images_so_far)\n",
        "                ax.axis('off')\n",
        "                ax.set_title('predicted: {}'.format(class_names[preds[j]]))\n",
        "                imshow(inputs.cpu().data[j])\n",
        "\n",
        "                if images_so_far == num_images:\n",
        "                    model.train(mode=was_training)\n",
        "                    return\n",
        "        model.train(mode=was_training)"
      ],
      "execution_count": null,
      "outputs": []
    },
    {
      "cell_type": "markdown",
      "metadata": {
        "id": "XJ7-eoizdAAF"
      },
      "source": [
        "## 4. Finetuning всех весов"
      ]
    },
    {
      "cell_type": "code",
      "metadata": {
        "id": "mGZ9KFKddAAF"
      },
      "source": [
        "# TODO use pretrained model\n",
        "model_ft = models.resnet18(pretrained=False)\n",
        "num_ftrs = model_ft.fc.in_features\n",
        "\n",
        "# Here the size of each output sample is set to num_classes.\n",
        "model_ft.fc = nn.Linear(num_ftrs, num_classes)\n",
        "\n",
        "model_ft = model_ft.to(device)\n",
        "\n",
        "criterion = nn.CrossEntropyLoss()\n",
        "\n",
        "# Observe that all parameters are being optimized\n",
        "optimizer_ft = optim.SGD(model_ft.parameters(), lr=0.0001, momentum=0.9)\n",
        "\n",
        "# Decay LR by a factor of 0.5 every 5 epochs\n",
        "exp_lr_scheduler = lr_scheduler.StepLR(optimizer_ft, step_size=5, gamma=0.5)"
      ],
      "execution_count": null,
      "outputs": []
    },
    {
      "cell_type": "markdown",
      "metadata": {
        "id": "rIZuW6yjdAAG"
      },
      "source": [
        "На CPU процесс обучения занимает несколько минут."
      ]
    },
    {
      "cell_type": "code",
      "metadata": {
        "id": "D7BvVNnzdAAG"
      },
      "source": [
        "model_ft = train_model(model_ft, criterion, optimizer_ft, exp_lr_scheduler,\n",
        "                       num_epochs=10)"
      ],
      "execution_count": null,
      "outputs": []
    },
    {
      "cell_type": "code",
      "metadata": {
        "id": "ooc1lBw1dAAG"
      },
      "source": [
        "visualize_model(model_ft)"
      ],
      "execution_count": null,
      "outputs": []
    },
    {
      "cell_type": "markdown",
      "metadata": {
        "id": "SQvGjS5IdAAH"
      },
      "source": [
        "## 5. Trainsfer Learning (Feature extractor)"
      ]
    },
    {
      "cell_type": "markdown",
      "metadata": {
        "id": "5WkA24QIdAAH"
      },
      "source": [
        "Теперь заморозим веса всех слоев модели, за исключением последнего. Для этого нужно установить параметр `requires_grad == False` для каждого слоя. Функция `backward` этих слоев не будет вызываться в процессе обучения, что весьма ускорит процесс.  \n",
        "\n",
        "Более подробно `<https://pytorch.org/docs/notes/autograd.html#excluding-subgraphs-from-backward>`__."
      ]
    },
    {
      "cell_type": "code",
      "metadata": {
        "id": "GVPjMVqNdAAH"
      },
      "source": [
        "model_conv = torchvision.models.resnet18(pretrained=True)\n",
        "for param in model_conv.parameters():\n",
        "    param.requires_grad = False\n",
        "\n",
        "# Parameters of newly constructed modules have requires_grad=True by default\n",
        "num_ftrs = model_conv.fc.in_features\n",
        "model_conv.fc = nn.Linear(num_ftrs, num_classes)\n",
        "\n",
        "model_conv = model_conv.to(device)\n",
        "\n",
        "criterion = nn.CrossEntropyLoss()\n",
        "\n",
        "# Observe that only parameters of final layer are being optimized as\n",
        "# opposed to before.\n",
        "optimizer_conv = optim.SGD(model_conv.fc.parameters(), lr=0.001, momentum=0.9)\n",
        "\n",
        "# Decay LR by a factor of 0.1 every 7 epochs\n",
        "exp_lr_scheduler = lr_scheduler.StepLR(optimizer_conv, step_size=7, gamma=0.1)"
      ],
      "execution_count": null,
      "outputs": []
    },
    {
      "cell_type": "markdown",
      "metadata": {
        "id": "SW4n0ZIRdAAH"
      },
      "source": [
        "На CPU  обучение должно пройти примерно в два раза быстрее. \n",
        "Не забываем, что функция `forward` вычисляется по прежнему для всех слоев."
      ]
    },
    {
      "cell_type": "code",
      "metadata": {
        "id": "kJ7HhehddAAH",
        "scrolled": true
      },
      "source": [
        "model_conv = train_model(model_conv, criterion, optimizer_conv,\n",
        "                         exp_lr_scheduler, num_epochs=10)"
      ],
      "execution_count": null,
      "outputs": []
    },
    {
      "cell_type": "code",
      "metadata": {
        "id": "6z1GezOOdAAI"
      },
      "source": [
        "visualize_model(model_conv)\n",
        "\n",
        "plt.ioff()\n",
        "plt.show()"
      ],
      "execution_count": null,
      "outputs": []
    }
  ]
}
