{
  "nbformat": 4,
  "nbformat_minor": 0,
  "metadata": {
    "accelerator": "GPU",
    "colab": {
      "name": "Копия блокнота \"REINFORCE.ipynb\"",
      "provenance": [],
      "collapsed_sections": [],
      "include_colab_link": true
    },
    "kernelspec": {
      "display_name": "Python 3",
      "language": "python",
      "name": "python3"
    },
    "language_info": {
      "codemirror_mode": {
        "name": "ipython",
        "version": 3
      },
      "file_extension": ".py",
      "mimetype": "text/x-python",
      "name": "python",
      "nbconvert_exporter": "python",
      "pygments_lexer": "ipython3",
      "version": "3.7.0"
    }
  },
  "cells": [
    {
      "cell_type": "markdown",
      "metadata": {
        "id": "view-in-github",
        "colab_type": "text"
      },
      "source": [
        "<a href=\"https://colab.research.google.com/github/nikitaoltyan/ML-Homework/blob/main/Assignment8/Reinforce.ipynb\" target=\"_parent\"><img src=\"https://colab.research.google.com/assets/colab-badge.svg\" alt=\"Open In Colab\"/></a>"
      ]
    },
    {
      "cell_type": "markdown",
      "metadata": {
        "id": "AbwmoJusmueU"
      },
      "source": [
        "# Reinforcement Learning"
      ]
    },
    {
      "cell_type": "markdown",
      "metadata": {
        "id": "7xcuGNp-mueX"
      },
      "source": [
        "В этом задании постараемся разобраться в проблеме обучения с подкреплением, реализуем алгоритм REINFORCE и научим агента с помощью этого алгоритма играть в игру Cartpole."
      ]
    },
    {
      "cell_type": "markdown",
      "metadata": {
        "id": "4HoHMD_GmueZ"
      },
      "source": [
        "Установим и импортируем необходимые библиотеки, а также вспомогательные функции для визуализации игры агента."
      ]
    },
    {
      "cell_type": "code",
      "metadata": {
        "id": "kHKfskxa7kaI"
      },
      "source": [
        "!apt-get update > /dev/null \n",
        "!pip install gym pandas torch matplotlib pyvirtualdisplay > /dev/null 2>&1\n",
        "!apt-get install -y xvfb python-opengl ffmpeg x11-utils > /dev/null 2>&1"
      ],
      "execution_count": 2,
      "outputs": []
    },
    {
      "cell_type": "code",
      "metadata": {
        "id": "WiX0JVM3z0Ru"
      },
      "source": [
        "from IPython.display import clear_output, HTML\n",
        "from IPython import display as ipythondisplay\n",
        "import matplotlib.pyplot as plt\n",
        "%matplotlib inline"
      ],
      "execution_count": 3,
      "outputs": []
    },
    {
      "cell_type": "code",
      "metadata": {
        "id": "IsjSHknYl1rj"
      },
      "source": [
        "import numpy as np\n",
        "import glob\n",
        "import time\n",
        "import io\n",
        "import base64\n",
        "import gym\n",
        "from gym.wrappers import Monitor\n",
        "import torch\n",
        "import collections\n",
        "import pandas as pd\n",
        "from torch import nn\n",
        "from torch.optim import Adam\n",
        "from torch.distributions import Categorical"
      ],
      "execution_count": 4,
      "outputs": []
    },
    {
      "cell_type": "code",
      "metadata": {
        "colab": {
          "base_uri": "https://localhost:8080/"
        },
        "id": "b5KfVGq1n_8s",
        "outputId": "47550e4b-3912-4528-b2a7-ba7494439508"
      },
      "source": [
        "from pyvirtualdisplay import Display\n",
        "display = Display(visible=0, size=(1400, 900))\n",
        "display.start()"
      ],
      "execution_count": 5,
      "outputs": [
        {
          "output_type": "execute_result",
          "data": {
            "text/plain": [
              "<pyvirtualdisplay.display.Display at 0x7f891c584750>"
            ]
          },
          "metadata": {
            "tags": []
          },
          "execution_count": 5
        }
      ]
    },
    {
      "cell_type": "code",
      "metadata": {
        "id": "4xGh4QxDnlFw"
      },
      "source": [
        "\"\"\"\n",
        "Utility functions to enable video recording of gym environment and displaying it\n",
        "To enable video, just do \"env = wrap_env(env)\"\"\n",
        "\"\"\"\n",
        "\n",
        "def show_video():\n",
        "    mp4list = glob.glob('video/*.mp4')\n",
        "    if len(mp4list) > 0:\n",
        "        mp4 = mp4list[0]\n",
        "        video = io.open(mp4, 'r+b').read()\n",
        "        encoded = base64.b64encode(video)\n",
        "        ipythondisplay.display(HTML(data='''<video alt=\"test\" autoplay \n",
        "                loop controls style=\"height: 400px;\">\n",
        "                <source src=\"data:video/mp4;base64,{0}\" type=\"video/mp4\" />\n",
        "             </video>'''.format(encoded.decode('ascii'))))\n",
        "    else: \n",
        "        print(\"Could not find video\")\n",
        "    \n",
        "\n",
        "def wrap_env(env):\n",
        "    env = Monitor(env, './video', force=True)\n",
        "    return env"
      ],
      "execution_count": 6,
      "outputs": []
    },
    {
      "cell_type": "code",
      "metadata": {
        "id": "Dfi89tXjmuet"
      },
      "source": [
        "device = torch.device('cuda:0' if torch.cuda.is_available() else 'cpu') #позволяет перенести тензор на GPU, если он доступен в системе"
      ],
      "execution_count": 7,
      "outputs": []
    },
    {
      "cell_type": "markdown",
      "metadata": {
        "id": "AhDVTPxymuez"
      },
      "source": [
        "## OpenAI Gym"
      ]
    },
    {
      "cell_type": "markdown",
      "metadata": {
        "id": "VZb-IIq4muez"
      },
      "source": [
        "[OpenAI Gym](https://gym.openai.com) это набор сред для разработки и сравнения алгоритмов обучения с подкреплением."
      ]
    },
    {
      "cell_type": "markdown",
      "metadata": {
        "id": "fFkuRjxNmue2"
      },
      "source": [
        "OpenAI Gym предоставляет простой и универсальный API ко многим средам с разными свойствами, как простым так и сложным:\n",
        "* Классические задачи управления и игрушечные примеры, которые можно найти в учебниках и на которых демонстрируется работа алгоритмов обучения с подкреплением (одна из этих сред используется в этом задании)\n",
        "* Игры Atari (оказали огромное влияние на достижения в обучении с подкреплением в последние годы)\n",
        "* 2D и 3D среды для контроля роботов в симуляции (используют проприетарный движок [Mojuco](http://www.mujoco.org))"
      ]
    },
    {
      "cell_type": "markdown",
      "metadata": {
        "id": "NIu0Uhj7mue5"
      },
      "source": [
        "Рассмотрим, как устроена среда [CartPole-v0](https://gym.openai.com/envs/CartPole-v0), с которой мы будем работать."
      ]
    },
    {
      "cell_type": "markdown",
      "metadata": {
        "id": "KYHUeiMXmue6"
      },
      "source": [
        "Для этого создадим среду и выведем ее описание."
      ]
    },
    {
      "cell_type": "code",
      "metadata": {
        "colab": {
          "base_uri": "https://localhost:8080/"
        },
        "id": "b9BRqxoDmue7",
        "outputId": "7af067cc-a3c1-4ee8-a6fc-39525c94a66f"
      },
      "source": [
        "env = gym.make(\"CartPole-v0\")\n",
        "print(env.env.__doc__)"
      ],
      "execution_count": 8,
      "outputs": [
        {
          "output_type": "stream",
          "text": [
            "\n",
            "    Description:\n",
            "        A pole is attached by an un-actuated joint to a cart, which moves along\n",
            "        a frictionless track. The pendulum starts upright, and the goal is to\n",
            "        prevent it from falling over by increasing and reducing the cart's\n",
            "        velocity.\n",
            "\n",
            "    Source:\n",
            "        This environment corresponds to the version of the cart-pole problem\n",
            "        described by Barto, Sutton, and Anderson\n",
            "\n",
            "    Observation:\n",
            "        Type: Box(4)\n",
            "        Num     Observation               Min                     Max\n",
            "        0       Cart Position             -4.8                    4.8\n",
            "        1       Cart Velocity             -Inf                    Inf\n",
            "        2       Pole Angle                -0.418 rad (-24 deg)    0.418 rad (24 deg)\n",
            "        3       Pole Angular Velocity     -Inf                    Inf\n",
            "\n",
            "    Actions:\n",
            "        Type: Discrete(2)\n",
            "        Num   Action\n",
            "        0     Push cart to the left\n",
            "        1     Push cart to the right\n",
            "\n",
            "        Note: The amount the velocity that is reduced or increased is not\n",
            "        fixed; it depends on the angle the pole is pointing. This is because\n",
            "        the center of gravity of the pole increases the amount of energy needed\n",
            "        to move the cart underneath it\n",
            "\n",
            "    Reward:\n",
            "        Reward is 1 for every step taken, including the termination step\n",
            "\n",
            "    Starting State:\n",
            "        All observations are assigned a uniform random value in [-0.05..0.05]\n",
            "\n",
            "    Episode Termination:\n",
            "        Pole Angle is more than 12 degrees.\n",
            "        Cart Position is more than 2.4 (center of the cart reaches the edge of\n",
            "        the display).\n",
            "        Episode length is greater than 200.\n",
            "        Solved Requirements:\n",
            "        Considered solved when the average return is greater than or equal to\n",
            "        195.0 over 100 consecutive trials.\n",
            "    \n"
          ],
          "name": "stdout"
        }
      ]
    },
    {
      "cell_type": "markdown",
      "metadata": {
        "id": "tovAoT5dmufD"
      },
      "source": [
        "Из этого описания мы можем узнать, как устроены пространства состояний и действий в этой среды, какие награды получаются на каждом шаге, а также, что нам необходимо сделать, чтобы научиться \"решать\" эту среду, а именно достич средней награды больше 195.0 или больше за 100 последовательных запусков агента в этой среде. Именно такого агента мы и попробуем создать и обучить."
      ]
    },
    {
      "cell_type": "markdown",
      "metadata": {
        "id": "hZ98fYaxmufF"
      },
      "source": [
        "Но для начала напишем вспомогательную функцию, которая будет принимать на вход среду, агента и число эпизодов, и возвращать среднюю награду за 100 эпизодов. С помощью этой функции мы сможем протестировать, насколько хорошо обучился наш агент, а также визуализировать его поведение в среде."
      ]
    },
    {
      "cell_type": "code",
      "metadata": {
        "id": "0jXEOwd7njUm"
      },
      "source": [
        "def test_agent(env, agent=None, n_episodes=100):\n",
        "    \"\"\"Runs agent for n_episodes in environment and calclates mean reward.\n",
        "    \n",
        "    Args:\n",
        "        env: The environment for agent to play in\n",
        "        agent: The agent to play with. Defaults to None - \n",
        "            in this case random agent is used.\n",
        "        n_episodes: Number of episodes to play. Defaults to 100.\n",
        "\n",
        "    Returns:\n",
        "        Mean reward for 100 episodes.\n",
        "    \"\"\"\n",
        "    total_reward = []\n",
        "    for episode in range(n_episodes):\n",
        "        episode_reward = 0\n",
        "        observation = env.reset()\n",
        "        t = 0\n",
        "        while True:\n",
        "            if agent:\n",
        "                with torch.no_grad():\n",
        "                    probs = agent(torch.FloatTensor(observation).to(device))\n",
        "                    dist = Categorical(probs)\n",
        "                    action = dist.sample().item()\n",
        "            else:\n",
        "                action = env.action_space.sample()\n",
        "            observation, reward, done, info = env.step(action)\n",
        "            episode_reward += reward\n",
        "            t += 1\n",
        "            if done:\n",
        "                print(\"Episode {} finished after {} timesteps\".format(episode+1, t+1))\n",
        "                break\n",
        "        total_reward.append(episode_reward)\n",
        "        env.close()\n",
        "                   \n",
        "    return np.mean(total_reward)"
      ],
      "execution_count": 9,
      "outputs": []
    },
    {
      "cell_type": "markdown",
      "metadata": {
        "id": "TqnYqFVSmufL"
      },
      "source": [
        "Протестируем и визуализируем случайного агента (параметр ```agent=False```)."
      ]
    },
    {
      "cell_type": "code",
      "metadata": {
        "colab": {
          "base_uri": "https://localhost:8080/"
        },
        "id": "yqVokBDFmufM",
        "scrolled": true,
        "outputId": "3d8f95bc-a5cb-4249-9bff-0eeeac33dee6"
      },
      "source": [
        "test_agent(env, agent=False, n_episodes=100)"
      ],
      "execution_count": 10,
      "outputs": [
        {
          "output_type": "stream",
          "text": [
            "Episode 1 finished after 35 timesteps\n",
            "Episode 2 finished after 20 timesteps\n",
            "Episode 3 finished after 22 timesteps\n",
            "Episode 4 finished after 63 timesteps\n",
            "Episode 5 finished after 17 timesteps\n",
            "Episode 6 finished after 13 timesteps\n",
            "Episode 7 finished after 14 timesteps\n",
            "Episode 8 finished after 12 timesteps\n",
            "Episode 9 finished after 16 timesteps\n",
            "Episode 10 finished after 12 timesteps\n",
            "Episode 11 finished after 21 timesteps\n",
            "Episode 12 finished after 13 timesteps\n",
            "Episode 13 finished after 51 timesteps\n",
            "Episode 14 finished after 32 timesteps\n",
            "Episode 15 finished after 25 timesteps\n",
            "Episode 16 finished after 37 timesteps\n",
            "Episode 17 finished after 42 timesteps\n",
            "Episode 18 finished after 11 timesteps\n",
            "Episode 19 finished after 30 timesteps\n",
            "Episode 20 finished after 16 timesteps\n",
            "Episode 21 finished after 11 timesteps\n",
            "Episode 22 finished after 13 timesteps\n",
            "Episode 23 finished after 15 timesteps\n",
            "Episode 24 finished after 33 timesteps\n",
            "Episode 25 finished after 21 timesteps\n",
            "Episode 26 finished after 21 timesteps\n",
            "Episode 27 finished after 31 timesteps\n",
            "Episode 28 finished after 15 timesteps\n",
            "Episode 29 finished after 23 timesteps\n",
            "Episode 30 finished after 15 timesteps\n",
            "Episode 31 finished after 22 timesteps\n",
            "Episode 32 finished after 15 timesteps\n",
            "Episode 33 finished after 12 timesteps\n",
            "Episode 34 finished after 13 timesteps\n",
            "Episode 35 finished after 26 timesteps\n",
            "Episode 36 finished after 28 timesteps\n",
            "Episode 37 finished after 13 timesteps\n",
            "Episode 38 finished after 14 timesteps\n",
            "Episode 39 finished after 18 timesteps\n",
            "Episode 40 finished after 13 timesteps\n",
            "Episode 41 finished after 13 timesteps\n",
            "Episode 42 finished after 23 timesteps\n",
            "Episode 43 finished after 18 timesteps\n",
            "Episode 44 finished after 18 timesteps\n",
            "Episode 45 finished after 19 timesteps\n",
            "Episode 46 finished after 24 timesteps\n",
            "Episode 47 finished after 25 timesteps\n",
            "Episode 48 finished after 14 timesteps\n",
            "Episode 49 finished after 23 timesteps\n",
            "Episode 50 finished after 18 timesteps\n",
            "Episode 51 finished after 26 timesteps\n",
            "Episode 52 finished after 14 timesteps\n",
            "Episode 53 finished after 17 timesteps\n",
            "Episode 54 finished after 13 timesteps\n",
            "Episode 55 finished after 17 timesteps\n",
            "Episode 56 finished after 31 timesteps\n",
            "Episode 57 finished after 35 timesteps\n",
            "Episode 58 finished after 13 timesteps\n",
            "Episode 59 finished after 14 timesteps\n",
            "Episode 60 finished after 20 timesteps\n",
            "Episode 61 finished after 43 timesteps\n",
            "Episode 62 finished after 32 timesteps\n",
            "Episode 63 finished after 37 timesteps\n",
            "Episode 64 finished after 30 timesteps\n",
            "Episode 65 finished after 32 timesteps\n",
            "Episode 66 finished after 14 timesteps\n",
            "Episode 67 finished after 39 timesteps\n",
            "Episode 68 finished after 13 timesteps\n",
            "Episode 69 finished after 15 timesteps\n",
            "Episode 70 finished after 18 timesteps\n",
            "Episode 71 finished after 24 timesteps\n",
            "Episode 72 finished after 17 timesteps\n",
            "Episode 73 finished after 51 timesteps\n",
            "Episode 74 finished after 12 timesteps\n",
            "Episode 75 finished after 33 timesteps\n",
            "Episode 76 finished after 19 timesteps\n",
            "Episode 77 finished after 24 timesteps\n",
            "Episode 78 finished after 22 timesteps\n",
            "Episode 79 finished after 15 timesteps\n",
            "Episode 80 finished after 19 timesteps\n",
            "Episode 81 finished after 17 timesteps\n",
            "Episode 82 finished after 37 timesteps\n",
            "Episode 83 finished after 24 timesteps\n",
            "Episode 84 finished after 29 timesteps\n",
            "Episode 85 finished after 17 timesteps\n",
            "Episode 86 finished after 20 timesteps\n",
            "Episode 87 finished after 18 timesteps\n",
            "Episode 88 finished after 12 timesteps\n",
            "Episode 89 finished after 48 timesteps\n",
            "Episode 90 finished after 23 timesteps\n",
            "Episode 91 finished after 24 timesteps\n",
            "Episode 92 finished after 34 timesteps\n",
            "Episode 93 finished after 23 timesteps\n",
            "Episode 94 finished after 48 timesteps\n",
            "Episode 95 finished after 11 timesteps\n",
            "Episode 96 finished after 27 timesteps\n",
            "Episode 97 finished after 14 timesteps\n",
            "Episode 98 finished after 28 timesteps\n",
            "Episode 99 finished after 24 timesteps\n",
            "Episode 100 finished after 27 timesteps\n"
          ],
          "name": "stdout"
        },
        {
          "output_type": "execute_result",
          "data": {
            "text/plain": [
              "21.83"
            ]
          },
          "metadata": {
            "tags": []
          },
          "execution_count": 10
        }
      ]
    },
    {
      "cell_type": "markdown",
      "metadata": {
        "id": "8bzNtyllmufS"
      },
      "source": [
        "Как видно, наш случайный агент выступает не очень хорошо и в среднем может удержать шест всего около 20 шагов."
      ]
    },
    {
      "cell_type": "markdown",
      "metadata": {
        "id": "BNcZLQpzmufU"
      },
      "source": [
        "Напишем функцию для визуализации агента и посмотрим на случайного агента."
      ]
    },
    {
      "cell_type": "code",
      "metadata": {
        "id": "GgThoRPgoMcs"
      },
      "source": [
        "\n",
        "def agent_viz(env=\"CartPole-v0\", agent=None):\n",
        "    \"\"\"Visualizes agent play in the given environment.\n",
        "    \n",
        "    Args:\n",
        "        env: The environment for agent to play in. Defaults to CartPole-v0.\n",
        "        agent: The agent to play with. Defaults to None - \n",
        "            in this case random agent is used.\n",
        "\n",
        "    Returns:\n",
        "        Nothing is returned. Visualization is created and can be showed\n",
        "            with show_video() function.\n",
        "    \"\"\"\n",
        "    env = wrap_env(gym.make(env))\n",
        "    observation = env.reset()\n",
        "    while True:\n",
        "        env.render() \n",
        "        if agent:\n",
        "            with torch.no_grad():\n",
        "                probs = agent(torch.FloatTensor(observation).to(device))\n",
        "                dist = Categorical(probs)\n",
        "                action = dist.sample().item()\n",
        "        else:\n",
        "            action = env.action_space.sample()\n",
        "        observation, reward, done, info = env.step(action)\n",
        "        if done:\n",
        "            break\n",
        "            \n",
        "    env.close()"
      ],
      "execution_count": 11,
      "outputs": []
    },
    {
      "cell_type": "code",
      "metadata": {
        "colab": {
          "base_uri": "https://localhost:8080/",
          "height": 442
        },
        "id": "b5FLllE_pHSf",
        "outputId": "12074522-4369-4678-df08-88e494fdf48f"
      },
      "source": [
        "agent_viz()\n",
        "show_video()"
      ],
      "execution_count": 12,
      "outputs": [
        {
          "output_type": "display_data",
          "data": {
            "text/html": [
              "<video alt=\"test\" autoplay \n",
              "                loop controls style=\"height: 400px;\">\n",
              "                <source src=\"data:video/mp4;base64,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\" type=\"video/mp4\" />\n",
              "             </video>"
            ],
            "text/plain": [
              "<IPython.core.display.HTML object>"
            ]
          },
          "metadata": {
            "tags": []
          }
        }
      ]
    },
    {
      "cell_type": "markdown",
      "metadata": {
        "id": "hpQF0xgJmufW"
      },
      "source": [
        "Попробуем применить обучение с подкреплением и алгоритм REINFORCE для того, чтобы в среднем за 100 эпиздов мы держали шест не менее 195 шагов."
      ]
    },
    {
      "cell_type": "markdown",
      "metadata": {
        "id": "M2SkO__WmufX"
      },
      "source": [
        "## REINFORCE"
      ]
    },
    {
      "cell_type": "markdown",
      "metadata": {
        "id": "QW95huRpmufY"
      },
      "source": [
        "Вспомним, что из себя представляет алгоритм REINFORCE (Sutton & Barto) <img src=\"//i.imgur.com/bnASTrY.png\" width=\"700\">"
      ]
    },
    {
      "cell_type": "markdown",
      "metadata": {
        "id": "CFD7oH9mmufZ"
      },
      "source": [
        "1. Инициализуем политику (в качестве политики мы будем использовать глубокую нейронную сеть).\n",
        "2. \"Играем\" в среде эпизод, используя нашу политику, или несколько (мы будем использовать последний вариант) и собираем данные о состояниях, действиях и полученных наградах. \n",
        "3. Для каждого состояния в собранных эпизодах вычисляем сумму дисконтированных наград, полученных из этого состояния, а также логорифм правдоподобия предпринятого действия в этом состоянии для нашей политики.\n",
        "4. Обновляем параметры нашей политики по формуле на схеме."
      ]
    },
    {
      "cell_type": "markdown",
      "metadata": {
        "id": "Zjhox1Rdmufa"
      },
      "source": [
        "### Политика"
      ]
    },
    {
      "cell_type": "markdown",
      "metadata": {
        "id": "v5KOdiJrmufb"
      },
      "source": [
        "Наша политика должна принимать на вход состояние среды, а на выходе выдавать распределение по действиям, которые мы можем осуществлять в среде.\n",
        "\n",
        "**Задание:** Создать класс нейронной сети со следующей архитектурой ```Linear -> ReLU -> Linear -> Softmax```. Параметрами инициализации должны служить размерности пространства состояний, пространства действий и размер скрытого слоя."
      ]
    },
    {
      "cell_type": "code",
      "metadata": {
        "id": "BSbzinGQidFm"
      },
      "source": [
        "class Policy(nn.Module):\n",
        "    \"\"\"Policy to be used by agent.\n",
        "\n",
        "    Attributes:\n",
        "        state_size: Dimention of the state space of the environment.\n",
        "        act_size: Dimention of the action space of the environment.\n",
        "        hidden_size: Dimention of the hidden state of the agent's policy.\n",
        "    \"\"\"\n",
        "    \n",
        "    # TO DO\n",
        "\n",
        "    def __init__(self, state_size, act_size, hidden_size):\n",
        "        super(Policy, self).__init__()\n",
        "        self.layers = nn.Sequential(\n",
        "            nn.Linear(in_features=state_size, out_features=hidden_size),\n",
        "            nn.ReLU(),\n",
        "            nn.Linear(in_features=hidden_size, out_features=act_size),\n",
        "            nn.Softmax(dim=0)\n",
        "        )\n",
        "\n",
        "    def forward(self, X):\n",
        "        return self.layers(X)"
      ],
      "execution_count": 13,
      "outputs": []
    },
    {
      "cell_type": "markdown",
      "metadata": {
        "id": "E0bYNhJ_mufh"
      },
      "source": [
        "### Оценка правдоподобия и расчет суммы дисконтированных наград"
      ]
    },
    {
      "cell_type": "markdown",
      "metadata": {
        "id": "QMZIoW8pmufi"
      },
      "source": [
        "**Задание:** Напишем вспомогательная функцию, которая принимает на вход политику, батч траекторий и фактор дисконтирования, и должна вернуть следующие величины: \n",
        "* правдоподобие действия на каждом шаге на траектории посчитанные для всего батча;\n",
        "* дисконтированные суммы наград (reward-to-go) из каждого состояния среды на траектории посчитанные для всего батча;"
      ]
    },
    {
      "cell_type": "markdown",
      "metadata": {
        "id": "rcs_Xi-jmufl"
      },
      "source": [
        "**Hint**: Представим батч траекторий как ```list```, в котром также хранится ```list``` для каждой траектории, в котором каждый шаг хранится, как ```namedtuple```:\n",
        "```transition = collections.namedtuple(\"transition\", [\"state\", \"action\", \"reward\"])```"
      ]
    },
    {
      "cell_type": "code",
      "metadata": {
        "id": "eGHfushNmufl"
      },
      "source": [
        "def process_traj_batch(policy, batch, discount):\n",
        "    \"\"\"Computes log probabilities for each action \n",
        "        and rewards-to-go for each state in the batch of trajectories.\n",
        "    \n",
        "    Args:\n",
        "        policy: Policy of the agent.\n",
        "        batch (list of list of collections.namedtuple): Batch of trajectories.\n",
        "        discount (float): Discount factor for rewards-to-go calculation.\n",
        "\n",
        "    Returns:\n",
        "        log_probs (list of torch.FloatTensor): List of log probabilities for\n",
        "            each action in the batch of trajectories.\n",
        "        returns (list of rewards-to-go): List of rewards-to-go for \n",
        "            each state in the batch of trajectories.\n",
        "    \"\"\"\n",
        "    \n",
        "    # TO DO\n",
        "    log_probs = []\n",
        "    returns = []\n",
        "    policy.to(device)\n",
        "\n",
        "    for item in batch:\n",
        "        rewards = []\n",
        "        accumulated = 0.0\n",
        "        for game in item:\n",
        "            probs = policy.forward(game.state.to(device))\n",
        "            accumulated += torch.log(probs[game.action])\n",
        "            rewards.append(game.reward)\n",
        "\n",
        "        reward_sum = 0.0\n",
        "        for game in range(len(item)):\n",
        "            reward_sum += sum([r*(discount**i) for i, r in enumerate(rewards[game:])])\n",
        "\n",
        "\n",
        "        log_probs.append(accumulated)\n",
        "        returns.append(reward_sum)\n",
        "    \n",
        "    return log_probs, returns"
      ],
      "execution_count": 14,
      "outputs": []
    },
    {
      "cell_type": "markdown",
      "metadata": {
        "id": "mp6xKRWXmufp"
      },
      "source": [
        "Ваша реализация функции должна проходить следующий тест."
      ]
    },
    {
      "cell_type": "code",
      "metadata": {
        "id": "qVJnolh-mufq"
      },
      "source": [
        "def test_process_traj_batch(process_traj_batch):\n",
        "    \n",
        "    transition = collections.namedtuple(\"transition\", [\"state\", \"action\", \"reward\"])\n",
        "    \n",
        "    class HelperPolicy(nn.Module):\n",
        "        def __init__(self):\n",
        "            super(HelperPolicy, self).__init__()\n",
        "        \n",
        "            self.act = nn.Sequential(\n",
        "                nn.Linear(4, 2),\n",
        "                nn.Softmax(dim=0),\n",
        "            )\n",
        "        \n",
        "        def forward(self, x):\n",
        "            return self.act(x)\n",
        "        \n",
        "    policy = HelperPolicy()\n",
        "    \n",
        "    for name, param in policy.named_parameters():\n",
        "        if name == \"act.0.weight\":\n",
        "            param.data = torch.tensor([[1.7492, -0.2471, 0.3310, 1.1494],\n",
        "                                       [0.6171, -0.6026, 0.5025, -0.3196]])\n",
        "        else:\n",
        "            param.data = torch.tensor([0.0262, 0.1882])\n",
        "            \n",
        "    batch = [\n",
        "        [\n",
        "            transition(state=torch.tensor([ 0.0462, -0.0018,  0.0372,  0.0063]), action=torch.tensor(0), reward=1.0), \n",
        "            transition(state=torch.tensor([ 0.0462, -0.1975,  0.0373,  0.3105]), action=torch.tensor(1), reward=1.0), \n",
        "            transition(state=torch.tensor([ 0.0422, -0.0029,  0.0435,  0.0298]), action=torch.tensor(0), reward=1.0), \n",
        "            transition(state=torch.tensor([ 0.0422, -0.1986,  0.0441,  0.3359]), action=torch.tensor(0), reward=1.0), \n",
        "        ],\n",
        "        [\n",
        "            transition(state=torch.tensor([ 0.0382, -0.3943,  0.0508,  0.6421]), action=torch.tensor(1), reward=1.0), \n",
        "            transition(state=torch.tensor([ 0.0303, -0.2000,  0.0637,  0.3659]), action=torch.tensor(1), reward=1.0), \n",
        "            transition(state=torch.tensor([ 0.0263, -0.0058,  0.0710,  0.0939]), action=torch.tensor(1), reward=1.0), \n",
        "            transition(state=torch.tensor([ 0.0262,  0.1882,  0.0729, -0.1755]), action=torch.tensor(0), reward=1.0)\n",
        "        ]\n",
        "    ]\n",
        "    \n",
        "    log_probs, returns = process_traj_batch(policy, batch, 0.9)\n",
        "    assert sum(log_probs).item() == -6.3940582275390625, \"Log probabilities calculation is incorrect!!!\"\n",
        "    assert sum(returns) == 18.098, \"Log probabilities calculation is incorrect!!!\"\n",
        "    print(\"Correct!\")"
      ],
      "execution_count": 15,
      "outputs": []
    },
    {
      "cell_type": "code",
      "metadata": {
        "id": "_qKrJpyBmufu",
        "colab": {
          "base_uri": "https://localhost:8080/"
        },
        "outputId": "1509c1d0-2795-444c-dac4-e5006bb6155a"
      },
      "source": [
        "test_process_traj_batch(process_traj_batch)"
      ],
      "execution_count": 16,
      "outputs": [
        {
          "output_type": "stream",
          "text": [
            "Correct!\n"
          ],
          "name": "stdout"
        }
      ]
    },
    {
      "cell_type": "markdown",
      "metadata": {
        "id": "7_y4MJPxmufz"
      },
      "source": [
        "### Вспомогательные функции и гиперпараметры"
      ]
    },
    {
      "cell_type": "markdown",
      "metadata": {
        "id": "PKF5itlpmuf0"
      },
      "source": [
        "Функция для расчета скользящего среднего - ее мы будем использовать для визуализации наград по эпизодам."
      ]
    },
    {
      "cell_type": "code",
      "metadata": {
        "id": "tHgXs9aPmuf2"
      },
      "source": [
        "moving_average = lambda x, **kw: pd.DataFrame({'x':np.asarray(x)}).x.ewm(**kw).mean().values"
      ],
      "execution_count": 17,
      "outputs": []
    },
    {
      "cell_type": "markdown",
      "metadata": {
        "id": "P3oqmQmxmuf6"
      },
      "source": [
        "Определим также гиперпараметры."
      ]
    },
    {
      "cell_type": "code",
      "metadata": {
        "id": "cFSLjGjOms0m"
      },
      "source": [
        "STATE_SIZE  = env.observation_space.shape[0] # размерность пространства состояний среды\n",
        "ACT_SIZE = env.action_space.n # размерность пространства действий среды\n",
        "HIDDEN_SIZE = 300 # размер скрытого слоя для политики\n",
        "NUM_EPISODES = 1000 # количество эпиздов, которые будут сыграны для обучения\n",
        "DISCOUNT = 0.99 # фактор дисконтирования\n",
        "TRAIN_EVERY = 20"
      ],
      "execution_count": 18,
      "outputs": []
    },
    {
      "cell_type": "markdown",
      "metadata": {
        "id": "d1RZfo_1muf-"
      },
      "source": [
        "Инициализуем политику и алгоритм оптимизации - мы будем использовать Adam c праметрами по умолчанию."
      ]
    },
    {
      "cell_type": "code",
      "metadata": {
        "id": "zEKqg4Ykmuf_"
      },
      "source": [
        "policy = Policy(STATE_SIZE, ACT_SIZE, HIDDEN_SIZE).to(device)\n",
        "optimizer = Adam(policy.parameters())"
      ],
      "execution_count": 19,
      "outputs": []
    },
    {
      "cell_type": "code",
      "metadata": {
        "id": "EIbRMh3MmugC"
      },
      "source": [
        "transition = collections.namedtuple(\"transition\", [\"state\", \"action\", \"reward\"])"
      ],
      "execution_count": 20,
      "outputs": []
    },
    {
      "cell_type": "markdown",
      "metadata": {
        "id": "jRRCJTnimugE"
      },
      "source": [
        "### Основной цикл обучения"
      ]
    },
    {
      "cell_type": "markdown",
      "metadata": {
        "id": "FcQ4-JMymugE"
      },
      "source": [
        "Теперь, когда мы опредлели вспомогательные функции, то нам следует написать основной цикл обучения агент.\n",
        "В цикле должно происходить следующее:"
      ]
    },
    {
      "cell_type": "markdown",
      "metadata": {
        "id": "1wih2vIYmugG"
      },
      "source": [
        "1. Играем количество эпизодов, определенное в гиперпараметре ```NUM_EPISODES```.\n",
        "2. В каждом эпизоде сохраняем информацию о шагах на траектории - состояние, действие и награду.\n",
        "3. В конце каждого эпизода сохраняем вышеуказанную информацию о траектории. \n",
        "4. Периодически обучаемся на собранных эпизодах каждые ```TRAIN_EVERY``` эпизодов:  \n",
        "    4.1. Считаем для собранного батча для каждого шага на трактории правдоподобие и сумму дисконтированных наград.  \n",
        "    4.2. Обновляем параметры политики агента по формуле, приведенной на схеме."
      ]
    },
    {
      "cell_type": "markdown",
      "metadata": {
        "id": "gb1eIuJqmugI"
      },
      "source": [
        "**Задание:** Реализовать алгоритм обучения, описанный на схеме и в тексте выше. Шаблон кода алгоритма представлен ниже. При этом следует сохранять сумму ревордов для каждого эпизода в переменную ```returns_history```. Алгоритму потребуется около 1000 эпизодов игры, для того чтобы научиться играть в игру (если после 1000 эпизодов агент играет немного хуже, чем для победы в игре, попробуйте обучать его немного дольше или установите критерий останова - когда средняя награда за 100 последних эпизодов превышает значение в ```env.spec.reward_threshold``` )"
      ]
    },
    {
      "cell_type": "code",
      "metadata": {
        "id": "cvEwjezan5tl",
        "colab": {
          "base_uri": "https://localhost:8080/",
          "height": 410
        },
        "outputId": "319e2d9e-7ec3-4f54-9d99-6ae0be1ebf7f"
      },
      "source": [
        "returns_history = []\n",
        "traj_batch = []\n",
        "\n",
        "for i in range(NUM_EPISODES):\n",
        "        \n",
        "    # TO DO\n",
        "    t = 0\n",
        "    rewards = 0\n",
        "    traj = []\n",
        "\n",
        "    reward = 1\n",
        "    observation = env.reset()\n",
        "\n",
        "    while True:\n",
        "        policy_input = torch.FloatTensor(observation).to(device)\n",
        "        probs = policy.forward(policy_input)\n",
        "        dist = Categorical(probs)\n",
        "        action = dist.sample().item()\n",
        "\n",
        "        rewards += reward\n",
        "        traj.append(\n",
        "            transition(state=torch.FloatTensor(list(observation)).to(device),\n",
        "                       action=torch.tensor(action).to(device),\n",
        "                       reward=reward)\n",
        "        )\n",
        "        t += 1\n",
        "\n",
        "        observation, reward, done, info = env.step(action)\n",
        "        if done:\n",
        "            print(f\"Episode {i} finish after {t} timestaps with {rewards} score\")\n",
        "            break\n",
        "    \n",
        "\n",
        "        \n",
        "    returns_history.append(rewards)\n",
        "            \n",
        "    traj_batch.append(traj)\n",
        "    \n",
        "    if i % TRAIN_EVERY:\n",
        "        log_probs, returns = process_traj_batch(policy, traj_batch, DISCOUNT)\n",
        "        loss = -(torch.stack(log_probs) * torch.FloatTensor(returns).to(device)).sum()\n",
        "        optimizer.zero_grad()\n",
        "        loss.backward()\n",
        "        optimizer.step()\n",
        "        \n",
        "        traj_batch = []\n",
        "\n",
        "    if i % 10:\n",
        "        clear_output(True)\n",
        "        plt.figure(figsize=[12, 6])\n",
        "        plt.title('Returns'); plt.grid()\n",
        "        plt.scatter(np.arange(len(returns_history)), returns_history, alpha=0.1)\n",
        "        plt.plot(moving_average(returns_history, span=10, min_periods=10))\n",
        "        plt.show()"
      ],
      "execution_count": 21,
      "outputs": [
        {
          "output_type": "display_data",
          "data": {
            "image/png": "[encoded data removed]",
            "text/plain": [
              "<Figure size 864x432 with 1 Axes>"
            ]
          },
          "metadata": {
            "tags": [],
            "needs_background": "light"
          }
        }
      ]
    },
    {
      "cell_type": "markdown",
      "metadata": {
        "id": "Be9Zh-MamugN"
      },
      "source": [
        "Протестируем обученного агента."
      ]
    },
    {
      "cell_type": "code",
      "metadata": {
        "id": "-ry9g_aBmugO",
        "colab": {
          "base_uri": "https://localhost:8080/"
        },
        "outputId": "6ac6e0b7-dd03-4275-c101-006c5d951f62"
      },
      "source": [
        "test_agent(env, agent=policy, n_episodes=100)"
      ],
      "execution_count": 22,
      "outputs": [
        {
          "output_type": "stream",
          "text": [
            "Episode 1 finished after 201 timesteps\n",
            "Episode 2 finished after 201 timesteps\n",
            "Episode 3 finished after 201 timesteps\n",
            "Episode 4 finished after 201 timesteps\n",
            "Episode 5 finished after 201 timesteps\n",
            "Episode 6 finished after 201 timesteps\n",
            "Episode 7 finished after 201 timesteps\n",
            "Episode 8 finished after 201 timesteps\n",
            "Episode 9 finished after 201 timesteps\n",
            "Episode 10 finished after 201 timesteps\n",
            "Episode 11 finished after 201 timesteps\n",
            "Episode 12 finished after 201 timesteps\n",
            "Episode 13 finished after 201 timesteps\n",
            "Episode 14 finished after 201 timesteps\n",
            "Episode 15 finished after 201 timesteps\n",
            "Episode 16 finished after 201 timesteps\n",
            "Episode 17 finished after 201 timesteps\n",
            "Episode 18 finished after 201 timesteps\n",
            "Episode 19 finished after 201 timesteps\n",
            "Episode 20 finished after 201 timesteps\n",
            "Episode 21 finished after 201 timesteps\n",
            "Episode 22 finished after 201 timesteps\n",
            "Episode 23 finished after 201 timesteps\n",
            "Episode 24 finished after 201 timesteps\n",
            "Episode 25 finished after 201 timesteps\n",
            "Episode 26 finished after 201 timesteps\n",
            "Episode 27 finished after 201 timesteps\n",
            "Episode 28 finished after 201 timesteps\n",
            "Episode 29 finished after 201 timesteps\n",
            "Episode 30 finished after 201 timesteps\n",
            "Episode 31 finished after 201 timesteps\n",
            "Episode 32 finished after 201 timesteps\n",
            "Episode 33 finished after 201 timesteps\n",
            "Episode 34 finished after 134 timesteps\n",
            "Episode 35 finished after 201 timesteps\n",
            "Episode 36 finished after 201 timesteps\n",
            "Episode 37 finished after 201 timesteps\n",
            "Episode 38 finished after 201 timesteps\n",
            "Episode 39 finished after 201 timesteps\n",
            "Episode 40 finished after 201 timesteps\n",
            "Episode 41 finished after 201 timesteps\n",
            "Episode 42 finished after 201 timesteps\n",
            "Episode 43 finished after 201 timesteps\n",
            "Episode 44 finished after 201 timesteps\n",
            "Episode 45 finished after 201 timesteps\n",
            "Episode 46 finished after 201 timesteps\n",
            "Episode 47 finished after 201 timesteps\n",
            "Episode 48 finished after 201 timesteps\n",
            "Episode 49 finished after 150 timesteps\n",
            "Episode 50 finished after 201 timesteps\n",
            "Episode 51 finished after 201 timesteps\n",
            "Episode 52 finished after 201 timesteps\n",
            "Episode 53 finished after 165 timesteps\n",
            "Episode 54 finished after 201 timesteps\n",
            "Episode 55 finished after 201 timesteps\n",
            "Episode 56 finished after 201 timesteps\n",
            "Episode 57 finished after 201 timesteps\n",
            "Episode 58 finished after 201 timesteps\n",
            "Episode 59 finished after 201 timesteps\n",
            "Episode 60 finished after 201 timesteps\n",
            "Episode 61 finished after 201 timesteps\n",
            "Episode 62 finished after 201 timesteps\n",
            "Episode 63 finished after 201 timesteps\n",
            "Episode 64 finished after 201 timesteps\n",
            "Episode 65 finished after 201 timesteps\n",
            "Episode 66 finished after 201 timesteps\n",
            "Episode 67 finished after 201 timesteps\n",
            "Episode 68 finished after 201 timesteps\n",
            "Episode 69 finished after 201 timesteps\n",
            "Episode 70 finished after 201 timesteps\n",
            "Episode 71 finished after 201 timesteps\n",
            "Episode 72 finished after 201 timesteps\n",
            "Episode 73 finished after 201 timesteps\n",
            "Episode 74 finished after 201 timesteps\n",
            "Episode 75 finished after 201 timesteps\n",
            "Episode 76 finished after 201 timesteps\n",
            "Episode 77 finished after 201 timesteps\n",
            "Episode 78 finished after 201 timesteps\n",
            "Episode 79 finished after 201 timesteps\n",
            "Episode 80 finished after 201 timesteps\n",
            "Episode 81 finished after 201 timesteps\n",
            "Episode 82 finished after 201 timesteps\n",
            "Episode 83 finished after 201 timesteps\n",
            "Episode 84 finished after 201 timesteps\n",
            "Episode 85 finished after 201 timesteps\n",
            "Episode 86 finished after 201 timesteps\n",
            "Episode 87 finished after 201 timesteps\n",
            "Episode 88 finished after 201 timesteps\n",
            "Episode 89 finished after 201 timesteps\n",
            "Episode 90 finished after 201 timesteps\n",
            "Episode 91 finished after 201 timesteps\n",
            "Episode 92 finished after 201 timesteps\n",
            "Episode 93 finished after 201 timesteps\n",
            "Episode 94 finished after 201 timesteps\n",
            "Episode 95 finished after 201 timesteps\n",
            "Episode 96 finished after 201 timesteps\n",
            "Episode 97 finished after 201 timesteps\n",
            "Episode 98 finished after 201 timesteps\n",
            "Episode 99 finished after 201 timesteps\n",
            "Episode 100 finished after 201 timesteps\n"
          ],
          "name": "stdout"
        },
        {
          "output_type": "execute_result",
          "data": {
            "text/plain": [
              "198.46"
            ]
          },
          "metadata": {
            "tags": []
          },
          "execution_count": 22
        }
      ]
    },
    {
      "cell_type": "markdown",
      "metadata": {
        "id": "rf18pOwCmugS"
      },
      "source": [
        "Обученный агент должен приближаться к искомому значению средней награды за 100 эпизодов 195."
      ]
    },
    {
      "cell_type": "markdown",
      "metadata": {
        "id": "Gk3bQdF_mugT"
      },
      "source": [
        "Визуализируем обученного агента."
      ]
    },
    {
      "cell_type": "code",
      "metadata": {
        "id": "c6QvXvwUsct6",
        "colab": {
          "base_uri": "https://localhost:8080/",
          "height": 442
        },
        "outputId": "d1922334-ee75-424a-eb62-a0114450ffd2"
      },
      "source": [
        "agent_viz(agent=policy)\n",
        "show_video()"
      ],
      "execution_count": 23,
      "outputs": [
        {
          "output_type": "display_data",
          "data": {
            "text/html": [
              "<video alt=\"test\" autoplay \n",
              "                loop controls style=\"height: 400px;\">\n",
              "                <source src=\"data:video/mp4;base64,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\" type=\"video/mp4\" />\n",
              "             </video>"
            ],
            "text/plain": [
              "<IPython.core.display.HTML object>"
            ]
          },
          "metadata": {
            "tags": []
          }
        }
      ]
    },
    {
      "cell_type": "markdown",
      "metadata": {
        "id": "YKkrymnnmugU"
      },
      "source": [
        "Как видно, агент выучил довольно хорошую стратегию для игры и способен долго удерживать шест."
      ]
    },
    {
      "cell_type": "markdown",
      "metadata": {
        "id": "NHxdzJsQmugV"
      },
      "source": [
        "### REINFORCE with baselines (Опционально)"
      ]
    },
    {
      "cell_type": "markdown",
      "metadata": {
        "id": "QM0DmpwlmugX"
      },
      "source": [
        "В лекциях вы слышали, что при расчете градиентов для обновления параметров политики агента мы можем вычесть из суммы дисконтированных наград ```baseline``` для уменьшения дисперсии градиентов и ускорения сходимости обучения - такой алгоритм называется REINFORCE with baselines. В качестве ```baseline``` мы можем использовать другую нейронную сеть, которая будет оценивать сумму дисконтированных наград из данного состояния *V(s)*. "
      ]
    },
    {
      "cell_type": "markdown",
      "metadata": {
        "id": "jImFlpefmugX"
      },
      "source": [
        "Схема алгоритма REINFORCE with baselines (Sutton & Barto) <img src=\"//i.imgur.com/j3BcbHP.png\" width=\"700\">"
      ]
    },
    {
      "cell_type": "markdown",
      "metadata": {
        "id": "ofDdKiKJmugY"
      },
      "source": [
        "**Задание**: Включите в уже разработанный алгоритм вторую нейронную сеть для оценки суммы дисконтированных наград *V(s)*. Используйте разницу между фактической суммой дисконтированных наград и оценкой в формуле функции потерь политики. В качестве функции потерь для *V(s)* используйте ```MSELoss```. Оцените скорость сходимости нового алгоритма."
      ]
    }
  ]
}