{
 "cells": [
  {
   "cell_type": "code",
   "execution_count": 1,
   "metadata": {},
   "outputs": [],
   "source": [
    "from PIL import Image \n",
    "import os\n",
    "import numpy as np"
   ]
  },
  {
   "cell_type": "code",
   "execution_count": 21,
   "metadata": {},
   "outputs": [
    {
     "data": {
      "text/plain": [
       "'/Users/nikitaoltyan/Университет/3_Course/ML/skyline_data/original_quality'"
      ]
     },
     "execution_count": 21,
     "metadata": {},
     "output_type": "execute_result"
    }
   ],
   "source": [
    "working_path = '/Users/nikitaoltyan/Университет/3_Course/ML/skyline_data/'\n",
    "original_images_path = 'original_quality/'\n",
    "poor_images_path = 'poor_quality/'\n",
    "os.chdir(working_path+original_images_path)\n",
    "os.getcwd()"
   ]
  },
  {
   "cell_type": "code",
   "execution_count": 16,
   "metadata": {},
   "outputs": [],
   "source": [
    "# Getting the count of original images\n",
    "def number_of_files_in_directory(path):\n",
    "    for _, _, files in os.walk(path):\n",
    "        return len(files)"
   ]
  },
  {
   "cell_type": "code",
   "execution_count": 17,
   "metadata": {},
   "outputs": [
    {
     "data": {
      "text/plain": [
       "108"
      ]
     },
     "execution_count": 17,
     "metadata": {},
     "output_type": "execute_result"
    }
   ],
   "source": [
    "total_files = number_of_files_in_directory(working_path+original_images_path)\n",
    "total_files"
   ]
  },
  {
   "cell_type": "code",
   "execution_count": 19,
   "metadata": {
    "scrolled": true
   },
   "outputs": [],
   "source": [
    "# Making poor verions of photos with good quality. Making sure that images have the right size.\n",
    "size = 4032, 3024\n",
    "for file_number in range (total_files-1):\n",
    "    file_path = working_path + original_images_path + str(file_number) + \".JPG\"\n",
    "    image = Image.open(file_path)\n",
    "    new_image= image.resize(size, Image.ANTIALIAS)\n",
    "    \n",
    "    save_path = working_path + poor_images_path + str(file_number) + \".JPG\" \n",
    "    new_image.save(save_path, optimize=True, quality=20)"
   ]
  },
  {
   "cell_type": "code",
   "execution_count": 24,
   "metadata": {},
   "outputs": [],
   "source": [
    "# Creating train dataset. Sticking original and poor photos together.\n",
    "train_path = 'train/'\n",
    "\n",
    "for file_number in range (total_files-1):\n",
    "    quality_path = working_path + original_images_path + str(file_number) + \".JPG\"\n",
    "    poor_path = working_path + poor_images_path + str(file_number) + \".JPG\" \n",
    "    \n",
    "    images = [Image.open(x) for x in [quality_path, poor_path]]\n",
    "    widths, heights = zip(*(i.size for i in images))\n",
    "    total_width = sum(widths)\n",
    "    max_height = max(heights)\n",
    "    \n",
    "    new_image = Image.new('RGB', (total_width, max_height))\n",
    "    \n",
    "    x_offset = 0\n",
    "    for im in images:\n",
    "        new_image.paste(im, (x_offset,0))\n",
    "        x_offset += im.size[0]\n",
    "\n",
    "    save_path = working_path + train_path + str(file_number) + \".JPG\"\n",
    "    new_image.save(save_path)"
   ]
  }
 ],
 "metadata": {
  "kernelspec": {
   "display_name": "Python 3",
   "language": "python",
   "name": "python3"
  },
  "language_info": {
   "codemirror_mode": {
    "name": "ipython",
    "version": 3
   },
   "file_extension": ".py",
   "mimetype": "text/x-python",
   "name": "python",
   "nbconvert_exporter": "python",
   "pygments_lexer": "ipython3",
   "version": "3.6.8"
  }
 },
 "nbformat": 4,
 "nbformat_minor": 2
}
